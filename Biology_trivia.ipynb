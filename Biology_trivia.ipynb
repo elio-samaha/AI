{
  "nbformat": 4,
  "nbformat_minor": 0,
  "metadata": {
    "colab": {
      "provenance": [],
      "authorship_tag": "ABX9TyNKeOq9eTQ9Dg+4LehcA4AY",
      "include_colab_link": true
    },
    "kernelspec": {
      "name": "python3",
      "display_name": "Python 3"
    },
    "language_info": {
      "name": "python"
    }
  },
  "cells": [
    {
      "cell_type": "markdown",
      "metadata": {
        "id": "view-in-github",
        "colab_type": "text"
      },
      "source": [
        "<a href=\"https://colab.research.google.com/github/elio-samaha/AI/blob/main/Biology_trivia.ipynb\" target=\"_parent\"><img src=\"https://colab.research.google.com/assets/colab-badge.svg\" alt=\"Open In Colab\"/></a>"
      ]
    },
    {
      "cell_type": "code",
      "execution_count": 9,
      "metadata": {
        "colab": {
          "base_uri": "https://localhost:8080/"
        },
        "id": "0O6c5P7PZH9L",
        "outputId": "77bf551a-99ad-4717-efe2-52b72f842530"
      },
      "outputs": [
        {
          "output_type": "stream",
          "name": "stdout",
          "text": [
            "What is the sepal_length of the Iris-versicolor flower?\n",
            "1. 5.5\n",
            "2. 5.1\n",
            "3. 5.0\n",
            "4. 6.7\n",
            "The correct answer is 2\n"
          ]
        }
      ],
      "source": [
        "import pandas as pd\n",
        "import random\n",
        "\n",
        "# Load the Iris dataset\n",
        "iris_df = pd.read_csv(\"https://archive.ics.uci.edu/ml/machine-learning-databases/iris/iris.data\", header=None)\n",
        "iris_df.columns = [\"sepal_length\", \"sepal_width\", \"petal_length\", \"petal_width\", \"class\"]\n",
        "\n",
        "# Define a function that generates a multiple-choice question\n",
        "def generate_question(topic):\n",
        "    \"\"\"\n",
        "    Generate a multiple-choice question on the given topic using the Iris dataset\n",
        "    \"\"\"\n",
        "    if topic == \"biology\":\n",
        "        # Choose a random flower class\n",
        "        flower_class = iris_df[\"class\"].sample().values[0]\n",
        "        \n",
        "        # Choose a random attribute\n",
        "        attribute = random.choice([\"sepal_length\", \"sepal_width\", \"petal_length\", \"petal_width\"])\n",
        "        \n",
        "        # Choose a random value for the attribute\n",
        "        value = iris_df[iris_df[\"class\"] == flower_class][attribute].sample().values[0]\n",
        "        \n",
        "        # Create the question and answer choices\n",
        "        question = f\"What is the {attribute} of the {flower_class} flower?\"\n",
        "        answer_choices = [value,\n",
        "                          iris_df[iris_df[\"class\"] != flower_class][attribute].sample().values[0],\n",
        "                          iris_df[iris_df[\"class\"] != flower_class][attribute].sample().values[0],\n",
        "                          iris_df[iris_df[\"class\"] != flower_class][attribute].sample().values[0]]\n",
        "        random.shuffle(answer_choices)\n",
        "        \n",
        "        # Identify the index of the correct answer\n",
        "        correct_answer_index = answer_choices.index(value)\n",
        "        \n",
        "        # Return the question and answer choices\n",
        "        return {\"question\": question, \"answer_choices\": answer_choices, \"correct_answer\": correct_answer_index}\n",
        "        \n",
        "# Generate a question on the topic of biology\n",
        "question = generate_question(\"biology\")\n",
        "print(question[\"question\"])\n",
        "for i, choice in enumerate(question[\"answer_choices\"]):\n",
        "    print(f\"{i+1}. {choice}\")\n",
        "print(f\"The correct answer is {question['correct_answer']+1}\")\n"
      ]
    },
    {
      "cell_type": "code",
      "source": [],
      "metadata": {
        "id": "hQldnUikgBdQ"
      },
      "execution_count": null,
      "outputs": []
    }
  ]
}