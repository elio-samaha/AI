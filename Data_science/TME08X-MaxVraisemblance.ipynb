{
 "cells": [
  {
   "cell_type": "markdown",
   "metadata": {},
   "source": [
    "# Qui êtes-vous ?\n",
    "<div class=\"alert alert-block alert-info\">\n",
    "Écrire ci-dessous le nom, le prénom et le numéro étudiant de chaque membre du binôme :\n",
    "</div>"
   ]
  },
  {
   "cell_type": "raw",
   "metadata": {},
   "source": [
    "SAMAHA Elio 21105733\n",
    "CAREL Justin 21102190"
   ]
  },
  {
   "cell_type": "markdown",
   "metadata": {},
   "source": [
    "# TME 08X - Maximum de vraisemblance"
   ]
  },
  {
   "cell_type": "markdown",
   "metadata": {},
   "source": [
    "<div class=\"alert alert-block alert-warning\">\n",
    "Dans ce TME, l'objectif est d'apprendre grâce à l'estimateur de maximum de vraisemblance les paramètres de lois normales à partir d'un ensemble d'images réelles de chiffres provenant de codes postaux écrits manuellement et scannés par le service des postes américain. Ces lois normales seront ensuite exploitées pour reconnaître automatique des chiffres.\n",
    "\n",
    "Les images scannées ont été normalisées de manière à ce qu'elles soient toutes des images de 16x16 pixels en teintes de gris, et utilisées dans un travail de recherche en IA de Le Cun et al., 1990 :\n",
    "\n",
    "Y. LeCun, O. Matan, B. Boser, J. S. Denker, et al. (1990) *Handwritten zip code recognition with multilayer networks*. In ICPR, volume II, pages 35–40.\n",
    "\n",
    "Voici quelques exemples d'images de cette base : \n",
    "    \n",
    "<img src=\"usps.png\" title=\"Quelques exemples\">\n",
    "</div>"
   ]
  },
  {
   "cell_type": "code",
   "execution_count": 1,
   "metadata": {
    "collapsed": true
   },
   "outputs": [],
   "source": [
    "import numpy as np\n",
    "import pandas as pd\n",
    "import matplotlib.pyplot as plt\n",
    "%matplotlib inline"
   ]
  },
  {
   "cell_type": "markdown",
   "metadata": {},
   "source": [
    "# 1 - Prise en main des données"
   ]
  },
  {
   "cell_type": "markdown",
   "metadata": {},
   "source": [
    "<div class=\"alert alert-block alert-warning\">\n",
    "Nous allons commencer par charger des données et regarder comment elles se présentent.\n",
    "</div>"
   ]
  },
  {
   "cell_type": "markdown",
   "metadata": {},
   "source": [
    "<div class=\"alert alert-block alert-info\">\n",
    "Exécuter le bloc suivant pour charger les données.\n",
    "</div>"
   ]
  },
  {
   "cell_type": "code",
   "execution_count": 2,
   "metadata": {
    "collapsed": true
   },
   "outputs": [],
   "source": [
    "import pickle as pkl\n",
    "import gzip\n",
    "image = pkl.load(gzip.open('image.pkl.gz','rb'))\n",
    "chiffre = pkl.load(gzip.open('chiffre.pkl.gz','rb')) "
   ]
  },
  {
   "cell_type": "markdown",
   "metadata": {},
   "source": [
    "<div class=\"alert alert-block alert-info\">\n",
    "    Q1.1 - Quelles sont les longueurs des tableaux <code>image</code> et <code>chiffre</code>. La taille d'une matrice <code>image[i]</code> ?\n",
    "</div>"
   ]
  },
  {
   "cell_type": "code",
   "execution_count": 4,
   "metadata": {
    "collapsed": false,
    "scrolled": false
   },
   "outputs": [
    {
     "data": {
      "text/plain": [
       "(6229, 6229, (16, 16))"
      ]
     },
     "execution_count": 4,
     "metadata": {},
     "output_type": "execute_result"
    }
   ],
   "source": [
    "len(image), len(chiffre), image[0].shape"
   ]
  },
  {
   "cell_type": "markdown",
   "metadata": {},
   "source": [
    "<div class=\"alert alert-block alert-info\">\n",
    "    Q1.2 - Afficher les deux premières donnée du tableau <code>image</code> et les deux premières données du tableau <code>chiffre</code>.\n",
    "</div>"
   ]
  },
  {
   "cell_type": "code",
   "execution_count": 9,
   "metadata": {
    "collapsed": false,
    "scrolled": true
   },
   "outputs": [
    {
     "data": {
      "text/plain": [
       "array([ array([[ 0.        ,  0.        ,  0.        ,  0.05151367,  0.62060547,\n",
       "         0.90527344,  0.38452148,  0.38452148,  0.38452148,  0.1550293 ,\n",
       "         0.        ,  0.        ,  0.        ,  0.        ,  0.        ,\n",
       "         0.        ],\n",
       "       [ 0.        ,  0.        ,  0.09448242,  0.68994141,  1.        ,\n",
       "         1.        ,  1.        ,  1.        ,  1.        ,  0.87548828,\n",
       "         0.76904297,  0.19152832,  0.        ,  0.        ,  0.        ,\n",
       "         0.        ],\n",
       "       [ 0.        ,  0.        ,  0.63037109,  1.        ,  1.        ,\n",
       "         1.        ,  1.        ,  1.        ,  1.        ,  1.        ,\n",
       "         1.        ,  0.84912109,  0.41357422,  0.        ,  0.        ,\n",
       "         0.        ],\n",
       "       [ 0.        ,  0.        ,  0.26293945,  1.        ,  1.        ,\n",
       "         1.        ,  1.        ,  0.87548828,  0.69238281,  0.86376953,\n",
       "         1.        ,  1.        ,  0.98632812,  0.21154785,  0.        ,\n",
       "         0.        ],\n",
       "       [ 0.        ,  0.        ,  0.38110352,  1.        ,  1.        ,\n",
       "         1.        ,  1.        ,  0.54150391,  0.        ,  0.56494141,\n",
       "         1.        ,  1.        ,  1.        ,  0.50585938,  0.        ,\n",
       "         0.        ],\n",
       "       [ 0.        ,  0.        ,  0.58203125,  1.        ,  1.        ,\n",
       "         1.        ,  1.        ,  0.34106445,  0.        ,  0.07250977,\n",
       "         0.55712891,  1.        ,  1.        ,  0.76171875,  0.01699829,\n",
       "         0.        ],\n",
       "       [ 0.        ,  0.        ,  0.76513672,  1.        ,  1.        ,\n",
       "         1.        ,  0.86230469,  0.15344238,  0.        ,  0.        ,\n",
       "         0.        ,  0.48754883,  1.        ,  0.91259766,  0.01450348,\n",
       "         0.        ],\n",
       "       [ 0.        ,  0.00400162,  0.92626953,  1.        ,  1.        ,\n",
       "         1.        ,  0.37695312,  0.        ,  0.        ,  0.        ,\n",
       "         0.        ,  0.0880127 ,  0.99707031,  0.93994141,  0.19995117,\n",
       "         0.        ],\n",
       "       [ 0.        ,  0.14855957,  1.        ,  1.        ,  1.        ,\n",
       "         1.        ,  0.15905762,  0.        ,  0.        ,  0.        ,\n",
       "         0.        ,  0.30297852,  1.        ,  1.        ,  0.15844727,\n",
       "         0.        ],\n",
       "       [ 0.        ,  0.23999023,  0.97949219,  1.        ,  1.        ,\n",
       "         0.95849609,  0.03500366,  0.        ,  0.        ,  0.        ,\n",
       "         0.        ,  0.46850586,  1.        ,  0.95800781,  0.03448486,\n",
       "         0.        ],\n",
       "       [ 0.        ,  0.        ,  0.88183594,  1.        ,  1.        ,\n",
       "         0.94580078,  0.19555664,  0.        ,  0.        ,  0.        ,\n",
       "         0.17749023,  0.80566406,  1.        ,  0.81005859,  0.        ,\n",
       "         0.        ],\n",
       "       [ 0.        ,  0.03149414,  0.86132812,  1.        ,  1.        ,\n",
       "         1.        ,  0.41455078,  0.        ,  0.        ,  0.28100586,\n",
       "         0.94384766,  1.        ,  0.96386719,  0.45605469,  0.        ,\n",
       "         0.        ],\n",
       "       [ 0.        ,  0.        ,  0.20703125,  1.        ,  1.        ,\n",
       "         1.        ,  0.93408203,  0.69238281,  0.69238281,  0.92382812,\n",
       "         1.        ,  1.        ,  0.78076172,  0.        ,  0.        ,\n",
       "         0.        ],\n",
       "       [ 0.        ,  0.        ,  0.08349609,  0.85009766,  1.        ,\n",
       "         1.        ,  1.        ,  1.        ,  1.        ,  1.        ,\n",
       "         1.        ,  0.68798828,  0.04049683,  0.        ,  0.        ,\n",
       "         0.        ],\n",
       "       [ 0.        ,  0.        ,  0.        ,  0.19348145,  0.9296875 ,\n",
       "         1.        ,  1.        ,  1.        ,  1.        ,  0.96386719,\n",
       "         0.52832031,  0.0585022 ,  0.        ,  0.        ,  0.        ,\n",
       "         0.        ],\n",
       "       [ 0.        ,  0.        ,  0.        ,  0.        ,  0.24499512,\n",
       "         0.71777344,  0.99951172,  0.99951172,  0.71337891,  0.34643555,\n",
       "         0.        ,  0.        ,  0.        ,  0.        ,  0.        ,\n",
       "         0.        ]]),\n",
       "       array([[ 0.        ,  0.        ,  0.        ,  0.        ,  0.        ,\n",
       "         0.        ,  0.29443359,  0.63769531,  0.74609375,  0.67285156,\n",
       "         0.0994873 ,  0.59423828,  0.60302734,  0.        ,  0.        ,\n",
       "         0.        ],\n",
       "       [ 0.        ,  0.        ,  0.        ,  0.        ,  0.        ,\n",
       "         0.55957031,  0.99462891,  1.        ,  0.80761719,  0.91015625,\n",
       "         0.99072266,  0.99755859,  0.98632812,  0.0539856 ,  0.        ,\n",
       "         0.        ],\n",
       "       [ 0.        ,  0.        ,  0.        ,  0.        ,  0.51171875,\n",
       "         0.99609375,  0.98193359,  0.43554688,  0.00550079,  0.13098145,\n",
       "         0.91845703,  1.        ,  0.98339844,  0.04251099,  0.        ,\n",
       "         0.        ],\n",
       "       [ 0.        ,  0.        ,  0.        ,  0.41601562,  0.99267578,\n",
       "         0.98925781,  0.34692383,  0.        ,  0.        ,  0.06100464,\n",
       "         0.94580078,  1.        ,  0.83251953,  0.00200081,  0.        ,\n",
       "         0.        ],\n",
       "       [ 0.        ,  0.        ,  0.00900269,  0.73193359,  1.        ,\n",
       "         0.43139648,  0.        ,  0.        ,  0.        ,  0.62988281,\n",
       "         1.        ,  1.        ,  0.63574219,  0.        ,  0.        ,\n",
       "         0.        ],\n",
       "       [ 0.        ,  0.        ,  0.05551147,  0.99072266,  0.96289062,\n",
       "         0.04299927,  0.        ,  0.02850342,  0.58154297,  0.99365234,\n",
       "         1.        ,  1.        ,  0.39550781,  0.        ,  0.        ,\n",
       "         0.        ],\n",
       "       [ 0.        ,  0.        ,  0.        ,  0.79394531,  1.        ,\n",
       "         0.61132812,  0.59765625,  0.87988281,  1.        ,  1.        ,\n",
       "         1.        ,  0.99072266,  0.1204834 ,  0.        ,  0.        ,\n",
       "         0.        ],\n",
       "       [ 0.        ,  0.        ,  0.        ,  0.07098389,  0.68896484,\n",
       "         1.        ,  1.        ,  0.95751953,  0.52734375,  0.58007812,\n",
       "         1.        ,  0.78271484,  0.        ,  0.        ,  0.        ,\n",
       "         0.        ],\n",
       "       [ 0.        ,  0.        ,  0.        ,  0.        ,  0.0114975 ,\n",
       "         0.19604492,  0.31591797,  0.08947754,  0.00200081,  0.79345703,\n",
       "         1.        ,  0.42553711,  0.        ,  0.        ,  0.        ,\n",
       "         0.        ],\n",
       "       [ 0.        ,  0.        ,  0.        ,  0.        ,  0.        ,\n",
       "         0.        ,  0.        ,  0.        ,  0.18347168,  0.99707031,\n",
       "         0.98046875,  0.12451172,  0.        ,  0.        ,  0.        ,\n",
       "         0.        ],\n",
       "       [ 0.        ,  0.        ,  0.        ,  0.        ,  0.        ,\n",
       "         0.        ,  0.        ,  0.        ,  0.48095703,  1.        ,\n",
       "         0.74072266,  0.        ,  0.        ,  0.        ,  0.        ,\n",
       "         0.        ],\n",
       "       [ 0.        ,  0.        ,  0.        ,  0.        ,  0.        ,\n",
       "         0.        ,  0.        ,  0.00900269,  0.81640625,  1.        ,\n",
       "         0.39550781,  0.        ,  0.        ,  0.        ,  0.        ,\n",
       "         0.        ],\n",
       "       [ 0.        ,  0.        ,  0.        ,  0.        ,  0.        ,\n",
       "         0.        ,  0.        ,  0.19848633,  1.        ,  0.99707031,\n",
       "         0.15454102,  0.        ,  0.        ,  0.        ,  0.        ,\n",
       "         0.        ],\n",
       "       [ 0.        ,  0.        ,  0.        ,  0.        ,  0.        ,\n",
       "         0.        ,  0.        ,  0.46240234,  1.        ,  0.99560547,\n",
       "         0.10198975,  0.        ,  0.        ,  0.        ,  0.        ,\n",
       "         0.        ],\n",
       "       [ 0.        ,  0.        ,  0.        ,  0.        ,  0.        ,\n",
       "         0.        ,  0.        ,  0.59326172,  1.        ,  0.91113281,\n",
       "         0.08752441,  0.        ,  0.        ,  0.        ,  0.        ,\n",
       "         0.        ],\n",
       "       [ 0.        ,  0.        ,  0.        ,  0.        ,  0.        ,\n",
       "         0.        ,  0.        ,  0.22497559,  0.93115234,  0.48461914,\n",
       "         0.        ,  0.        ,  0.        ,  0.        ,  0.        ,\n",
       "         0.        ]])], dtype=object)"
      ]
     },
     "execution_count": 9,
     "metadata": {},
     "output_type": "execute_result"
    }
   ],
   "source": [
    "image[:2]"
   ]
  },
  {
   "cell_type": "code",
   "execution_count": 10,
   "metadata": {
    "collapsed": false
   },
   "outputs": [
    {
     "data": {
      "text/plain": [
       "array([0, 9])"
      ]
     },
     "execution_count": 10,
     "metadata": {},
     "output_type": "execute_result"
    }
   ],
   "source": [
    "chiffre[:2]"
   ]
  },
  {
   "cell_type": "markdown",
   "metadata": {},
   "source": [
    "<div class=\"alert alert-block alert-warning\">\n",
    "Les données se présentent sous la forme de deux tableaux. Le premier tableau <code>image</code> contient des images dont nous allons voir l'encodage un peu plus loin. Le second tableau <code>chiffre</code> contient des chiffres entre 0 et 9.\n",
    "</div>"
   ]
  },
  {
   "cell_type": "markdown",
   "metadata": {},
   "source": [
    "<div class=\"alert alert-block alert-info\">\n",
    "Q1.3 - Dessiner un histogramme des effectifs de chaque chiffre dans la colonne <code>'chiffre'</code>.\n",
    "</div>"
   ]
  },
  {
   "cell_type": "code",
   "execution_count": 13,
   "metadata": {
    "collapsed": false
   },
   "outputs": [
    {
     "data": {
      "image/png": "[encoded data removed]",
      "text/plain": [
       "<matplotlib.figure.Figure at 0x7fbd37a49ac8>"
      ]
     },
     "metadata": {},
     "output_type": "display_data"
    }
   ],
   "source": [
    "_ = plt.hist(chiffre, bins=10)"
   ]
  },
  {
   "cell_type": "markdown",
   "metadata": {},
   "source": [
    "<div class=\"alert alert-block alert-warning\">\n",
    "    Une image du tableau <code>image</code> correspond à une matrice :\n",
    "$$\n",
    "\\begin{bmatrix} \n",
    "    x_{0, 0} & \\dots & x_{0, 15} \\\\\n",
    "    \\vdots & \\ddots & \\vdots \\\\\n",
    "    x_{15, 0} & \\dots & x_{15, 15} \n",
    "    \\end{bmatrix}\n",
    "$$\n",
    "\n",
    "où les $x_{i,j}$ sont des nombres réels compris entre 0 et 1 qui représentent une teint de gris (0 = noir, 1 = blanc).\n",
    "</div>"
   ]
  },
  {
   "cell_type": "markdown",
   "metadata": {},
   "source": [
    "<div class=\"alert alert-block alert-info\">\n",
    "    Exécuter le bloc suivant pour définir la fonction <code>affiche_une_image</code> qui permet d'afficher une image.\n",
    "</div>"
   ]
  },
  {
   "cell_type": "code",
   "execution_count": 14,
   "metadata": {
    "collapsed": true
   },
   "outputs": [],
   "source": [
    "def affiche_une_image(image):\n",
    "    _ = plt.imshow(image, cmap='gray', interpolation='none')\n",
    "    _ = plt.colorbar()\n",
    "    return None"
   ]
  },
  {
   "cell_type": "markdown",
   "metadata": {},
   "source": [
    "<div class=\"alert alert-block alert-info\">\n",
    "Q1.4 - Afficher l'image d'indice 42 grâce à la fonction précédente.\n",
    "</div>"
   ]
  },
  {
   "cell_type": "code",
   "execution_count": 15,
   "metadata": {
    "collapsed": false,
    "scrolled": false
   },
   "outputs": [
    {
     "data": {
      "image/png": "[encoded data removed]",
      "text/plain": [
       "<matplotlib.figure.Figure at 0x7fbd379ca5c0>"
      ]
     },
     "metadata": {},
     "output_type": "display_data"
    }
   ],
   "source": [
    "affiche_une_image(image[42])"
   ]
  },
  {
   "cell_type": "markdown",
   "metadata": {},
   "source": [
    "<div class=\"alert alert-block alert-warning\">\n",
    "Vous devez voir un 1.\n",
    "</div>"
   ]
  },
  {
   "cell_type": "markdown",
   "metadata": {},
   "source": [
    "<div class=\"alert alert-block alert-info\">\n",
    "    Q1.5 - Afficher la valeur du tableau <code>chiffre</code> pour le même index.\n",
    "</div>"
   ]
  },
  {
   "cell_type": "code",
   "execution_count": 16,
   "metadata": {
    "collapsed": false,
    "scrolled": true
   },
   "outputs": [
    {
     "data": {
      "text/plain": [
       "1"
      ]
     },
     "execution_count": 16,
     "metadata": {},
     "output_type": "execute_result"
    }
   ],
   "source": [
    "chiffre[42]"
   ]
  },
  {
   "cell_type": "markdown",
   "metadata": {},
   "source": [
    "<div class=\"alert alert-block alert-warning\">\n",
    "Vous devez obtenir la valeur 1.\n",
    "</div>"
   ]
  },
  {
   "cell_type": "markdown",
   "metadata": {},
   "source": [
    "<div class=\"alert alert-block alert-info\">\n",
    "Exécuter les deux blocs suivants pour afficher plusieurs images à partir d'une sous-partie du tableau de données.\n",
    "\n",
    "Remarque : la fonction limite le nombre d'image affichées à 10 pour réduire le temps de calcul.\n",
    "</div>"
   ]
  },
  {
   "cell_type": "code",
   "execution_count": 17,
   "metadata": {
    "collapsed": true
   },
   "outputs": [],
   "source": [
    "def affiche_des_images(tab_images):\n",
    "    nb = min(len(tab_images), 10)\n",
    "    fig = plt.figure(figsize=(16, 16))\n",
    "    for i in range(nb):\n",
    "        fig.add_subplot(1, nb, i+1)\n",
    "        _ = plt.imshow(tab_images[i], cmap='gray', interpolation='none')\n",
    "    plt.show()"
   ]
  },
  {
   "cell_type": "code",
   "execution_count": 18,
   "metadata": {
    "collapsed": false,
    "scrolled": false
   },
   "outputs": [
    {
     "data": {
      "image/png": "[encoded data removed]",
      "text/plain": [
       "<matplotlib.figure.Figure at 0x7fbd379caef0>"
      ]
     },
     "metadata": {},
     "output_type": "display_data"
    }
   ],
   "source": [
    "affiche_des_images(image)"
   ]
  },
  {
   "cell_type": "markdown",
   "metadata": {},
   "source": [
    "# 2 - Génération d'images du chiffre 8"
   ]
  },
  {
   "cell_type": "markdown",
   "metadata": {},
   "source": [
    "<div class=\"alert alert-block alert-info\">\n",
    "Q2.1 - Déclarer la variable <code>huit</code> qui contiendra toutes les lignes correspondant au chiffre 8.\n",
    "</div>"
   ]
  },
  {
   "cell_type": "code",
   "execution_count": 19,
   "metadata": {
    "collapsed": true
   },
   "outputs": [],
   "source": [
    "huit = image[chiffre == 8]"
   ]
  },
  {
   "cell_type": "markdown",
   "metadata": {},
   "source": [
    "<div class=\"alert alert-block alert-info\">\n",
    "    Q2.2 - Afficher les images du tableau <code>huit</code> pour vérifier.\n",
    "</div>"
   ]
  },
  {
   "cell_type": "code",
   "execution_count": 20,
   "metadata": {
    "collapsed": false,
    "scrolled": true
   },
   "outputs": [
    {
     "data": {
      "image/png": "[encoded data removed]",
      "text/plain": [
       "<matplotlib.figure.Figure at 0x7fbd36bd3780>"
      ]
     },
     "metadata": {},
     "output_type": "display_data"
    }
   ],
   "source": [
    "affiche_des_images(huit)"
   ]
  },
  {
   "cell_type": "markdown",
   "metadata": {},
   "source": [
    "<div class=\"alert alert-block alert-warning\">\n",
    "On définit des variable aléatoire représentant les pixels composant une image de 8 :\n",
    "$$\n",
    "\\begin{bmatrix} \n",
    "    X_{0, 0} & \\dots & X_{0, 15} \\\\\n",
    "    \\vdots & \\ddots & \\vdots \\\\\n",
    "    X_{15, 0} & \\dots & X_{15, 15} \n",
    "    \\end{bmatrix}\n",
    "$$\n",
    "\n",
    "On suppose de plus que la teinte de chaque pixel suit une loi normale.\n",
    "$$\\forall i\\in\\{0,\\dots,15\\}, \\forall j\\in\\{0,\\dots,15\\}, X_{i,j} \\sim {\\mathcal N}(\\mu^{(8)}_{i,j},(σ^{8}_{i,j})^2)$$ \n",
    "</div>"
   ]
  },
  {
   "cell_type": "markdown",
   "metadata": {},
   "source": [
    "<div class=\"alert alert-block alert-warning\">\n",
    "L'estimateur de maximum de vraisemblance pour les paramètres d'une loi normale\n",
    "    pour des $X_i \\sim {\\mathcal N}(\\mu, \\sigma^2)$ <em>iid</em> sont :\n",
    "\n",
    "$$ \\text{moyenne : } M_{ML} = \\frac{1}{n} \\sum_{i = 1}^{n} X_i$$\n",
    "$$ \\text{variance : } S_{ML}^2 = \\frac{1}{n} \\sum_{i = 1}^{n} (X_i - M_{ML}) \\text{ (légèrement biaisé).}$$\n",
    "</div>"
   ]
  },
  {
   "cell_type": "markdown",
   "metadata": {},
   "source": [
    "<div class=\"alert alert-block alert-info\">\n",
    "    Q2.3 - Pour les données <code>huit</code>, écrire une fonction <code>estimation</code> qui, pour chaque pixel, calcule une estimation de $\\mu^{(8)}_{i,j}$ et $(\\sigma^{8}_{i,j})^2$. On renverra le resultat sous la forme d'une matrice $16 \\times 16$ (comme pour une image).\n",
    "\n",
    "</div>"
   ]
  },
  {
   "cell_type": "code",
   "execution_count": 40,
   "metadata": {
    "collapsed": false
   },
   "outputs": [],
   "source": [
    "def estimation(image):\n",
    "    return np.mean(image), np.var(image)"
   ]
  },
  {
   "cell_type": "markdown",
   "metadata": {},
   "source": [
    "<div class=\"alert alert-block alert-info\">\n",
    "Q2.4 - Calculer dans deux variables <code>mu8</code> et <code>sig_carre8</code>, les matrices des $\\mu^{(8)}_{i,j}$ et des $(σ^{8}_{i,j})^2$.\n",
    "</div>"
   ]
  },
  {
   "cell_type": "code",
   "execution_count": 53,
   "metadata": {
    "collapsed": false,
    "scrolled": true
   },
   "outputs": [],
   "source": [
    "mu8, sig_carre8 = estimation(huit)"
   ]
  },
  {
   "cell_type": "markdown",
   "metadata": {},
   "source": [
    "<div class=\"alert alert-block alert-info\">\n",
    "Q2.5 - Générer un huit en tirant chaque pixel suivant une loi normale $\\mathcal{N}(\\mu^{(8)}_{i,j}, (σ^{8}_{i,j})^2)$ et l'afficher.\n",
    "</div>"
   ]
  },
  {
   "cell_type": "code",
   "execution_count": 97,
   "metadata": {
    "collapsed": false,
    "scrolled": true
   },
   "outputs": [],
   "source": [
    "#unhuit = [[np.random.normal(mu, sig2 + 1e-15) for mu, sig2 in zip(rowmu, rowsig2)] for rowmu, rowsig2 in zip(mu8, sig_carre8)]\n",
    "##unhuit = [[np.random.normal(mu8[i,j], sig2[i,j] + 1e-15) for i in range(16)] for j in range(16)]"
   ]
  },
  {
   "cell_type": "code",
   "execution_count": 108,
   "metadata": {
    "collapsed": false
   },
   "outputs": [
    {
     "data": {
      "image/png": "[encoded data removed]",
      "text/plain": [
       "<matplotlib.figure.Figure at 0x7fbd37a58278>"
      ]
     },
     "metadata": {},
     "output_type": "display_data"
    }
   ],
   "source": [
    "unhuit = np.random.normal(mu8, np.maximum(sig_carre8, 1e-15))\n",
    "affiche_une_image(unhuit)"
   ]
  },
  {
   "cell_type": "markdown",
   "metadata": {},
   "source": [
    "# 3 - On refait le travail pour tous les chiffres"
   ]
  },
  {
   "cell_type": "markdown",
   "metadata": {},
   "source": [
    "<div class=\"alert alert-block alert-info\">\n",
    "    3.1 - Créer une liste <code>parametres_tous_chiffres</code> des estimations pour tous les chiffres de 0 à 9.\n",
    "</div>"
   ]
  },
  {
   "cell_type": "code",
   "execution_count": 105,
   "metadata": {
    "collapsed": false,
    "scrolled": true
   },
   "outputs": [],
   "source": [
    "parametres_tous_chiffres = [estimation(image[chiffre == i]) for i in range(10)]"
   ]
  },
  {
   "cell_type": "markdown",
   "metadata": {},
   "source": [
    "<div class=\"alert alert-block alert-warning\">\n",
    "La loi normale (de paramètre $\\mu$ et $\\sigma^2$) est la loi de la\n",
    "    variable aléatoire $X$ réelle ($\\mathcal{X} = \\mathbb{R}$) telle que\n",
    "    $$\n",
    "    f(x) = \\frac1{\\sigma\\sqrt{2\\pi}}\\exp\\left(-\\frac{(x - \\mu)^2}{2\n",
    "    \\sigma^2}\\right).\n",
    "    $$\n",
    "    \n",
    "Nous allons faire l'hypothèse (certes un peu forte mais tellement pratique) que, dans chaque classe, les teintes des pixels d'une image sont indépendantes. On peut donc définir la loi jointe pour une image comme le produit des lois marginales.\n",
    "    \n",
    "$$f_{X_{0,0}, \\dots, X_{0, 15}, \\dots X_{15, 0}, \\dots, X_{15, 15}}(x_{0,0}, \\dots, x_{0, 15}, \\dots x_{15, 0}, \\dots, x_{15, 15}) \\approx \\prod_{i=0}^{15} \\prod_{j=0}^{15} f_{X_{i, j}}(x_{i,j})$$\n",
    "\n",
    "En passant au logarithme, on obtient la log-densité :\n",
    "$$\\log \\left( f_{X_{0,0}, \\dots, X_{0, 15}, \\dots X_{15, 0}, \\dots, X_{15, 15}}(x_{0,0}, \\dots, x_{0, 15}, \\dots x_{15, 0}, \\dots, x_{15, 15}) \\right) \\approx -\\frac{1}{2} \\sum_{i=0}^{15} \\sum_{j=0}^{15} \\left[ \\log(2\\pi \\sigma^2_{i,j}) + \\frac{(x_{i, j}-\\mu_{i, j})^2}{\\sigma_{i,j}^2} \\right]$$\n",
    "    \n",
    "</div>"
   ]
  },
  {
   "cell_type": "markdown",
   "metadata": {},
   "source": [
    "<div class=\"alert alert-block alert-info\">\n",
    "    3.2 - Écrire une fonction <code>log_densite</code> qui étant donné une <code>image</code> et les <code>parametres</code> d'un chiffre, calcule valeur de la fonction de densité pour une image donnée et un modèle de chiffre donné.\n",
    "    \n",
    "Dans la fonction, certaines valeurs de la matrice de variance valent 0 (ce qui pose des problèmes). Pour palier cela, ajouter la ligne suivant pour remplacer les zéros par des $10^{-3}$ :\n",
    "\n",
    "<code>sig2 = np.maximum(sig2, 1e-3)</code>\n",
    "</div>"
   ]
  },
  {
   "cell_type": "code",
   "execution_count": 121,
   "metadata": {
    "collapsed": false
   },
   "outputs": [],
   "source": [
    "def log_densite(x, params):\n",
    "    mu, sig2 = params\n",
    "    sig2 = np.maximum(sig2, 1e-3)\n",
    "    return -1/2 * np.sum(np.log(2*np.pi*sig2) + (x - mu)**2/sig2)"
   ]
  },
  {
   "cell_type": "markdown",
   "metadata": {},
   "source": [
    "<div class=\"alert alert-block alert-info\">Exécuter le bloc suivant pour tester la fonction.\n",
    "</div>"
   ]
  },
  {
   "cell_type": "code",
   "execution_count": 122,
   "metadata": {
    "collapsed": false
   },
   "outputs": [
    {
     "data": {
      "text/plain": [
       "-143.29946650088695"
      ]
     },
     "execution_count": 122,
     "metadata": {},
     "output_type": "execute_result"
    }
   ],
   "source": [
    "log_densite(image[0], (mu8, sig_carre8))"
   ]
  },
  {
   "cell_type": "markdown",
   "metadata": {},
   "source": [
    "<div class=\"alert alert-block alert-warning\">\n",
    "    Vous devez trouver <code>-143.29946650088695</code>\n",
    "</div>"
   ]
  },
  {
   "cell_type": "markdown",
   "metadata": {},
   "source": [
    "## 4 - Le modèle le plus vraisemblable\n",
    "<div class=\"alert alert-block alert-info\">\n",
    "4.1 - Écrire une fonction <code>plus_vraisemblable</code> qui, étant donné une image et l'ensemble de paramètres déterminés dans les questions précédentes, renvoie le chiffre pour lequel la vraisemblance est la plus grande.\n",
    "    \n",
    "Comme on calcule la vraisemblance d'une seule image (pour un chiffre donné), la vraisemblance est égale à la valeur de la densité (produit portant sur une seule valeur).\n",
    "</div>"
   ]
  },
  {
   "cell_type": "code",
   "execution_count": 125,
   "metadata": {
    "collapsed": true
   },
   "outputs": [],
   "source": [
    "def plus_vraisemblable(img, ZJDZEJF):\n",
    "    return max(range(10), key=lambda i: log_densite(img, ZJDZEJF[i]))"
   ]
  },
  {
   "cell_type": "markdown",
   "metadata": {},
   "source": [
    "<div class=\"alert alert-block alert-info\">\n",
    "Tester votre fonction pour voir si la vraisemblance maximale correspond à un 6\n",
    "</div>"
   ]
  },
  {
   "cell_type": "code",
   "execution_count": 126,
   "metadata": {
    "collapsed": false
   },
   "outputs": [
    {
     "data": {
      "text/plain": [
       "6"
      ]
     },
     "execution_count": 126,
     "metadata": {},
     "output_type": "execute_result"
    },
    {
     "data": {
      "image/png": "[encoded data removed]",
      "text/plain": [
       "<matplotlib.figure.Figure at 0x7fbd37410908>"
      ]
     },
     "metadata": {},
     "output_type": "display_data"
    }
   ],
   "source": [
    "affiche_une_image(image[100])\n",
    "plus_vraisemblable(image[100], parametres_tous_chiffres)"
   ]
  },
  {
   "cell_type": "markdown",
   "metadata": {},
   "source": [
    "<div class=\"alert alert-block alert-info\">\n",
    "Q4.2 - Écrire une fonction  <code>prediction</code> qui, étant donné un tableau de données images et l'ensemble de paramètres déterminés dans les questions précédentes, revoie la liste de chiffres prédits par maximum de vraisemblance.\n",
    "</div>"
   ]
  },
  {
   "cell_type": "code",
   "execution_count": 136,
   "metadata": {
    "collapsed": false
   },
   "outputs": [],
   "source": [
    "def prediction(images, parametres):\n",
    "    return [plus_vraisemblable(img, parametres) for img in images]"
   ]
  },
  {
   "cell_type": "markdown",
   "metadata": {},
   "source": [
    "<div class=\"alert alert-block alert-info\">\n",
    "Q4.3 - Calculer dans une variable <code>chiffre_predit</code> le vecteur des prédictions pour chaque image.\n",
    "</div>"
   ]
  },
  {
   "cell_type": "code",
   "execution_count": 139,
   "metadata": {
    "collapsed": false,
    "scrolled": true
   },
   "outputs": [
    {
     "name": "stdout",
     "output_type": "stream",
     "text": [
      "[0, 9, 7, 8, 2, 5, 2, 0, 9, 0, 7, 3, 0, 6, 6, 5, 2, 1, 6, 4, 0, 6, 5, 9, 8, 4, 0, 7, 6, 5, 4, 4, 2, 7, 6, 6, 6, 2, 1, 1, 8, 1, 1, 6, 0, 3, 1, 1, 8, 0, 7, 2, 5, 0, 2, 9, 9, 2, 0, 8, 6, 0, 6, 9, 8, 7, 9, 1, 3, 5, 1, 0, 0, 6, 6, 2, 1, 3, 9, 0, 0, 5, 8, 5, 2, 1, 0, 1, 0, 8, 3, 4, 0, 9, 1, 5, 0, 0, 0, 2]\n"
     ]
    }
   ],
   "source": [
    "chiffre_predit = prediction(image, parametres_tous_chiffres)\n",
    "print(chiffre_predit[:100])"
   ]
  },
  {
   "cell_type": "markdown",
   "metadata": {},
   "source": [
    "<div class=\"alert alert-block alert-info\">\n",
    "    4.4 - Écrire une fonction <code>matrice_confusion</code> qui, étant donné le vecteur de prédictions et le vecteur de vrais chiffres, calcule la matrice de confusion $10 \\times 10$ définie ainsi :\n",
    "$$\n",
    "\\begin{bmatrix} \n",
    "    n_{0, 0} & \\dots & n_{0, 15} \\\\\n",
    "    \\vdots & \\ddots & \\vdots \\\\\n",
    "    n_{15, 0} & \\dots & n_{15, 15} \n",
    "    \\end{bmatrix}\n",
    "$$\n",
    "où $n_{i, j}$ est le nombre d'occurences où on a fait la prédiction du chiffre $i$ alors que le vrai chiffre est $j$.\n",
    "</div>"
   ]
  },
  {
   "cell_type": "code",
   "execution_count": 145,
   "metadata": {
    "collapsed": false
   },
   "outputs": [],
   "source": [
    "def matrice_confusion(preds, vrais):\n",
    "    res = np.zeros((10, 10))\n",
    "    for pred, vrai in zip(preds, vrais):\n",
    "        if pred == vrai:\n",
    "            continue\n",
    "        res[pred, vrai] += 1\n",
    "    return res"
   ]
  },
  {
   "cell_type": "markdown",
   "metadata": {},
   "source": [
    "<div class=\"alert alert-block alert-info\">\n",
    "Exécuter le bloc suivant pour afficher la matrice de confusion sous la forme d'une image. Interpréter.\n",
    "</div>"
   ]
  },
  {
   "cell_type": "code",
   "execution_count": 146,
   "metadata": {
    "collapsed": false,
    "scrolled": true
   },
   "outputs": [
    {
     "data": {
      "image/png": "[encoded data removed]",
      "text/plain": [
       "<matplotlib.figure.Figure at 0x7fbd374b2ba8>"
      ]
     },
     "metadata": {},
     "output_type": "display_data"
    }
   ],
   "source": [
    "_ = plt.imshow(matrice_confusion(chiffre_predit, chiffre), interpolation='none')\n",
    "_ = plt.colorbar()"
   ]
  },
  {
   "cell_type": "raw",
   "metadata": {},
   "source": [
    "Notre modèle confond les 9 et les 4 (il fait aussi 0 -> 8 et 5 -> 6), mais à l'air de bien fonctionner sur le reste (précision: comme il a été entraîné et testé sur la même base, ce jugement est optimiste)."
   ]
  }
 ],
 "metadata": {
  "anaconda-cloud": {},
  "kernelspec": {
   "display_name": "Python [default]",
   "language": "python",
   "name": "python3"
  },
  "language_info": {
   "codemirror_mode": {
    "name": "ipython",
    "version": 3
   },
   "file_extension": ".py",
   "mimetype": "text/x-python",
   "name": "python",
   "nbconvert_exporter": "python",
   "pygments_lexer": "ipython3",
   "version": "3.5.2"
  }
 },
 "nbformat": 4,
 "nbformat_minor": 5
}
