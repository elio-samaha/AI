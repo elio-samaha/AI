{
 "cells": [
  {
   "cell_type": "markdown",
   "metadata": {},
   "source": [
    "# Qui êtes-vous ?\n",
    "<div class=\"alert alert-block alert-info\">\n",
    "Écrire ci-dessous le nom, le prénom et le numéro étudiant de chaque membre du binôme :\n",
    "</div>"
   ]
  },
  {
   "cell_type": "code",
   "execution_count": null,
   "metadata": {
    "collapsed": true
   },
   "outputs": [],
   "source": [
    "# NOM-1 Prénom-1 NuméroEtud-1\n",
    "#Samaha Elio 21105733\n",
    "# NOM-2 Prénom-2 NuméroEtud-2\n",
    "#Carel Justin 21102190"
   ]
  },
  {
   "cell_type": "markdown",
   "metadata": {},
   "source": [
    "# TME 07X - Variables continues"
   ]
  },
  {
   "cell_type": "code",
   "execution_count": 31,
   "metadata": {
    "collapsed": true
   },
   "outputs": [],
   "source": [
    "import numpy as np\n",
    "import pandas as pd\n",
    "import matplotlib.pyplot as plt\n",
    "import math\n",
    "%matplotlib inline"
   ]
  },
  {
   "cell_type": "markdown",
   "metadata": {},
   "source": [
    "## 1 - Loi uniforme"
   ]
  },
  {
   "cell_type": "markdown",
   "metadata": {},
   "source": [
    "<div class=\"alert alert-block alert-warning\">\n",
    "    La loi uniforme sur l'intervalle $[0, 1]$ est la loi de la variable\n",
    "    aléatoire $X$ réelle à valeurs dans $[0, 1]$ telle que\n",
    "    $$\n",
    "    f(x) = 1\\text{ si $x \\in [0, 1]$ et 0 sinon}.\n",
    "    $$\n",
    "    On note alors $X \\sim \\mathcal{U}([0, 1])$.\n",
    "</div>"
   ]
  },
  {
   "cell_type": "markdown",
   "metadata": {},
   "source": [
    "<div class=\"alert alert-block alert-info\">\n",
    "Q1.1 - Écrire la définition de la fonction <code>loi_uniforme</code> qui étant donné une valeur <code>x</code>, renvoie la valeur de la fonction densité de la loi uniforme en <code>x</code>.\n",
    "</div>"
   ]
  },
  {
   "cell_type": "code",
   "execution_count": 7,
   "metadata": {
    "collapsed": false
   },
   "outputs": [],
   "source": [
    "def loi_uniforme(x):\n",
    "    return int(x  >= 0 and x <= 1)\n"
   ]
  },
  {
   "cell_type": "markdown",
   "metadata": {},
   "source": [
    "<div class=\"alert alert-block alert-warning\">\n",
    "    On peut utiliser la fonction <code>np.arange(xmin, xmax, delta)</code> pour générer un vecteur de valeurs comprises entre <code>xmin</code> inclus et <code>xmax</code> exclu avec un espacement égal à <code>delta</code> entre deux valeurs successives.\n",
    "</div>"
   ]
  },
  {
   "cell_type": "markdown",
   "metadata": {},
   "source": [
    "<div class=\"alert alert-block alert-info\">\n",
    "Exécuter le bloc ci-dessous pour obtenir les valeurs entre 0 et 1 espacées de 0.1.\n",
    "</div>"
   ]
  },
  {
   "cell_type": "code",
   "execution_count": 8,
   "metadata": {
    "collapsed": false
   },
   "outputs": [
    {
     "data": {
      "text/plain": [
       "array([ 0. ,  0.1,  0.2,  0.3,  0.4,  0.5,  0.6,  0.7,  0.8,  0.9])"
      ]
     },
     "execution_count": 8,
     "metadata": {},
     "output_type": "execute_result"
    }
   ],
   "source": [
    "np.arange(0, 1, .1)"
   ]
  },
  {
   "cell_type": "markdown",
   "metadata": {},
   "source": [
    "<div class=\"alert alert-block alert-info\">\n",
    "    Q1.2 - Dessiner une courbe qui donne l'allure de la fonction (densité) <code>loi_uniforme</code> entre -1 et 2.\n",
    "</div>"
   ]
  },
  {
   "cell_type": "code",
   "execution_count": 12,
   "metadata": {
    "collapsed": false
   },
   "outputs": [
    {
     "data": {
      "text/plain": [
       "[<matplotlib.lines.Line2D at 0x7f1de1a67898>]"
      ]
     },
     "execution_count": 12,
     "metadata": {},
     "output_type": "execute_result"
    },
    {
     "data": {
      "image/png": "[encoded data removed]",
      "text/plain": [
       "<matplotlib.figure.Figure at 0x7f1de445da20>"
      ]
     },
     "metadata": {},
     "output_type": "display_data"
    }
   ],
   "source": [
    "x = np.arange(-1 , 2 , .001)\n",
    "plt.plot(x , [loi_uniforme(e) for e in x]) "
   ]
  },
  {
   "cell_type": "markdown",
   "metadata": {},
   "source": [
    "<div class=\"alert alert-block alert-warning\">\n",
    "Pour effectuer un tirage aléatoire selon la loi $\\mathcal{U}([0, 1])$, on utilise la fonction <code>np.random.rand()</code>.\n",
    "</div>"
   ]
  },
  {
   "cell_type": "markdown",
   "metadata": {},
   "source": [
    "<div class=\"alert alert-block alert-info\">\n",
    "Q1.3 - Écrire la définition de la fonction <code>tirage_uniforme</code> qui étant donné une valeur <code>n</code>, renvoie un vecteur de <code>n</code> tirages selon la loi uniforme $\\mathcal{U}([0, 1])$.\n",
    "</div>"
   ]
  },
  {
   "cell_type": "code",
   "execution_count": 17,
   "metadata": {
    "collapsed": false
   },
   "outputs": [
    {
     "data": {
      "text/plain": [
       "array([ 0.51982165,  0.75003324,  0.50306406,  0.04000742,  0.86861428])"
      ]
     },
     "execution_count": 17,
     "metadata": {},
     "output_type": "execute_result"
    }
   ],
   "source": [
    "tirage_uniforme = np.random.rand\n",
    "tirage_uniforme(5)"
   ]
  },
  {
   "cell_type": "markdown",
   "metadata": {},
   "source": [
    "<div class=\"alert alert-block alert-info\">\n",
    "    Q1.4 - Tester la fonction <code>tirage_uniforme</code> en tirant un vecteur de taille 20.\n",
    "</div>"
   ]
  },
  {
   "cell_type": "code",
   "execution_count": 18,
   "metadata": {
    "collapsed": false
   },
   "outputs": [
    {
     "data": {
      "text/plain": [
       "array([ 0.13530918,  0.4122862 ,  0.9524591 ,  0.51140489,  0.57158494,\n",
       "        0.7830794 ,  0.63003663,  0.8746879 ,  0.42402081,  0.79252052,\n",
       "        0.52914708,  0.01678825,  0.08761334,  0.46045731,  0.19245304,\n",
       "        0.52968071,  0.93294275,  0.63106952,  0.95428322,  0.60163185])"
      ]
     },
     "execution_count": 18,
     "metadata": {},
     "output_type": "execute_result"
    }
   ],
   "source": [
    "tirage_uniforme(20)"
   ]
  },
  {
   "cell_type": "markdown",
   "metadata": {},
   "source": [
    "<div class=\"alert alert-block alert-warning\">\n",
    "    La fonction <code>plt.hist(data, bins = n)</code> permet de tracer l'histogramme des données <code>data</code> passées en entrée, en discrétisant l'intervalle d'entrée en <code>n</code> segments.\n",
    "</div>"
   ]
  },
  {
   "cell_type": "markdown",
   "metadata": {},
   "source": [
    "<div class=\"alert alert-block alert-info\">\n",
    "Q1.5 - Dessiner un histogramme à partir de 1000 tirages selon la loi uniforme.\n",
    "</div>"
   ]
  },
  {
   "cell_type": "code",
   "execution_count": 28,
   "metadata": {
    "collapsed": false
   },
   "outputs": [
    {
     "data": {
      "image/png": "[encoded data removed]",
      "text/plain": [
       "<matplotlib.figure.Figure at 0x7f1de0ee6860>"
      ]
     },
     "metadata": {},
     "output_type": "display_data"
    }
   ],
   "source": [
    "_ = plt.hist(tirage_uniforme(1000) , bins = 15 )"
   ]
  },
  {
   "cell_type": "markdown",
   "metadata": {},
   "source": [
    "<div class=\"alert alert-block alert-info\">\n",
    "Q1.6 - Quel rapport voyez-vous entre le graphique de la question 1.2 et celui de la question 1.5 ?\n",
    "</div>"
   ]
  },
  {
   "cell_type": "raw",
   "metadata": {},
   "source": [
    "La fonction de densité, f, est constante sur [0, 1]: on a la même probabilité de tomber dans chacun des intervalles"
   ]
  },
  {
   "cell_type": "markdown",
   "metadata": {},
   "source": [
    "## 2 - Loi exponentielle"
   ]
  },
  {
   "cell_type": "markdown",
   "metadata": {},
   "source": [
    "<div class=\"alert alert-block alert-warning\">\n",
    "La densité de la loi exponentielle $\\mathcal{E}(\\lambda)$ est définie sur $[0, +\\infty]$ par :\n",
    "    $$\n",
    "    f(x) = \\lambda \\exp(-\\lambda x).\n",
    "    $$\n",
    "</div>"
   ]
  },
  {
   "cell_type": "markdown",
   "metadata": {},
   "source": [
    "<div class=\"alert alert-block alert-info\">\n",
    "Q2.1 - Écrire la définition de la fonction <code>loi_exponentielle</code> qui étant donné une valeur <code>x</code> et la valeur <code>lbda</code> (du paramètre $\\lambda$), renvoie la valeur en <code>x</code>de la fonction densité de la loi exponentielle de paramètre <code>lbda</code>.\n",
    "</div>"
   ]
  },
  {
   "cell_type": "code",
   "execution_count": 32,
   "metadata": {
    "collapsed": true
   },
   "outputs": [],
   "source": [
    "def loi_exponentielle(x, lbda):\n",
    "    return lbda * math.exp(-lbda * x)"
   ]
  },
  {
   "cell_type": "markdown",
   "metadata": {},
   "source": [
    "<div class=\"alert alert-block alert-info\">\n",
    "Q2.2 - Dessiner une courbe qui donne l'allure de la fonction <code>loi_exponentielle</code> entre 0 et 5 pour un paramètre <code>lbda</code> égal à 2.\n",
    "</div>"
   ]
  },
  {
   "cell_type": "code",
   "execution_count": 33,
   "metadata": {
    "collapsed": false
   },
   "outputs": [
    {
     "data": {
      "image/png": "[encoded data removed]",
      "text/plain": [
       "<matplotlib.figure.Figure at 0x7f1de1902940>"
      ]
     },
     "metadata": {},
     "output_type": "display_data"
    }
   ],
   "source": [
    "_ = plt.plot(np.arange(0, 5, .01), np.array([loi_exponentielle(x, 2) for x in np.arange(0, 5, .01)]))"
   ]
  },
  {
   "cell_type": "markdown",
   "metadata": {},
   "source": [
    "<div class=\"alert alert-block alert-warning\">\n",
    "On a vu en cours (méthode de la fonction inverse) que si $U \\sim \\mathcal{U}([0, 1])$, alors\n",
    "    $$\n",
    "    X = -\\log(1-U)/\\lambda\n",
    "    $$\n",
    "    suit une loi exponentielle $\\mathcal{E}(\\lambda)$.\n",
    "\n",
    "</div>"
   ]
  },
  {
   "cell_type": "markdown",
   "metadata": {},
   "source": [
    "<div class=\"alert alert-block alert-info\">\n",
    "Q2.3 - Écrire la définition de la fonction <code>tirage_exponentielle</code> qui étant donné une valeur <code>n</code> et le paramètre <code>lbda</code>, renvoie un vecteur de <code>n</code> tirages selon la loi exponentielle $\\mathcal{E}(\\lambda)$.\n",
    "</div>"
   ]
  },
  {
   "cell_type": "code",
   "execution_count": 36,
   "metadata": {
    "collapsed": true
   },
   "outputs": [],
   "source": [
    "def tirage_exponentielle(n , lbda):\n",
    "    return [- math.log(1 - u)/ lbda for u in tirage_uniforme(n) ]"
   ]
  },
  {
   "cell_type": "markdown",
   "metadata": {},
   "source": [
    "<div class=\"alert alert-block alert-info\">\n",
    "Q2.4 - Dessiner un histogramme à partir de 1000 tirages selon la loi exponentielle de paramètre 2.\n",
    "</div>"
   ]
  },
  {
   "cell_type": "code",
   "execution_count": 44,
   "metadata": {
    "collapsed": false
   },
   "outputs": [
    {
     "data": {
      "image/png": "[encoded data removed]",
      "text/plain": [
       "<matplotlib.figure.Figure at 0x7f1de15f11d0>"
      ]
     },
     "metadata": {},
     "output_type": "display_data"
    }
   ],
   "source": [
    "_ = plt.hist(tirage_exponentielle(1000, 2), bins = 10)"
   ]
  },
  {
   "cell_type": "markdown",
   "metadata": {},
   "source": [
    "<div class=\"alert alert-block alert-info\">\n",
    "Q2.5 - Quel rapport voyez-vous entre le graphique de la question 2.2 et celui de la question 2.5 ?\n",
    "</div>"
   ]
  },
  {
   "cell_type": "markdown",
   "metadata": {},
   "source": [
    "X suit une loi exponentielle. En tirant beaucoup de fois des réalisations de X, on devrait trouver beaucoup plus de réalisations dans les intervalles proches de 0; c'est le cas (en tirant suffisamment et en penant des intervalles plus petits on approximerait la courbe f)"
   ]
  },
  {
   "cell_type": "markdown",
   "metadata": {},
   "source": [
    "## 3 - Vraisemblance et loi exponentielle"
   ]
  },
  {
   "cell_type": "markdown",
   "metadata": {},
   "source": [
    "<div class=\"alert alert-block alert-warning\">\n",
    "La loi exponentielle peut servir (entre autres) à caractériser la durée de vie de composants électroniques.\n",
    "</div>"
   ]
  },
  {
   "cell_type": "markdown",
   "metadata": {},
   "source": [
    "<div class=\"alert alert-block alert-info\">\n",
    "    Exécuter le bloc ci-dessous pour définir la variable <code>durees</code> contenant un vecteur d'observations de la durée de vie (en années) de 100 appareils éléctroniques de même marque et de même modèle.\n",
    "</div>"
   ]
  },
  {
   "cell_type": "code",
   "execution_count": 146,
   "metadata": {
    "collapsed": false
   },
   "outputs": [
    {
     "name": "stdout",
     "output_type": "stream",
     "text": [
      "[1, 1, 1, 1, 1, 1, 1, 1, 1, 1, 1, 1, 1, 1, 1, 1, 1, 1, 1, 1, 1, 1, 1, 1, 2, 2, 2, 2, 2, 2, 2, 2, 2, 2, 2, 2, 2, 2, 2, 2, 2, 2, 2, 3, 3, 3, 3, 3, 3, 3, 3, 3, 3, 4, 4, 4, 4, 4, 4, 4, 4, 4, 4, 4, 4, 5, 5, 5, 5, 5, 5, 5, 5, 5, 6, 6, 6, 6, 6, 7, 7, 8, 8, 8, 8, 8, 8, 8, 9, 9, 9, 9, 10, 11, 11, 13, 13, 13, 15, 16]\n"
     ]
    },
    {
     "data": {
      "text/plain": [
       "array([  1. ,   2.5,   4. ,   5.5,   7. ,   8.5,  10. ,  11.5,  13. ,\n",
       "        14.5,  16. ])"
      ]
     },
     "execution_count": 146,
     "metadata": {},
     "output_type": "execute_result"
    }
   ],
   "source": [
    "durees = np.array([ 1, 13,  1,  4,  4, 10,  2,  5,  1,  4,  4,  4,  5,  1,  9,  1, 11,\n",
    "                    4,  5,  5,  2,  2,  2,  6,  4, 16,  8,  1,  6, 13,  3,  4,  7,  1,\n",
    "                    2,  1,  5,  9,  1,  2,  1,  2,  1,  9,  3,  1,  8,  4,  7,  1,  1,\n",
    "                    1,  2,  3,  2,  8,  3, 15,  5,  1,  5,  2,  2,  2,  1,  3,  8, 11,\n",
    "                    8, 13,  1,  5,  4,  1,  3,  8,  2,  1,  3,  4,  9,  2,  1,  2,  6,\n",
    "                    2,  2,  1,  1,  1,  5,  2,  4,  3,  2,  8,  6,  6,  3,  3])\n",
    "\n",
    "print(sorted(durees))\n",
    "bornes"
   ]
  },
  {
   "cell_type": "markdown",
   "metadata": {},
   "source": [
    "<div class=\"alert alert-block alert-info\">\n",
    "Q3.1 - Dessiner un histogramme de ces observations.\n",
    "</div>"
   ]
  },
  {
   "cell_type": "code",
   "execution_count": 47,
   "metadata": {
    "collapsed": false
   },
   "outputs": [
    {
     "data": {
      "image/png": "[encoded data removed]",
      "text/plain": [
       "<matplotlib.figure.Figure at 0x7f1de1611f28>"
      ]
     },
     "metadata": {},
     "output_type": "display_data"
    }
   ],
   "source": [
    "_ = plt.hist(durees , bins = 10)"
   ]
  },
  {
   "cell_type": "markdown",
   "metadata": {},
   "source": [
    "<div class=\"alert alert-block alert-info\">\n",
    "Q3.2 - Écrire une fonction <code>vraisemblance</code> qui, étant donné n'importe quel vecteur d'observations <code>obs</code> et n'importe quelle densité de probabilité <code>f</code> (ne dépendant que de la variable $x$), renvoie la vraisemblance de ces observations.\n",
    "\n",
    "\n",
    "</div>"
   ]
  },
  {
   "cell_type": "code",
   "execution_count": 187,
   "metadata": {
    "collapsed": false
   },
   "outputs": [],
   "source": [
    "from functools import reduce\n",
    "from operator import mul\n",
    "\n",
    "def vraisemblance(obs , f):\n",
    "    return reduce(mul, map(f, obs))"
   ]
  },
  {
   "cell_type": "markdown",
   "metadata": {},
   "source": [
    "<div class=\"alert alert-block alert-info\">\n",
    "    Q3.3 - Calculer la vraisemblance que les observations <code>durees</code> aient été générées par une loi exponentielle de paramètre $\\lambda = 1$.\n",
    "</div>"
   ]
  },
  {
   "cell_type": "code",
   "execution_count": 188,
   "metadata": {
    "collapsed": false
   },
   "outputs": [
    {
     "data": {
      "text/plain": [
       "1.965323987577424e-184"
      ]
     },
     "execution_count": 188,
     "metadata": {},
     "output_type": "execute_result"
    }
   ],
   "source": [
    "from functools import partial\n",
    "vraisemblance(durees, partial(loi_exponentielle, lbda = 1))\n",
    "#vraisemblance(durees , lambda x : loi_exponentielle(x , 1))\n",
    "# partial(f, lbda = y) = lambda x: f(x, lbda = y)"
   ]
  },
  {
   "cell_type": "markdown",
   "metadata": {},
   "source": [
    "<div class=\"alert alert-block alert-warning\">\n",
    "    Vous devriez trouver <code>1.965323987577424e-184</code>.\n",
    "</div>"
   ]
  },
  {
   "cell_type": "markdown",
   "metadata": {},
   "source": [
    "<div class=\"alert alert-block alert-info\">\n",
    "Q3.4 - Parmi les lois suivantes, déterminer celle qui a le plus vraisemblablement généré les observations <code>durees</code> :\n",
    "<ol>\n",
    "    <li>loi exponentielle de paramètre $\\lambda = 1$</li>\n",
    "    <li>loi exponentielle de paramètre $\\lambda = \\frac12$</li>\n",
    "    <li>loi exponentielle de paramètre $\\lambda = \\frac14$</li>\n",
    "    <li>loi exponentielle de paramètre $\\lambda = \\frac{1}{10}$</li>\n",
    "</ol>\n",
    "    Attention : <code>1/2</code> vaut <code>0</code> en Python 2.7.\n",
    "</div>"
   ]
  },
  {
   "cell_type": "code",
   "execution_count": 189,
   "metadata": {
    "collapsed": false
   },
   "outputs": [
    {
     "name": "stdout",
     "output_type": "stream",
     "text": [
      "1 : 1.965323987577424e-184\n",
      "0.5 : 1.1059042092623248e-122\n",
      "0.25 : 7.368166072324188e-107\n",
      "0.1 : 4.259350853603901e-119\n"
     ]
    }
   ],
   "source": [
    "for lbda in [1, 1/2, 1/4, 1/10]:\n",
    "    print(lbda, ':', vraisemblance(durees, partial(loi_exponentielle, lbda = lbda)))\n"
   ]
  },
  {
   "cell_type": "markdown",
   "metadata": {},
   "source": [
    "<div class=\"alert alert-block alert-warning\">\n",
    "    À présent, nous allons réaliser <em>à la main</em> l'histogramme de la question 3.1.\n",
    "</div>"
   ]
  },
  {
   "cell_type": "markdown",
   "metadata": {},
   "source": [
    "<div class=\"alert alert-block alert-info\">\n",
    "    Q3.5 - Écrire une fonction <code>decoupage</code> qui, étant donné un vecteur d'obervations <code>obs</code> et un entier naturel non nul<code>n</code>, renvoie le vecteur de bornes $(v_1, v_2, \\dots, v_n)$ où $v_1$ est le minimum de <code>durees</code> et $v_n$ vaut le maximum de <code>durees</code>\n",
    "</div>"
   ]
  },
  {
   "cell_type": "code",
   "execution_count": 77,
   "metadata": {
    "collapsed": true
   },
   "outputs": [],
   "source": [
    "def decoupage(obs , n):\n",
    "    m, M = min(obs), max(obs)\n",
    "    return np.arange(m, M + 0.000001, (M - m)/n)"
   ]
  },
  {
   "cell_type": "markdown",
   "metadata": {},
   "source": [
    "<div class=\"alert alert-block alert-info\">\n",
    "    Q3.6 - Tester la fonction <code>decoupage</code> pour qu'elle génère un vecteur de bornes correspondant à 10 intervalles adaptés aux observations <code>durees</code>\n",
    "</div>"
   ]
  },
  {
   "cell_type": "code",
   "execution_count": 78,
   "metadata": {
    "collapsed": false
   },
   "outputs": [
    {
     "data": {
      "text/plain": [
       "array([  1. ,   2.5,   4. ,   5.5,   7. ,   8.5,  10. ,  11.5,  13. ,\n",
       "        14.5,  16. ])"
      ]
     },
     "execution_count": 78,
     "metadata": {},
     "output_type": "execute_result"
    }
   ],
   "source": [
    "decoupage(durees, 10)"
   ]
  },
  {
   "cell_type": "markdown",
   "metadata": {},
   "source": [
    "<div class=\"alert alert-block alert-warning\">\n",
    "    Vous devriez trouver <code>np.array([ 1. ,  2.5,  4. ,  5.5,  7. ,  8.5, 10. , 11.5, 13. , 14.5, 16. ])</code>\n",
    "</div>"
   ]
  },
  {
   "cell_type": "markdown",
   "metadata": {},
   "source": [
    "<div class=\"alert alert-block alert-info\">\n",
    "Q3.7 - Écrire la fonction <code>effectifs</code> qui, étant donné un vecteur <code>obs</code> d'observations et un vecteur <code>bornes</code> de nombres $(v_1, v_2, \\dots, v_n)$ triés dans l'ordre croissant, renvoie les effectifs dans les intervalles $[v_1, v_2[, [v_2, v_3], \\dots, [v_{n - 1}, v_n[$.\n",
    "</div>"
   ]
  },
  {
   "cell_type": "code",
   "execution_count": 147,
   "metadata": {
    "collapsed": false
   },
   "outputs": [],
   "source": [
    "def effectifs(obs , bornes):\n",
    "    i = 1\n",
    "    eff = [-1] + [0]*(len(bornes)-2)\n",
    "    for j, val in enumerate(sorted(obs)):\n",
    "        eff[i-1] += 1\n",
    "        while i < len(bornes) and val >= bornes[i]:\n",
    "            i += 1\n",
    "    return eff"
   ]
  },
  {
   "cell_type": "markdown",
   "metadata": {},
   "source": [
    "<div class=\"alert alert-block alert-info\">\n",
    "    Q3.8 - Tester la fonction <code>effectifs</code> pour qu'elle donne les effectifs des observations <code>durees</code> pour un découpage en 10 intervalles.\n",
    "</div>"
   ]
  },
  {
   "cell_type": "code",
   "execution_count": 160,
   "metadata": {
    "collapsed": false,
    "scrolled": true
   },
   "outputs": [
    {
     "data": {
      "text/plain": [
       "array([43, 10, 21,  5,  9,  4,  3,  0,  3,  1])"
      ]
     },
     "execution_count": 160,
     "metadata": {},
     "output_type": "execute_result"
    }
   ],
   "source": [
    "bornes = decoupage(durees , 10)\n",
    "eff = np.array(effectifs(durees , bornes))\n",
    "eff"
   ]
  },
  {
   "cell_type": "markdown",
   "metadata": {},
   "source": [
    "<div class=\"alert alert-block alert-warning\">\n",
    "    Vous devriez trouver <code>np.array([43, 10, 21,  5,  9,  4,  3,  0,  3,  1])</code>\n",
    "</div>"
   ]
  },
  {
   "cell_type": "markdown",
   "metadata": {},
   "source": [
    "<div class=\"alert alert-block alert-info\">\n",
    "    Q3.9 - Avec <code>plt.bar(x, height, width)</code> et la fonction précédente, dessiner un graphique similaire à celui de la question 3.1.\n",
    "</div>"
   ]
  },
  {
   "cell_type": "code",
   "execution_count": 161,
   "metadata": {
    "collapsed": false
   },
   "outputs": [
    {
     "data": {
      "image/png": "[encoded data removed]",
      "text/plain": [
       "<matplotlib.figure.Figure at 0x7f1de0da6c88>"
      ]
     },
     "metadata": {},
     "output_type": "display_data"
    }
   ],
   "source": [
    "_ = plt.bar(bornes[:-1], eff, (max(durees) - min(durees)) / 10)"
   ]
  },
  {
   "cell_type": "markdown",
   "metadata": {},
   "source": [
    "<div class=\"alert alert-block alert-info\">\n",
    "Q3.10 - Superposer l'histogramme précédent (ajusté pour que son aire vale 1) avec la densité de la fonction exponentielle pour les différents paramètres $\\lambda = 1, \\frac12, \\frac14, \\frac{1}{10}$ (en mettant en rouge le meilleur paramètre trouvé à la question 3.1).\n",
    "</div>"
   ]
  },
  {
   "cell_type": "code",
   "execution_count": 197,
   "metadata": {
    "collapsed": false
   },
   "outputs": [
    {
     "data": {
      "image/png": "[encoded data removed]",
      "text/plain": [
       "<matplotlib.figure.Figure at 0x7f1de0ba0da0>"
      ]
     },
     "metadata": {},
     "output_type": "display_data"
    }
   ],
   "source": [
    "def courbe(lbda, c = 'cyan'):\n",
    "    xs = np.arange(0, 16, .01)\n",
    "    _ = plt.plot(xs, [loi_exponentielle(x, lbda) for x in xs], c=c)\n",
    "\n",
    "_ = plt.bar(bornes[:-1], eff / sum(eff), (max(durees) - min(durees)) / 10)\n",
    "for lbda in [1, 1/2, 1/4, 1/10]:\n",
    "    if lbda == 1/4:\n",
    "        courbe(lbda, c = 'red')\n",
    "    else:\n",
    "        courbe(lbda)"
   ]
  },
  {
   "cell_type": "markdown",
   "metadata": {},
   "source": [
    "<div class=\"alert alert-block alert-info\">\n",
    "Q3.10 - Retrouvez-vous le résultat de la question 3.4 ?\n",
    "</div>"
   ]
  },
  {
   "cell_type": "code",
   "execution_count": null,
   "metadata": {
    "collapsed": true
   },
   "outputs": [],
   "source": [
    "# Oui"
   ]
  },
  {
   "cell_type": "code",
   "execution_count": null,
   "metadata": {
    "collapsed": true
   },
   "outputs": [],
   "source": []
  }
 ],
 "metadata": {
  "anaconda-cloud": {},
  "kernelspec": {
   "display_name": "Python [default]",
   "language": "python",
   "name": "python3"
  },
  "language_info": {
   "codemirror_mode": {
    "name": "ipython",
    "version": 3
   },
   "file_extension": ".py",
   "mimetype": "text/x-python",
   "name": "python",
   "nbconvert_exporter": "python",
   "pygments_lexer": "ipython3",
   "version": "3.5.2"
  }
 },
 "nbformat": 4,
 "nbformat_minor": 5
}
