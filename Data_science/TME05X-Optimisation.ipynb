{
 "cells": [
  {
   "cell_type": "markdown",
   "id": "0f8f84c2",
   "metadata": {},
   "source": [
    "# Qui êtes-vous ?\n",
    "<div class=\"alert alert-block alert-info\">\n",
    "Écrire ci-dessous le nom, le prénom et le numéro étudiant de chaque membre du binôme :\n",
    "</div>"
   ]
  },
  {
   "cell_type": "code",
   "execution_count": 1,
   "id": "096f13d9",
   "metadata": {
    "collapsed": true
   },
   "outputs": [],
   "source": [
    "# NOM-1 Prénom-1 NuméroEtud-1\n",
    "#Elio Samaha : 21105733\n",
    "# NOM-2 Prénom-2 NuméroEtud-2\n",
    "#Justin Carel : 21102190"
   ]
  },
  {
   "cell_type": "markdown",
   "id": "55580038",
   "metadata": {},
   "source": [
    "# TME 05X - Optimisation numérique d'une fonction"
   ]
  },
  {
   "cell_type": "code",
   "execution_count": 1,
   "id": "15923b6a",
   "metadata": {},
   "outputs": [],
   "source": [
    "import numpy as np\n",
    "import pandas as pd\n",
    "import matplotlib.pyplot as plt\n",
    "%matplotlib inline"
   ]
  },
  {
   "cell_type": "markdown",
   "id": "12bbbde6",
   "metadata": {},
   "source": [
    "## 1 - Comparaison entre dichotomie, point fixe et Newton"
   ]
  },
  {
   "cell_type": "markdown",
   "id": "be606afc",
   "metadata": {},
   "source": [
    "<div class=\"alert alert-block alert-warning\">\n",
    "Dans cette première partie, nous allons comparer les vitesses de convergence des algorithmes vus en cours pour trouver les zéros d'une fonction, à savoir la dichotomie, la methode du point fixe et la méthode de Newton.\n",
    "</div>"
   ]
  },
  {
   "cell_type": "markdown",
   "id": "1ee5002a",
   "metadata": {},
   "source": [
    "<div class=\"alert alert-block alert-info\">\n",
    "    Q1.1 - Définir la fonction <code>f1</code> telle que $$f_1(x) = 1 - x + \\exp(-3x).$$\n",
    "</div>"
   ]
  },
  {
   "cell_type": "code",
   "execution_count": 2,
   "id": "5f53ec79",
   "metadata": {
    "scrolled": true
   },
   "outputs": [],
   "source": [
    "from math import *\n",
    "f1 = lambda x : 1 - x + exp(-3*x)"
   ]
  },
  {
   "cell_type": "markdown",
   "id": "400aa3cc",
   "metadata": {},
   "source": [
    "<div class=\"alert alert-block alert-info\">\n",
    "    Q1.2 - Écrire la fonction <code>dichotomie</code> qui prend en paramètre une fonction <code>f</code>, deux bornes <code>a0</code> et <code>b0</code> et une précision <code>eps</code> et qui renvoie le couple formé d'un $x^*$ tel que $f(x^*) \\simeq 0$ et du nombre d'itérations effectuées.\n",
    "</div>"
   ]
  },
  {
   "cell_type": "code",
   "execution_count": 3,
   "id": "650a0ce6",
   "metadata": {},
   "outputs": [],
   "source": [
    "def dichotomie (f , a0 , b0 , eps):\n",
    "    a , b = min(a0 , b0) , max(a0 , b0)\n",
    "    i = 0\n",
    "    while b - a > eps:\n",
    "        milieu = (a + b)/2\n",
    "        if f(milieu) *f(a) > 0:\n",
    "            a = milieu\n",
    "        else :\n",
    "            b = milieu\n",
    "        i += 1\n",
    "    return milieu , i\n",
    "            "
   ]
  },
  {
   "cell_type": "markdown",
   "id": "486032c1",
   "metadata": {},
   "source": [
    "<div class=\"alert alert-block alert-info\">\n",
    "Q1.3 - Testez la fonction dichotomie pour obtenir une approximation à $10^{-15}$ près du zéro de la fonction $f_1$ en partant de l'intervalle de départ $[0, 2]$.\n",
    "</div>"
   ]
  },
  {
   "cell_type": "code",
   "execution_count": 4,
   "id": "5941b4c4",
   "metadata": {},
   "outputs": [
    {
     "data": {
      "text/plain": [
       "(1.0436732400551056, 51)"
      ]
     },
     "execution_count": 4,
     "metadata": {},
     "output_type": "execute_result"
    }
   ],
   "source": [
    "dichotomie(f1 , 0 , 2 , 1e-15)"
   ]
  },
  {
   "cell_type": "markdown",
   "id": "10f91fc2",
   "metadata": {},
   "source": [
    "<div class=\"alert alert-block alert-info\">\n",
    "    Q1.4 - Écrire une fonction <code>point_fixe</code> qui prend en paramètres une fonction <code>g</code>, une valeur de départ <code>x0</code> et une précision <code>eps</code> et qui renvoie le couple formé d'une approximation d'un point fixe de <code>g</code> et du nombre d'itérations pour le trouver.\n",
    "</div>"
   ]
  },
  {
   "cell_type": "code",
   "execution_count": 6,
   "id": "2dd383f4",
   "metadata": {},
   "outputs": [],
   "source": [
    "def point_fixe (g , x0 , eps):\n",
    "    i = 0\n",
    "    while abs(x0 - g(x0)) > eps:\n",
    "        x0 = g(x0)\n",
    "        i += 1\n",
    "    return x0 , i"
   ]
  },
  {
   "cell_type": "markdown",
   "id": "dcd66b31",
   "metadata": {},
   "source": [
    "<div class=\"alert alert-block alert-info\">\n",
    "    Q1.5 - Pour tester la méthode du point fixe, définir une fonction <code>g1</code> telle que trouver un zéro de <code>f1</code> est équivalent à trouver un point fixe de <code>g1</code>.\n",
    "</div>"
   ]
  },
  {
   "cell_type": "code",
   "execution_count": 7,
   "id": "f93af67f",
   "metadata": {},
   "outputs": [],
   "source": [
    "g1 = lambda x : f1(x) + x"
   ]
  },
  {
   "cell_type": "markdown",
   "id": "ebdd0213",
   "metadata": {},
   "source": [
    "<div class=\"alert alert-block alert-info\">\n",
    "    Q1.6 - Testez la fonction <code>point_fixe</code> pour obtenir une approximation à $10^{-15}$ près du zéro de la fonction $f_1$ en partant de la valeur de départ 0.\n",
    "</div>"
   ]
  },
  {
   "cell_type": "code",
   "execution_count": 8,
   "id": "94c8d609",
   "metadata": {},
   "outputs": [
    {
     "data": {
      "text/plain": [
       "(1.043673240055106, 18)"
      ]
     },
     "execution_count": 8,
     "metadata": {},
     "output_type": "execute_result"
    }
   ],
   "source": [
    "point_fixe(g1 , 0 , 1e-15)"
   ]
  },
  {
   "cell_type": "markdown",
   "id": "247794c5",
   "metadata": {},
   "source": [
    "<div class=\"alert alert-block alert-info\">\n",
    "    Q1.7 - Écrire une fonction <code>newton</code> qui prend en paramètres une fonction <code>f</code>, sa dérivée <code>df</code>, une valeur de départ <code>x0</code> et une précision <code>eps</code> et qui renvoie le couple formé d'une approximation d'un zéro de <code>f</code> et du nombre d'itérations pour le trouver.\n",
    "</div>"
   ]
  },
  {
   "cell_type": "code",
   "execution_count": 9,
   "id": "d39dad4f",
   "metadata": {},
   "outputs": [],
   "source": [
    "def newton (f , df , x0 , eps ):\n",
    "    i = 0\n",
    "    while abs(f(x0)) > eps:\n",
    "        x0 = x0 - f(x0)/df(x0)\n",
    "        i += 1\n",
    "    return x0 , i\n",
    "        "
   ]
  },
  {
   "cell_type": "markdown",
   "id": "8eb686da",
   "metadata": {},
   "source": [
    "<div class=\"alert alert-block alert-info\">\n",
    "    Q1.8 - Pour tester la méthode de Newton, définir une fonction <code>df1</code> comme étant la dérivée de la fonction <code>f1</code>.\n",
    "</div>"
   ]
  },
  {
   "cell_type": "code",
   "execution_count": 10,
   "id": "b545565b",
   "metadata": {},
   "outputs": [],
   "source": [
    "df1 = lambda x : -1 -3 * exp (-3*x)"
   ]
  },
  {
   "cell_type": "markdown",
   "id": "0233f29b",
   "metadata": {},
   "source": [
    "<div class=\"alert alert-block alert-info\">\n",
    "Q1.9 - Testez la fonction <code>newton</code> pour obtenir une approximation à $10^{-15}$ près du zéro de la fonction $f_1$ en partant de la valeur de départ 0.\n",
    "</div>"
   ]
  },
  {
   "cell_type": "code",
   "execution_count": 11,
   "id": "484090af",
   "metadata": {},
   "outputs": [
    {
     "data": {
      "text/plain": [
       "(1.0436732400551065, 6)"
      ]
     },
     "execution_count": 11,
     "metadata": {},
     "output_type": "execute_result"
    }
   ],
   "source": [
    "newton(f1 , df1 , 0 , 1e-15)"
   ]
  },
  {
   "cell_type": "markdown",
   "id": "97abcb0e",
   "metadata": {},
   "source": [
    "<div class=\"alert alert-block alert-info\">\n",
    "Exécuter la cellule suivante pour obtenir le vecteur d'entier $(1, 2, \\dots, 15)$.\n",
    "</div>"
   ]
  },
  {
   "cell_type": "code",
   "execution_count": 12,
   "id": "c126216d",
   "metadata": {},
   "outputs": [
    {
     "data": {
      "text/plain": [
       "array([ 1.,  2.,  3.,  4.,  5.,  6.,  7.,  8.,  9., 10., 11., 12., 13.,\n",
       "       14., 15.])"
      ]
     },
     "execution_count": 12,
     "metadata": {},
     "output_type": "execute_result"
    }
   ],
   "source": [
    "logeps = np.arange(1, 16, 1.0)\n",
    "logeps"
   ]
  },
  {
   "cell_type": "markdown",
   "id": "59e514e7",
   "metadata": {},
   "source": [
    "<div class=\"alert alert-block alert-info\">\n",
    "Q1.10 - Définir une variable <code>epsilons</code> comme étant le vecteur $(10^{-1}, 10^{-2}, ..., 10^{-15})$ à partir du vecteur <code>logeps</code> défini ci-dessus.\n",
    "</div>"
   ]
  },
  {
   "cell_type": "code",
   "execution_count": 13,
   "id": "5e174ebf",
   "metadata": {},
   "outputs": [
    {
     "data": {
      "text/plain": [
       "array([1.e-01, 1.e-02, 1.e-03, 1.e-04, 1.e-05, 1.e-06, 1.e-07, 1.e-08,\n",
       "       1.e-09, 1.e-10, 1.e-11, 1.e-12, 1.e-13, 1.e-14, 1.e-15])"
      ]
     },
     "execution_count": 13,
     "metadata": {},
     "output_type": "execute_result"
    }
   ],
   "source": [
    "epsilons = 10**-logeps\n",
    "epsilons"
   ]
  },
  {
   "cell_type": "markdown",
   "id": "f7441da2",
   "metadata": {},
   "source": [
    "<div class=\"alert alert-block alert-info\">\n",
    "Q1.11 - Pour comparer le nombre d'itérations nécessaires à chaque méthode avec la fonction <code>f1</code>, créer un graphique où pour chaque méthode, on trace le nombre d'itérations en fonction de la précision <code>eps</code>.\n",
    "On utilisera une échelle logarithmique pour les abscisses (ce qui revient à prendre <code>logeps</code> pour les $x$). Quelle conjecture pourrait-on faire ?\n",
    "</div>"
   ]
  },
  {
   "cell_type": "code",
   "execution_count": 14,
   "id": "7ae69a62",
   "metadata": {},
   "outputs": [
    {
     "data": {
      "text/plain": [
       "[<matplotlib.lines.Line2D at 0x1a6c5684400>]"
      ]
     },
     "execution_count": 14,
     "metadata": {},
     "output_type": "execute_result"
    },
    {
     "data": {
      "image/png": "[encoded data removed]",
      "text/plain": [
       "<Figure size 432x288 with 1 Axes>"
      ]
     },
     "metadata": {
      "needs_background": "light"
     },
     "output_type": "display_data"
    }
   ],
   "source": [
    "plt.plot(logeps , [dichotomie(f1 , 0 , 2 , eps)[1] for eps in epsilons] , \"b\")\n",
    "plt.plot(logeps , [point_fixe(g1 , 0 , eps)[1] for eps in epsilons] , \"g\")\n",
    "plt.plot(logeps , [newton(f1 , df1 , 0 , eps)[1] for eps in epsilons] , \"r\")"
   ]
  },
  {
   "cell_type": "markdown",
   "id": "7421e1d2",
   "metadata": {},
   "source": [
    "## 2 - Newton alterné"
   ]
  },
  {
   "cell_type": "markdown",
   "id": "20da5912",
   "metadata": {},
   "source": [
    "<div class=\"alert alert-block alert-warning\">\n",
    "Dans cette partie, nous allons utiliser une méthode de Newton alternée afin de trouver les coefficients de la droite de régression par la méthode des moindres carrés.\n",
    "</div>"
   ]
  },
  {
   "cell_type": "markdown",
   "id": "c02f1758",
   "metadata": {},
   "source": [
    "<div class=\"alert alert-block alert-info\">\n",
    "Exécuter la boite ci-dessous pour charger les données de ventes en fonction de la publicité.\n",
    "</div>"
   ]
  },
  {
   "cell_type": "code",
   "execution_count": 15,
   "id": "5e4a9702",
   "metadata": {
    "scrolled": true
   },
   "outputs": [
    {
     "data": {
      "text/html": [
       "<div>\n",
       "<table border=\"1\" class=\"dataframe\">\n",
       "  <thead>\n",
       "    <tr style=\"text-align: right;\">\n",
       "      <th></th>\n",
       "      <th>TV</th>\n",
       "      <th>Radio</th>\n",
       "      <th>Newspaper</th>\n",
       "      <th>Sales</th>\n",
       "    </tr>\n",
       "  </thead>\n",
       "  <tbody>\n",
       "    <tr>\n",
       "      <th>0</th>\n",
       "      <td>230.1</td>\n",
       "      <td>37.8</td>\n",
       "      <td>69.2</td>\n",
       "      <td>22.1</td>\n",
       "    </tr>\n",
       "    <tr>\n",
       "      <th>1</th>\n",
       "      <td>44.5</td>\n",
       "      <td>39.3</td>\n",
       "      <td>45.1</td>\n",
       "      <td>10.4</td>\n",
       "    </tr>\n",
       "    <tr>\n",
       "      <th>2</th>\n",
       "      <td>17.2</td>\n",
       "      <td>45.9</td>\n",
       "      <td>69.3</td>\n",
       "      <td>12.0</td>\n",
       "    </tr>\n",
       "    <tr>\n",
       "      <th>3</th>\n",
       "      <td>151.5</td>\n",
       "      <td>41.3</td>\n",
       "      <td>58.5</td>\n",
       "      <td>16.5</td>\n",
       "    </tr>\n",
       "    <tr>\n",
       "      <th>4</th>\n",
       "      <td>180.8</td>\n",
       "      <td>10.8</td>\n",
       "      <td>58.4</td>\n",
       "      <td>17.9</td>\n",
       "    </tr>\n",
       "  </tbody>\n",
       "</table>\n",
       "</div>"
      ],
      "text/plain": [
       "      TV  Radio  Newspaper  Sales\n",
       "0  230.1   37.8       69.2   22.1\n",
       "1   44.5   39.3       45.1   10.4\n",
       "2   17.2   45.9       69.3   12.0\n",
       "3  151.5   41.3       58.5   16.5\n",
       "4  180.8   10.8       58.4   17.9"
      ]
     },
     "execution_count": 15,
     "metadata": {},
     "output_type": "execute_result"
    }
   ],
   "source": [
    "data_pub = pd.read_csv('advertising.csv')\n",
    "data_pub.head() # visualisation du contenu"
   ]
  },
  {
   "cell_type": "markdown",
   "id": "63137f60",
   "metadata": {},
   "source": [
    "<div class=\"alert alert-block alert-info\">\n",
    "Exécuter la boite ci-dessous pour définir les variables <code>tv</code> et <code>ventes</code>.\n",
    "</div>"
   ]
  },
  {
   "cell_type": "code",
   "execution_count": 16,
   "id": "ac4f4d59",
   "metadata": {
    "collapsed": true
   },
   "outputs": [],
   "source": [
    "tv = np.array(data_pub['TV'])\n",
    "ventes = np.array(data_pub['Sales'])"
   ]
  },
  {
   "cell_type": "markdown",
   "id": "bb6fc1d1",
   "metadata": {},
   "source": [
    "<div class=\"alert alert-block alert-info\">\n",
    "Exécuter la boite ci-dessous qui reprend le travail d'un TME précédent pour visualiser la droite de régression de <code>ventes</code> en fonction de <code>tv</code>.\n",
    "</div>"
   ]
  },
  {
   "cell_type": "code",
   "execution_count": 17,
   "id": "1afe1250",
   "metadata": {},
   "outputs": [
    {
     "data": {
      "image/png": "[encoded data removed]",
      "text/plain": [
       "<matplotlib.figure.Figure at 0x7f74f6271d68>"
      ]
     },
     "metadata": {},
     "output_type": "display_data"
    }
   ],
   "source": [
    "def cov(x, y):\n",
    "    return np.mean((x - np.mean(x)) * (y - np.mean(y)))\n",
    "\n",
    "def regression_mc(x, y):\n",
    "    b = cov(x, y) / np.std(x) ** 2\n",
    "    a = np.mean(y) - b * np.mean(x)\n",
    "    return a, b\n",
    "\n",
    "def plot_regression(x, y):\n",
    "    a, b = regression_mc(x, y)\n",
    "    _ = plt.scatter(x, y, color = 'gray')\n",
    "    _ = plt.plot([np.min(x), np.max(x)], [a + b * np.min(x), a + b * np.max(x)], color = 'red')\n",
    "    return None\n",
    "\n",
    "plot_regression(tv, ventes)"
   ]
  },
  {
   "cell_type": "markdown",
   "id": "ad4c4fc2",
   "metadata": {},
   "source": [
    "<div class=\"alert alert-block alert-info\">\n",
    "Q2.1 - Calculer les coefficients de la droite de régression $y \\simeq a + bx$ de <code>ventes</code> en fonction de <code>tv</code> par la méthode des moindres carrés.\n",
    "</div>"
   ]
  },
  {
   "cell_type": "code",
   "execution_count": 18,
   "id": "b07755f3",
   "metadata": {},
   "outputs": [],
   "source": [
    "a , b = regression_mc(tv , ventes)"
   ]
  },
  {
   "cell_type": "markdown",
   "id": "32b44e77",
   "metadata": {},
   "source": [
    "<div class=\"alert alert-block alert-info\">\n",
    "    Q2.2 - Définir la fonction <code>cout</code> qui étant donné deux coefficients <code>a</code> et <code>b</code> et deux séries de données <code>x</code> et <code>y</code>, renvoie le coût quadratique $C$ (celui des moindres carrés) : $$C(a, b, x, y) = \\sum_{i = 1}^{n} |a + b.x_i - y_i|^2.$$\n",
    "Calculer le coût quadratique pour les coefficients trouvés précédemment.\n",
    "</div>"
   ]
  },
  {
   "cell_type": "code",
   "execution_count": 19,
   "id": "c733b88f",
   "metadata": {
    "collapsed": true
   },
   "outputs": [],
   "source": [
    "def cout (a , b , x , y):\n",
    "    return np.sum((a + b * x - y)**2)"
   ]
  },
  {
   "cell_type": "markdown",
   "id": "810c30a8",
   "metadata": {},
   "source": [
    "<div class=\"alert alert-block alert-info\">\n",
    "Q2.3 - Compléter les fonctions ci-dessous pour qu'elle calculent :\n",
    "<ul>\n",
    "    <li><code>dcout_da(a, b, x, y)</code> pour $\\partial_a C(a, b, x, y)$</li>\n",
    "    <li><code>dcout_db(a, b, x, y)</code> pour $\\partial_b C(a, b, x, y)$</li>\n",
    "    <li><code>d2cout_da(a, b, x, y)</code> pour $\\partial^2_a C(a, b, x, y)$</li>\n",
    "    <li><code>d2cout_db(a, b, x, y)</code> pour $\\partial^2_b C(a, b, x, y)$</li>\n",
    "</ul>\n",
    "</div>"
   ]
  },
  {
   "cell_type": "code",
   "execution_count": 20,
   "id": "1d2268a8",
   "metadata": {},
   "outputs": [],
   "source": [
    "def dcout_da(a, b, x, y):\n",
    "    return 2 * np.sum(a + b * x - y)\n",
    "\n",
    "def dcout_db(a, b, x, y):\n",
    "    return 2 * np.sum(x*(a + b * x - y))\n",
    "\n",
    "def d2cout_da2(a, b, x, y):\n",
    "    return 2 * len(x) \n",
    "\n",
    "def d2cout_db2(a, b, x, y):\n",
    "    return 2 * x @ x\n"
   ]
  },
  {
   "cell_type": "markdown",
   "id": "33cd9fb6",
   "metadata": {},
   "source": [
    "<div class=\"alert alert-block alert-info\">\n",
    "Q2.4 - Compléter la fonction <code>newton_alterne</code> ci-dessous qui prend en paramètres les dérivées première <code>dfa</code> et seconde <code>d2fa</code> d'une fonction de coût $f$ par rapport à $a$, les dérivées première <code>dfb</code> et seconde <code>d2fb</code> de la même fonction de coût par rapport à $b$, les coordonnées du point initial <code>a0</code>, <code>b0</code>, les données <code>x</code> et <code>y</code> et une précision <code>epsilon</code>, et qui calcule un couple $(a, b)$ qui minimise la fonction de coût.\n",
    "</div>"
   ]
  },
  {
   "cell_type": "code",
   "execution_count": 21,
   "id": "d65389f2",
   "metadata": {
    "scrolled": true
   },
   "outputs": [],
   "source": [
    "def newton_alterne(dfa, d2fa, dfb, d2fb, a0, b0, x, y, eps):\n",
    "    a = a0\n",
    "    b = b0\n",
    "    aprec = a + 2 * eps\n",
    "    bprec = b + 2 * eps\n",
    "    i = 0\n",
    "    \n",
    "    while abs(dfa(a , b , x , y)/d2fa (a , b , x , y)) > eps or abs(dfb(a , b , x , y)/d2fb (a , b , x , y)) > eps:\n",
    "        a = a - dfa(a , b , x , y)/d2fa (a , b , x , y)\n",
    "        b = b - dfb(a , b , x , y)/d2fb (a , b , x , y)\n",
    "        i += 1\n",
    "        \n",
    "        \n",
    "    return a, b , i\n",
    "\n",
    "a, b, i = newton_alterne(dcout_da, d2cout_da2, dcout_db, d2cout_db2, 0, 0, tv, ventes, 1e-16)\n"
   ]
  },
  {
   "cell_type": "markdown",
   "id": "6c8fcda6",
   "metadata": {},
   "source": [
    "## 3 - Descente de gradient"
   ]
  },
  {
   "cell_type": "markdown",
   "id": "27b11932",
   "metadata": {},
   "source": [
    "<div class=\"alert alert-block alert-info\">\n",
    "Q3.1 - Définir la fonction <code>descente_gradient</code> qui étant donné un gradient à deux dimensions <code>dfa</code>, <code>dfb</code>, un point de départ <code>ua0</code>, <code>ub0</code>, des données <code>x</code>, <code>y</code>, un pas <code\n",
    "</div>"
   ]
  },
  {
   "cell_type": "code",
   "execution_count": 51,
   "id": "d5b57299",
   "metadata": {
    "scrolled": true
   },
   "outputs": [
    {
     "name": "stdout",
     "output_type": "stream",
     "text": [
      "1000 1000\n",
      "818.7143764430991 818.7143764430991\n",
      "670.2932301946124 670.2932301946124\n",
      "548.7787039928129 548.7787039928129\n",
      "449.2930144447284 449.2930144447284\n",
      "367.84265016135635 367.84265016135635\n",
      "301.15806595603215 301.15806595603215\n",
      "246.56243818000254 246.56243818000254\n",
      "201.86421282883109 201.86421282883109\n",
      "165.2691331323337 165.2691331323337\n",
      "135.30821527773026 135.30821527773026\n",
      "110.77878109873564 110.77878109873564\n",
      "90.69618069037807 90.69618069037807\n",
      "74.25426701969354 74.25426701969354\n",
      "60.79303592126774 60.79303592126774\n",
      "49.77213249636373 49.77213249636373\n",
      "40.749160421003864 40.749160421003864\n",
      "33.36192346466194 33.36192346466194\n",
      "27.313886366313113 27.313886366313113\n",
      "22.362271444633627 22.362271444633627\n",
      "18.308313121644538 18.308313121644538\n",
      "14.989279161112172 14.989279161112172\n",
      "12.271938341721494 12.271938341721494\n",
      "10.047212347190696 10.047212347190696\n",
      "8.225797191821664 8.225797191821664\n",
      "6.734578418649671 6.734578418649671\n",
      "5.513696170631907 5.513696170631907\n",
      "4.514142322235608 4.514142322235608\n",
      "3.695793216524542 3.695793216524542\n",
      "3.0257990387295264 3.0257990387295264\n",
      "2.4772651732355677 2.4772651732355677\n",
      "2.028172611589762 2.028172611589762\n",
      "1.6604940750166834 1.6604940750166834\n",
      "1.3594703712147465 1.3594703712147465\n",
      "1.113017937261951 1.113017937261951\n",
      "0.9112437864754039 0.9112437864754039\n",
      "0.7460483884318589 0.7460483884318589\n",
      "0.6108005411313686 0.6108005411313686\n",
      "0.5000711841634757 0.5000711841634757\n",
      "0.4094154677195629 0.4094154677195629\n",
      "0.3351943293601811 0.3351943293601811\n",
      "0.27442841634938414 0.27442841634938414\n",
      "0.2246784897697534 0.2246784897697534\n",
      "0.18394750965202064 0.18394750965202064\n",
      "0.15060047066301513 0.15060047066301513\n",
      "0.1232987704309076 0.1232987704309076\n",
      "0.10094647594954133 0.10094647594954133\n",
      "0.0826463311111572 0.0826463311111572\n",
      "0.06766373944098106 0.06766373944098106\n",
      "0.055397276244231124 0.055397276244231124\n",
      "0.04535454647694179 0.04535454647694179\n",
      "0.03713241923772895 0.03713241923772895\n",
      "0.030400845462040957 0.030400845462040957\n",
      "0.024889609235797874 0.024889609235797874\n",
      "0.02037748090539867 0.02037748090539867\n",
      "0.016683336572944695 0.016683336572944695\n",
      "0.013658887499308764 0.013658887499308764\n",
      "0.011182727561903024 0.011182727561903024\n",
      "0.009155459822776518 0.009155459822776518\n",
      "0.007495706579854341 0.007495706579854341\n",
      "0.006136842738525876 0.006136842738525876\n",
      "0.005024321376001576 0.005024321376001576\n",
      "0.004113484142402861 0.004113484142402861\n",
      "0.0033677686046559388 0.0033677686046559388\n",
      "0.0027572405731655348 0.0027572405731655348\n",
      "0.002257392496562835 0.002257392496562835\n",
      "0.0018481596902107742 0.0018481596902107742\n",
      "0.001513114908338185 0.001513114908338185\n",
      "0.0012388089286668547 0.0012388089286668547\n",
      "0.0010142306795656263 0.0010142306795656263\n",
      "0.0008303652383900331 0.0008303652383900331\n",
      "0.0006798319583685222 0.0006798319583685222\n",
      "0.0005565881978817762 0.0005565881978817762\n",
      "0.0004556867593643664 0.0004556867593643664\n",
      "0.0003730773010463742 0.0003730773010463742\n",
      "0.0003054437498912562 0.0003054437498912562\n",
      "0.0002500711892306623 0.0002500711892306623\n",
      "0.00020473687775736637 0.00020473687775736637\n",
      "0.00016762102520802912 0.00016762102520802912\n",
      "0.00013723374313194452 0.00013723374313194452\n",
      "0.00011235523843522236 0.00011235523843522236\n",
      "9.198684897560886e-05 9.198684897560886e-05\n",
      "7.531095570003118e-05 7.531095570003118e-05\n",
      "6.165816213528488e-05 6.165816213528488e-05\n",
      "5.0480423765217305e-05 5.0480423765217305e-05\n",
      "4.132904866552335e-05 4.132904866552335e-05\n",
      "3.3836686307180526e-05 3.3836686307180526e-05\n",
      "2.7702581530884045e-05 2.7702581530884045e-05\n",
      "2.2680501763921878e-05 2.2680501763921878e-05\n",
      "1.8568852859065934e-05 1.8568852859065934e-05\n",
      "1.520258678977386e-05 1.520258678977386e-05\n",
      "1.244657636391181e-05 1.244657636391181e-05\n",
      "1.019019100663148e-05 1.019019100663148e-05\n",
      "8.342855875830368e-06 8.342855875830368e-06\n",
      "6.8304160461350965e-06 6.8304160461350965e-06\n",
      "5.592159814058434e-06 5.592159814058434e-06\n",
      "4.5783816351370114e-06 4.5783816351370114e-06\n",
      "3.7483868655297336e-06 3.7483868655297336e-06\n",
      "3.068858215279679e-06 3.068858215279679e-06\n",
      "2.512518340114975e-06 2.512518340114975e-06\n",
      "2.057034886129086e-06 2.057034886129086e-06\n",
      "1.6841240341188803e-06 1.6841240341188803e-06\n",
      "1.3788165584464748e-06 1.3788165584464748e-06\n",
      "1.128856938877926e-06 1.128856938877926e-06\n",
      "9.242114048069072e-07 9.242114048069072e-07\n",
      "7.566651639880891e-07 7.566651639880891e-07\n",
      "6.19492647910724e-07 6.19492647910724e-07\n",
      "5.071875369453123e-07 5.071875369453123e-07\n",
      "4.1524172804989207e-07 4.1524172804989207e-07\n",
      "3.3996437245352305e-07 3.3996437245352305e-07\n",
      "2.783337192061557e-07 2.783337192061557e-07\n",
      "2.2787581736295716e-07 2.2787581736295716e-07\n",
      "1.865652077187749e-07 1.865652077187749e-07\n",
      "1.527436177034537e-07 1.527436177034537e-07\n",
      "1.2505339572374588e-07 1.2505339572374588e-07\n",
      "1.0238301290205887e-07 1.0238301290205887e-07\n",
      "8.382244456647482e-08 8.382244456647482e-08\n",
      "6.862664043517783e-08 6.862664043517783e-08\n",
      "5.6185617131271483e-08 5.6185617131271483e-08\n",
      "4.599997249469965e-08 4.599997249469965e-08\n",
      "3.76608387973978e-08 3.76608387973978e-08\n",
      "3.083347015233562e-08 3.083347015233562e-08\n",
      "2.5243805289346317e-08 2.5243805289346317e-08\n",
      "2.0667466306518167e-08 2.0667466306518167e-08\n",
      "1.6920751789799758e-08 1.6920751789799758e-08\n",
      "1.3853262750534374e-08 1.3853262750534374e-08\n",
      "1.1341865374506166e-08 1.1341865374506166e-08\n",
      "9.285748237790415e-09 9.285748237790415e-09\n",
      "7.602375578310173e-09 7.602375578310173e-09\n",
      "6.2241741810824465e-09 6.2241741810824465e-09\n",
      "5.095820883538159e-09 5.095820883538159e-09\n",
      "4.172021817131657e-09 4.172021817131657e-09\n",
      "3.415694240519951e-09 3.415694240519951e-09\n",
      "2.7964779802475805e-09 2.7964779802475805e-09\n"
     ]
    },
    {
     "data": {
      "text/plain": [
       "(2.499647044513573e-09, 2.499647044513573e-09, 133561)"
      ]
     },
     "execution_count": 51,
     "metadata": {},
     "output_type": "execute_result"
    }
   ],
   "source": [
    "def descente_gradient(dfa, dfb, ua0, ub0, args, gamma, eps):\n",
    "    a, b = ua0, ub0\n",
    "    i = 0\n",
    "    while abs(dfa(a, b, *args) + dfb(a, b, *args)) > eps:\n",
    "        if i % 1000 == 0:\n",
    "            print(a, b)\n",
    "        a, b = a - gamma * dfa(a, b, *args), b - gamma * dfb(a, b, *args)\n",
    "        i += 1\n",
    "    return a, b, i\n",
    "\n",
    "f = lambda a, b: a**2 + b**2\n",
    "dfa = lambda a, b: 2*a\n",
    "dfb = lambda a, b: 2*b\n",
    "\n",
    "descente_gradient(dfa, dfb, 1000, 1000, [], 1e-4, 1e-8)"
   ]
  },
  {
   "cell_type": "code",
   "execution_count": 53,
   "id": "3a79f803",
   "metadata": {
    "scrolled": true
   },
   "outputs": [
    {
     "data": {
      "text/plain": [
       "[<matplotlib.lines.Line2D at 0x7f74f5d72240>]"
      ]
     },
     "execution_count": 53,
     "metadata": {},
     "output_type": "execute_result"
    },
    {
     "data": {
      "image/png": "[encoded data removed]",
      "text/plain": [
       "<matplotlib.figure.Figure at 0x7f74f5fc5390>"
      ]
     },
     "metadata": {},
     "output_type": "display_data"
    }
   ],
   "source": [
    "def apply(grad, x):\n",
    "    return np.array([df(*x) for df in grad])\n",
    "\n",
    "def descente_gradient_methode2(grad, x0, gamma, alpha, eps):\n",
    "    dn, xn, xn_1 = np.array(x0), x0, None\n",
    "    i = 0\n",
    "    while xn_1 is None or sum(apply(grad, xn)) > eps and i < 1e+6:\n",
    "        xn_1 = xn\n",
    "        dn = alpha*dn + (1 - alpha)*apply(grad, xn_1)\n",
    "        xn = xn_1 - gamma*dn\n",
    "        i += 1\n",
    "    return xn, i\n",
    "\n",
    "alphas = (0., 0.8, 0.9, 0.95, 0.99, 0.999)\n",
    "plt.plot(alphas, [descente_gradient_methode2([dfa, dfb], [1000, 1000], 1e-4, alpha, 1e-8)[1] for alpha in alphas])"
   ]
  },
  {
   "cell_type": "code",
   "execution_count": null,
   "id": "1a9877b2",
   "metadata": {
    "collapsed": true
   },
   "outputs": [],
   "source": []
  }
 ],
 "metadata": {
  "anaconda-cloud": {},
  "kernelspec": {
   "display_name": "Python 3",
   "language": "python",
   "name": "python3"
  },
  "language_info": {
   "codemirror_mode": {
    "name": "ipython",
    "version": 3
   },
   "file_extension": ".py",
   "mimetype": "text/x-python",
   "name": "python",
   "nbconvert_exporter": "python",
   "pygments_lexer": "ipython3",
   "version": "3.8.8"
  }
 },
 "nbformat": 4,
 "nbformat_minor": 5
}
