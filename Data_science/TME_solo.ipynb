{
 "cells": [
  {
   "cell_type": "markdown",
   "id": "ed573804",
   "metadata": {},
   "source": [
    "<div class=\"alert alert-block alert-info\">\n",
    "    Écrivez ci-dessous votre nom, votre prénom et votre numéro étudiant :\n",
    "</div>"
   ]
  },
  {
   "cell_type": "code",
   "execution_count": null,
   "id": "22e3c8d4",
   "metadata": {},
   "outputs": [],
   "source": []
  },
  {
   "cell_type": "markdown",
   "id": "d45f83c3",
   "metadata": {},
   "source": [
    "# TME solo\n",
    "\n",
    "15 novembre 2021"
   ]
  },
  {
   "cell_type": "code",
   "execution_count": null,
   "id": "93a87a53",
   "metadata": {},
   "outputs": [],
   "source": [
    "import pandas as pd\n",
    "import numpy as np\n",
    "import matplotlib.pyplot as plt"
   ]
  },
  {
   "cell_type": "markdown",
   "id": "4e25b01c",
   "metadata": {},
   "source": [
    "### 1.\n",
    "\n",
    "<div class=\"alert alert-block alert-info\">\n",
    "Chargez les données des arbres remarquables à Paris à partir du fichier <code>`arbresremarquablesparis.csv`</code> et stockez les dans une variable <code>df</code>. Utilisez le paramètre <code>sep=\";\"</code> dans la fonction <code>read_csv</code> (car les données dans le fichier sont séparées par des <code>;</code> et non par des <code>,</code>).\n",
    "\n",
    "Affichez les 5 premières lignes du tableau.\n",
    "</div>"
   ]
  },
  {
   "cell_type": "code",
   "execution_count": null,
   "id": "07f62942",
   "metadata": {},
   "outputs": [],
   "source": []
  },
  {
   "cell_type": "markdown",
   "id": "af18d07f",
   "metadata": {},
   "source": [
    "### 2.\n",
    "\n",
    "<div class=\"alert alert-block alert-info\">\n",
    "Affichez les noms des arbres que l'on trouve dans ce tableau sans répétition (colonne <code>LIBELLEFRANCAIS</code>).\n",
    "</div>"
   ]
  },
  {
   "cell_type": "code",
   "execution_count": null,
   "id": "0ddb1ba4",
   "metadata": {},
   "outputs": [],
   "source": []
  },
  {
   "cell_type": "markdown",
   "id": "9bebfb76",
   "metadata": {},
   "source": [
    "### 3.\n",
    "\n",
    "<div class=\"alert alert-block alert-info\">\n",
    "Stockez les circonférences des arbres dans une variable <code>x</code> et les hauteurs dans une variable <code>y</code>.\n",
    "\n",
    "Affichez leurs valeurs minimales, maximales et leurs  médianes.\n",
    "    \n",
    "Affichez des boîtes à moustache pour ces deux variables.\n",
    "</div>"
   ]
  },
  {
   "cell_type": "code",
   "execution_count": null,
   "id": "d907aaa2",
   "metadata": {},
   "outputs": [],
   "source": []
  },
  {
   "cell_type": "markdown",
   "id": "5918ae2c",
   "metadata": {},
   "source": [
    "### 4.\n",
    "\n",
    "<div class=\"alert alert-block alert-info\">\n",
    "    Calculez la covariance entre <code>x</code> et <code>y</code>.\n",
    "</div>"
   ]
  },
  {
   "cell_type": "code",
   "execution_count": null,
   "id": "a9fd7535",
   "metadata": {},
   "outputs": [],
   "source": []
  },
  {
   "cell_type": "markdown",
   "id": "def658c2",
   "metadata": {},
   "source": [
    "### 5.\n",
    "\n",
    "<div class=\"alert alert-block alert-info\">\n",
    "Calculez les coefficients $m$ et $p$ de la droite de régression $y = mx + p$ qui minimise le critère de moindre carrées, en considérant <code>y</code> la variable à prédire. Pour rappel:\n",
    "\n",
    "$$m^* = \\frac{cov(\\mathbf{x}, \\mathbf{y})}{var(\\mathbf{x})} \\text{ et } p^* = \\bar{\\mathbf{y}} - m^*.\\bar{\\mathbf{x}}$$\n",
    "</div>"
   ]
  },
  {
   "cell_type": "code",
   "execution_count": null,
   "id": "845a3341",
   "metadata": {},
   "outputs": [],
   "source": []
  },
  {
   "cell_type": "markdown",
   "id": "a76bcbfe",
   "metadata": {},
   "source": [
    "### 6.\n",
    "\n",
    "<div class=\"alert alert-block alert-info\">\n",
    "Définissez une fonction <code>reg</code> qui prend en entrée une coordonné $x$ et renvoie la valeur de la droite de régression en ce point.\n",
    "</div>"
   ]
  },
  {
   "cell_type": "code",
   "execution_count": null,
   "id": "b5692322",
   "metadata": {},
   "outputs": [],
   "source": []
  },
  {
   "cell_type": "markdown",
   "id": "57da0e47",
   "metadata": {},
   "source": [
    "### 7.\n",
    "\n",
    "<div class=\"alert alert-block alert-info\">\n",
    "    Affichez la droite de régression et le nuage de points de la hauteur en fonction de circonférence et la droite de regression dans la même figure.\n",
    "</div>"
   ]
  },
  {
   "cell_type": "code",
   "execution_count": null,
   "id": "13ff3b5b",
   "metadata": {},
   "outputs": [],
   "source": []
  },
  {
   "cell_type": "markdown",
   "id": "962db626",
   "metadata": {},
   "source": [
    "### 8.\n",
    "<div class=\"alert alert-block alert-info\">\n",
    "    Calculez le coefficient de détermination $R^2$ pour cette régression:\n",
    "    $$R^2 = \\left(\\, cor(p^* \\mathbf{1} + m^* \\mathbf{x} ,\\; \\mathbf{y})\\, \\right)^2$$\n",
    "</div>"
   ]
  },
  {
   "cell_type": "code",
   "execution_count": null,
   "id": "f5ea57f4",
   "metadata": {},
   "outputs": [],
   "source": []
  },
  {
   "cell_type": "markdown",
   "id": "ed51ef0a",
   "metadata": {},
   "source": [
    "### 9*.\n",
    "\n",
    "<div class=\"alert alert-block alert-info\">\n",
    "    Stockez dans les variables <code>x_plat</code> et <code>y_plat</code> les circonférences et les hauteurs des platanes (<code>LIBELLEFRANCAIS</code> égale <code>\"Platane\"</code>).\n",
    "    Refaites la régression pour ces variables, affichez sur le même graphe les deux régressions ainsi que les nuages de points pour les platanes et les autres arbres, avec des couleurs différentes.\n",
    "    <br>Calculez $R^2$ pour la regression des platanes.\n",
    "    <br>Commenter la force de la relation entre la circonférence et la hauteur chez les platanes par rapport aux autres arbres.\n",
    "</div>"
   ]
  },
  {
   "cell_type": "code",
   "execution_count": null,
   "id": "5fad1bf2",
   "metadata": {},
   "outputs": [],
   "source": []
  }
 ],
 "metadata": {
  "kernelspec": {
   "display_name": "Python 3 (ipykernel)",
   "language": "python",
   "name": "python3"
  },
  "language_info": {
   "codemirror_mode": {
    "name": "ipython",
    "version": 3
   },
   "file_extension": ".py",
   "mimetype": "text/x-python",
   "name": "python",
   "nbconvert_exporter": "python",
   "pygments_lexer": "ipython3",
   "version": "3.9.7"
  }
 },
 "nbformat": 4,
 "nbformat_minor": 5
}
