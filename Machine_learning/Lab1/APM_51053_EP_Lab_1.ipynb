{
  "nbformat": 4,
  "nbformat_minor": 0,
  "metadata": {
    "colab": {
      "provenance": [],
      "include_colab_link": true
    },
    "kernelspec": {
      "name": "python3",
      "display_name": "Python 3"
    },
    "language_info": {
      "name": "python"
    }
  },
  "cells": [
    {
      "cell_type": "markdown",
      "metadata": {
        "id": "view-in-github",
        "colab_type": "text"
      },
      "source": [
        "<a href=\"https://colab.research.google.com/github/elio-samaha/AI/blob/main/APM_51053_EP_Lab_1.ipynb\" target=\"_parent\"><img src=\"https://colab.research.google.com/assets/colab-badge.svg\" alt=\"Open In Colab\"/></a>"
      ]
    },
    {
      "cell_type": "markdown",
      "source": [
        "# Lab 1 - Foundations of Machine Learning - APM_51053_EP\n",
        "\n",
        "The goal of the labs will be to apply (and sometimes extend) what has been seen during the lectures on medium/small datasets. We will use `Python` and rely a lot on a ML stack consisting of `scikit learn`, `polars` and `seaborn`. To avoid configuration issue, I suggest that you use Colab, but feel free to install this ML stack to your own computer. Last but not least, if you use Colab, you will have access to an advanced AI completion engine. You can (should?) use it during the labs, but be aware that the suggested code may not be correct!\n",
        "\n",
        "\n",
        "Let's start by updating the libraries of Colab to the some recent ones to have a better polar support.\n",
        "\n"
      ],
      "metadata": {
        "id": "XJndvvfhY-6m"
      }
    },
    {
      "cell_type": "code",
      "source": [
        "!pip install -U \"seaborn>=0.13.2\"\n",
        "!pip install -U \"polars>=1.6.0\"\n",
        "!pip install -U \"scikit-learn>=1.5.1\""
      ],
      "metadata": {
        "colab": {
          "base_uri": "https://localhost:8080/"
        },
        "id": "MopoZDOX6apC",
        "outputId": "be8828c1-4fcf-4c48-f762-f8ee91d0ea24"
      },
      "execution_count": null,
      "outputs": [
        {
          "output_type": "stream",
          "name": "stdout",
          "text": [
            "Collecting seaborn>=0.13.2\n",
            "  Downloading seaborn-0.13.2-py3-none-any.whl.metadata (5.4 kB)\n",
            "Requirement already satisfied: numpy!=1.24.0,>=1.20 in /usr/local/lib/python3.10/dist-packages (from seaborn>=0.13.2) (1.26.4)\n",
            "Requirement already satisfied: pandas>=1.2 in /usr/local/lib/python3.10/dist-packages (from seaborn>=0.13.2) (2.1.4)\n",
            "Requirement already satisfied: matplotlib!=3.6.1,>=3.4 in /usr/local/lib/python3.10/dist-packages (from seaborn>=0.13.2) (3.7.1)\n",
            "Requirement already satisfied: contourpy>=1.0.1 in /usr/local/lib/python3.10/dist-packages (from matplotlib!=3.6.1,>=3.4->seaborn>=0.13.2) (1.3.0)\n",
            "Requirement already satisfied: cycler>=0.10 in /usr/local/lib/python3.10/dist-packages (from matplotlib!=3.6.1,>=3.4->seaborn>=0.13.2) (0.12.1)\n",
            "Requirement already satisfied: fonttools>=4.22.0 in /usr/local/lib/python3.10/dist-packages (from matplotlib!=3.6.1,>=3.4->seaborn>=0.13.2) (4.53.1)\n",
            "Requirement already satisfied: kiwisolver>=1.0.1 in /usr/local/lib/python3.10/dist-packages (from matplotlib!=3.6.1,>=3.4->seaborn>=0.13.2) (1.4.7)\n",
            "Requirement already satisfied: packaging>=20.0 in /usr/local/lib/python3.10/dist-packages (from matplotlib!=3.6.1,>=3.4->seaborn>=0.13.2) (24.1)\n",
            "Requirement already satisfied: pillow>=6.2.0 in /usr/local/lib/python3.10/dist-packages (from matplotlib!=3.6.1,>=3.4->seaborn>=0.13.2) (9.4.0)\n",
            "Requirement already satisfied: pyparsing>=2.3.1 in /usr/local/lib/python3.10/dist-packages (from matplotlib!=3.6.1,>=3.4->seaborn>=0.13.2) (3.1.4)\n",
            "Requirement already satisfied: python-dateutil>=2.7 in /usr/local/lib/python3.10/dist-packages (from matplotlib!=3.6.1,>=3.4->seaborn>=0.13.2) (2.8.2)\n",
            "Requirement already satisfied: pytz>=2020.1 in /usr/local/lib/python3.10/dist-packages (from pandas>=1.2->seaborn>=0.13.2) (2024.2)\n",
            "Requirement already satisfied: tzdata>=2022.1 in /usr/local/lib/python3.10/dist-packages (from pandas>=1.2->seaborn>=0.13.2) (2024.1)\n",
            "Requirement already satisfied: six>=1.5 in /usr/local/lib/python3.10/dist-packages (from python-dateutil>=2.7->matplotlib!=3.6.1,>=3.4->seaborn>=0.13.2) (1.16.0)\n",
            "Downloading seaborn-0.13.2-py3-none-any.whl (294 kB)\n",
            "\u001b[2K   \u001b[90m━━━━━━━━━━━━━━━━━━━━━━━━━━━━━━━━━━━━━━━━\u001b[0m \u001b[32m294.9/294.9 kB\u001b[0m \u001b[31m5.7 MB/s\u001b[0m eta \u001b[36m0:00:00\u001b[0m\n",
            "\u001b[?25hInstalling collected packages: seaborn\n",
            "  Attempting uninstall: seaborn\n",
            "    Found existing installation: seaborn 0.13.1\n",
            "    Uninstalling seaborn-0.13.1:\n",
            "      Successfully uninstalled seaborn-0.13.1\n",
            "Successfully installed seaborn-0.13.2\n",
            "Collecting polars>=1.6.0\n",
            "  Downloading polars-1.7.1-cp38-abi3-manylinux_2_17_x86_64.manylinux2014_x86_64.whl.metadata (14 kB)\n",
            "Downloading polars-1.7.1-cp38-abi3-manylinux_2_17_x86_64.manylinux2014_x86_64.whl (32.2 MB)\n",
            "\u001b[2K   \u001b[90m━━━━━━━━━━━━━━━━━━━━━━━━━━━━━━━━━━━━━━━━\u001b[0m \u001b[32m32.2/32.2 MB\u001b[0m \u001b[31m15.0 MB/s\u001b[0m eta \u001b[36m0:00:00\u001b[0m\n",
            "\u001b[?25hInstalling collected packages: polars\n",
            "  Attempting uninstall: polars\n",
            "    Found existing installation: polars 0.20.2\n",
            "    Uninstalling polars-0.20.2:\n",
            "      Successfully uninstalled polars-0.20.2\n",
            "Successfully installed polars-1.7.1\n",
            "Collecting scikit-learn>=1.5.1\n",
            "  Downloading scikit_learn-1.5.2-cp310-cp310-manylinux_2_17_x86_64.manylinux2014_x86_64.whl.metadata (13 kB)\n",
            "Requirement already satisfied: numpy>=1.19.5 in /usr/local/lib/python3.10/dist-packages (from scikit-learn>=1.5.1) (1.26.4)\n",
            "Requirement already satisfied: scipy>=1.6.0 in /usr/local/lib/python3.10/dist-packages (from scikit-learn>=1.5.1) (1.13.1)\n",
            "Requirement already satisfied: joblib>=1.2.0 in /usr/local/lib/python3.10/dist-packages (from scikit-learn>=1.5.1) (1.4.2)\n",
            "Requirement already satisfied: threadpoolctl>=3.1.0 in /usr/local/lib/python3.10/dist-packages (from scikit-learn>=1.5.1) (3.5.0)\n",
            "Downloading scikit_learn-1.5.2-cp310-cp310-manylinux_2_17_x86_64.manylinux2014_x86_64.whl (13.3 MB)\n",
            "\u001b[2K   \u001b[90m━━━━━━━━━━━━━━━━━━━━━━━━━━━━━━━━━━━━━━━━\u001b[0m \u001b[32m13.3/13.3 MB\u001b[0m \u001b[31m17.0 MB/s\u001b[0m eta \u001b[36m0:00:00\u001b[0m\n",
            "\u001b[?25hInstalling collected packages: scikit-learn\n",
            "  Attempting uninstall: scikit-learn\n",
            "    Found existing installation: scikit-learn 1.3.2\n",
            "    Uninstalling scikit-learn-1.3.2:\n",
            "      Successfully uninstalled scikit-learn-1.3.2\n",
            "Successfully installed scikit-learn-1.5.2\n"
          ]
        }
      ]
    },
    {
      "cell_type": "markdown",
      "source": [
        "For most labs, we will use a Credit Risk dataset that has been prepared by IBM. You can download it with the following code:"
      ],
      "metadata": {
        "id": "8_B3B-bR6bDo"
      }
    },
    {
      "cell_type": "code",
      "execution_count": 4,
      "metadata": {
        "colab": {
          "base_uri": "https://localhost:8080/"
        },
        "id": "S8DJTkBQY8xn",
        "outputId": "31b70110-e274-448a-b989-8019036a5228"
      },
      "outputs": [
        {
          "output_type": "stream",
          "name": "stdout",
          "text": [
            "rm: cannot remove 'german_credit_data_biased_training.csv': No such file or directory\n",
            "--2024-09-26 20:26:07--  https://raw.githubusercontent.com/IBM/monitor-wml-model-with-watson-openscale/master/data/german_credit_data_biased_training.csv\n",
            "Resolving raw.githubusercontent.com (raw.githubusercontent.com)... 185.199.108.133, 185.199.109.133, 185.199.110.133, ...\n",
            "Connecting to raw.githubusercontent.com (raw.githubusercontent.com)|185.199.108.133|:443... connected.\n",
            "HTTP request sent, awaiting response... 200 OK\n",
            "Length: 689622 (673K) [text/plain]\n",
            "Saving to: ‘german_credit_data_biased_training.csv’\n",
            "\n",
            "german_credit_data_ 100%[===================>] 673.46K  --.-KB/s    in 0.05s   \n",
            "\n",
            "2024-09-26 20:26:07 (12.0 MB/s) - ‘german_credit_data_biased_training.csv’ saved [689622/689622]\n",
            "\n"
          ]
        }
      ],
      "source": [
        "!rm german_credit_data_biased_training.csv\n",
        "!wget https://raw.githubusercontent.com/IBM/monitor-wml-model-with-watson-openscale/master/data/german_credit_data_biased_training.csv"
      ]
    },
    {
      "cell_type": "markdown",
      "source": [
        "The goals of this lab are:\n",
        "- to read the data and look at it,\n",
        "- to build and train a machine learning pipeline\n",
        "- to assess its quality with cross-validation"
      ],
      "metadata": {
        "id": "tcwa44S5GE-G"
      }
    },
    {
      "cell_type": "markdown",
      "source": [
        "## A first look at the dataset"
      ],
      "metadata": {
        "id": "RuNfCCNyemXl"
      }
    },
    {
      "cell_type": "markdown",
      "source": [
        "To read the CSV files with `polars`, we need first import the library"
      ],
      "metadata": {
        "id": "npHKE4MY_8UW"
      }
    },
    {
      "cell_type": "code",
      "source": [
        "import polars as pl"
      ],
      "metadata": {
        "id": "wHsleyWWegKP"
      },
      "execution_count": 5,
      "outputs": []
    },
    {
      "cell_type": "markdown",
      "source": [
        "and then use the `pl.read_csv` function."
      ],
      "metadata": {
        "id": "vGX9i2MIAKfa"
      }
    },
    {
      "cell_type": "code",
      "source": [
        "german_credit = pl.read_csv(\"german_credit_data_biased_training.csv\")"
      ],
      "metadata": {
        "id": "Ktr-IPVmexwo"
      },
      "execution_count": 6,
      "outputs": []
    },
    {
      "cell_type": "markdown",
      "source": [
        "The `head` method give us a glimpse on the content of the table: a mix of categorical variables `str` and numerical ones `i64`."
      ],
      "metadata": {
        "id": "w5ez0a8OA8cO"
      }
    },
    {
      "cell_type": "code",
      "source": [
        "german_credit.head()"
      ],
      "metadata": {
        "colab": {
          "base_uri": "https://localhost:8080/",
          "height": 344
        },
        "id": "Kda4ru2iAcr0",
        "outputId": "653d09f0-f806-48db-e28b-8c85b3b8c5f8"
      },
      "execution_count": 7,
      "outputs": [
        {
          "output_type": "execute_result",
          "data": {
            "text/plain": [
              "shape: (5, 21)\n",
              "┌────────────┬───────────┬───────────┬───────────┬───┬───────────┬───────────┬───────────┬─────────┐\n",
              "│ CheckingSt ┆ LoanDurat ┆ CreditHis ┆ LoanPurpo ┆ … ┆ Dependent ┆ Telephone ┆ ForeignWo ┆ Risk    │\n",
              "│ atus       ┆ ion       ┆ tory      ┆ se        ┆   ┆ s         ┆ ---       ┆ rker      ┆ ---     │\n",
              "│ ---        ┆ ---       ┆ ---       ┆ ---       ┆   ┆ ---       ┆ str       ┆ ---       ┆ str     │\n",
              "│ str        ┆ i64       ┆ str       ┆ str       ┆   ┆ i64       ┆           ┆ str       ┆         │\n",
              "╞════════════╪═══════════╪═══════════╪═══════════╪═══╪═══════════╪═══════════╪═══════════╪═════════╡\n",
              "│ 0_to_200   ┆ 31        ┆ credits_p ┆ other     ┆ … ┆ 1         ┆ none      ┆ yes       ┆ No Risk │\n",
              "│            ┆           ┆ aid_to_da ┆           ┆   ┆           ┆           ┆           ┆         │\n",
              "│            ┆           ┆ te        ┆           ┆   ┆           ┆           ┆           ┆         │\n",
              "│ less_0     ┆ 18        ┆ credits_p ┆ car_new   ┆ … ┆ 1         ┆ none      ┆ yes       ┆ No Risk │\n",
              "│            ┆           ┆ aid_to_da ┆           ┆   ┆           ┆           ┆           ┆         │\n",
              "│            ┆           ┆ te        ┆           ┆   ┆           ┆           ┆           ┆         │\n",
              "│ less_0     ┆ 15        ┆ prior_pay ┆ furniture ┆ … ┆ 1         ┆ yes       ┆ no        ┆ No Risk │\n",
              "│            ┆           ┆ ments_del ┆           ┆   ┆           ┆           ┆           ┆         │\n",
              "│            ┆           ┆ ayed      ┆           ┆   ┆           ┆           ┆           ┆         │\n",
              "│ 0_to_200   ┆ 28        ┆ credits_p ┆ retrainin ┆ … ┆ 1         ┆ none      ┆ yes       ┆ No Risk │\n",
              "│            ┆           ┆ aid_to_da ┆ g         ┆   ┆           ┆           ┆           ┆         │\n",
              "│            ┆           ┆ te        ┆           ┆   ┆           ┆           ┆           ┆         │\n",
              "│ no_checkin ┆ 28        ┆ prior_pay ┆ education ┆ … ┆ 1         ┆ none      ┆ yes       ┆ Risk    │\n",
              "│ g          ┆           ┆ ments_del ┆           ┆   ┆           ┆           ┆           ┆         │\n",
              "│            ┆           ┆ ayed      ┆           ┆   ┆           ┆           ┆           ┆         │\n",
              "└────────────┴───────────┴───────────┴───────────┴───┴───────────┴───────────┴───────────┴─────────┘"
            ],
            "text/html": [
              "<div><style>\n",
              ".dataframe > thead > tr,\n",
              ".dataframe > tbody > tr {\n",
              "  text-align: right;\n",
              "  white-space: pre-wrap;\n",
              "}\n",
              "</style>\n",
              "<small>shape: (5, 21)</small><table border=\"1\" class=\"dataframe\"><thead><tr><th>CheckingStatus</th><th>LoanDuration</th><th>CreditHistory</th><th>LoanPurpose</th><th>LoanAmount</th><th>ExistingSavings</th><th>EmploymentDuration</th><th>InstallmentPercent</th><th>Sex</th><th>OthersOnLoan</th><th>CurrentResidenceDuration</th><th>OwnsProperty</th><th>Age</th><th>InstallmentPlans</th><th>Housing</th><th>ExistingCreditsCount</th><th>Job</th><th>Dependents</th><th>Telephone</th><th>ForeignWorker</th><th>Risk</th></tr><tr><td>str</td><td>i64</td><td>str</td><td>str</td><td>i64</td><td>str</td><td>str</td><td>i64</td><td>str</td><td>str</td><td>i64</td><td>str</td><td>i64</td><td>str</td><td>str</td><td>i64</td><td>str</td><td>i64</td><td>str</td><td>str</td><td>str</td></tr></thead><tbody><tr><td>&quot;0_to_200&quot;</td><td>31</td><td>&quot;credits_paid_to_date&quot;</td><td>&quot;other&quot;</td><td>1889</td><td>&quot;100_to_500&quot;</td><td>&quot;less_1&quot;</td><td>3</td><td>&quot;female&quot;</td><td>&quot;none&quot;</td><td>3</td><td>&quot;savings_insurance&quot;</td><td>32</td><td>&quot;none&quot;</td><td>&quot;own&quot;</td><td>1</td><td>&quot;skilled&quot;</td><td>1</td><td>&quot;none&quot;</td><td>&quot;yes&quot;</td><td>&quot;No Risk&quot;</td></tr><tr><td>&quot;less_0&quot;</td><td>18</td><td>&quot;credits_paid_to_date&quot;</td><td>&quot;car_new&quot;</td><td>462</td><td>&quot;less_100&quot;</td><td>&quot;1_to_4&quot;</td><td>2</td><td>&quot;female&quot;</td><td>&quot;none&quot;</td><td>2</td><td>&quot;savings_insurance&quot;</td><td>37</td><td>&quot;stores&quot;</td><td>&quot;own&quot;</td><td>2</td><td>&quot;skilled&quot;</td><td>1</td><td>&quot;none&quot;</td><td>&quot;yes&quot;</td><td>&quot;No Risk&quot;</td></tr><tr><td>&quot;less_0&quot;</td><td>15</td><td>&quot;prior_payments_delayed&quot;</td><td>&quot;furniture&quot;</td><td>250</td><td>&quot;less_100&quot;</td><td>&quot;1_to_4&quot;</td><td>2</td><td>&quot;male&quot;</td><td>&quot;none&quot;</td><td>3</td><td>&quot;real_estate&quot;</td><td>28</td><td>&quot;none&quot;</td><td>&quot;own&quot;</td><td>2</td><td>&quot;skilled&quot;</td><td>1</td><td>&quot;yes&quot;</td><td>&quot;no&quot;</td><td>&quot;No Risk&quot;</td></tr><tr><td>&quot;0_to_200&quot;</td><td>28</td><td>&quot;credits_paid_to_date&quot;</td><td>&quot;retraining&quot;</td><td>3693</td><td>&quot;less_100&quot;</td><td>&quot;greater_7&quot;</td><td>3</td><td>&quot;male&quot;</td><td>&quot;none&quot;</td><td>2</td><td>&quot;savings_insurance&quot;</td><td>32</td><td>&quot;none&quot;</td><td>&quot;own&quot;</td><td>1</td><td>&quot;skilled&quot;</td><td>1</td><td>&quot;none&quot;</td><td>&quot;yes&quot;</td><td>&quot;No Risk&quot;</td></tr><tr><td>&quot;no_checking&quot;</td><td>28</td><td>&quot;prior_payments_delayed&quot;</td><td>&quot;education&quot;</td><td>6235</td><td>&quot;500_to_1000&quot;</td><td>&quot;greater_7&quot;</td><td>3</td><td>&quot;male&quot;</td><td>&quot;none&quot;</td><td>3</td><td>&quot;unknown&quot;</td><td>57</td><td>&quot;none&quot;</td><td>&quot;own&quot;</td><td>2</td><td>&quot;skilled&quot;</td><td>1</td><td>&quot;none&quot;</td><td>&quot;yes&quot;</td><td>&quot;Risk&quot;</td></tr></tbody></table></div>"
            ]
          },
          "metadata": {},
          "execution_count": 7
        }
      ]
    },
    {
      "cell_type": "markdown",
      "source": [
        "We can obtain some statistics on those variables with the `describe` method:"
      ],
      "metadata": {
        "id": "dNajVIYWBNlP"
      }
    },
    {
      "cell_type": "code",
      "source": [
        "#generate summary\n",
        "german_credit.describe()"
      ],
      "metadata": {
        "colab": {
          "base_uri": "https://localhost:8080/",
          "height": 417
        },
        "id": "dog2qIHceelm",
        "outputId": "6ab635f6-072d-41de-bd32-ed79efe9c028"
      },
      "execution_count": null,
      "outputs": [
        {
          "output_type": "execute_result",
          "data": {
            "text/plain": [
              "shape: (9, 22)\n",
              "┌────────────┬───────────┬───────────┬───────────┬───┬───────────┬───────────┬───────────┬─────────┐\n",
              "│ statistic  ┆ CheckingS ┆ LoanDurat ┆ CreditHis ┆ … ┆ Dependent ┆ Telephone ┆ ForeignWo ┆ Risk    │\n",
              "│ ---        ┆ tatus     ┆ ion       ┆ tory      ┆   ┆ s         ┆ ---       ┆ rker      ┆ ---     │\n",
              "│ str        ┆ ---       ┆ ---       ┆ ---       ┆   ┆ ---       ┆ str       ┆ ---       ┆ str     │\n",
              "│            ┆ str       ┆ f64       ┆ str       ┆   ┆ f64       ┆           ┆ str       ┆         │\n",
              "╞════════════╪═══════════╪═══════════╪═══════════╪═══╪═══════════╪═══════════╪═══════════╪═════════╡\n",
              "│ count      ┆ 5000      ┆ 5000.0    ┆ 5000      ┆ … ┆ 5000.0    ┆ 5000      ┆ 5000      ┆ 5000    │\n",
              "│ null_count ┆ 0         ┆ 0.0       ┆ 0         ┆ … ┆ 0.0       ┆ 0         ┆ 0         ┆ 0       │\n",
              "│ mean       ┆ null      ┆ 21.393    ┆ null      ┆ … ┆ 1.1646    ┆ null      ┆ null      ┆ null    │\n",
              "│ std        ┆ null      ┆ 11.162843 ┆ null      ┆ … ┆ 0.370856  ┆ null      ┆ null      ┆ null    │\n",
              "│ min        ┆ 0_to_200  ┆ 4.0       ┆ all_credi ┆ … ┆ 1.0       ┆ none      ┆ no        ┆ No Risk │\n",
              "│            ┆           ┆           ┆ ts_paid_b ┆   ┆           ┆           ┆           ┆         │\n",
              "│            ┆           ┆           ┆ ack       ┆   ┆           ┆           ┆           ┆         │\n",
              "│ 25%        ┆ null      ┆ 13.0      ┆ null      ┆ … ┆ 1.0       ┆ null      ┆ null      ┆ null    │\n",
              "│ 50%        ┆ null      ┆ 21.0      ┆ null      ┆ … ┆ 1.0       ┆ null      ┆ null      ┆ null    │\n",
              "│ 75%        ┆ null      ┆ 29.0      ┆ null      ┆ … ┆ 1.0       ┆ null      ┆ null      ┆ null    │\n",
              "│ max        ┆ no_checki ┆ 64.0      ┆ prior_pay ┆ … ┆ 2.0       ┆ yes       ┆ yes       ┆ Risk    │\n",
              "│            ┆ ng        ┆           ┆ ments_del ┆   ┆           ┆           ┆           ┆         │\n",
              "│            ┆           ┆           ┆ ayed      ┆   ┆           ┆           ┆           ┆         │\n",
              "└────────────┴───────────┴───────────┴───────────┴───┴───────────┴───────────┴───────────┴─────────┘"
            ],
            "text/html": [
              "<div><style>\n",
              ".dataframe > thead > tr,\n",
              ".dataframe > tbody > tr {\n",
              "  text-align: right;\n",
              "  white-space: pre-wrap;\n",
              "}\n",
              "</style>\n",
              "<small>shape: (9, 22)</small><table border=\"1\" class=\"dataframe\"><thead><tr><th>statistic</th><th>CheckingStatus</th><th>LoanDuration</th><th>CreditHistory</th><th>LoanPurpose</th><th>LoanAmount</th><th>ExistingSavings</th><th>EmploymentDuration</th><th>InstallmentPercent</th><th>Sex</th><th>OthersOnLoan</th><th>CurrentResidenceDuration</th><th>OwnsProperty</th><th>Age</th><th>InstallmentPlans</th><th>Housing</th><th>ExistingCreditsCount</th><th>Job</th><th>Dependents</th><th>Telephone</th><th>ForeignWorker</th><th>Risk</th></tr><tr><td>str</td><td>str</td><td>f64</td><td>str</td><td>str</td><td>f64</td><td>str</td><td>str</td><td>f64</td><td>str</td><td>str</td><td>f64</td><td>str</td><td>f64</td><td>str</td><td>str</td><td>f64</td><td>str</td><td>f64</td><td>str</td><td>str</td><td>str</td></tr></thead><tbody><tr><td>&quot;count&quot;</td><td>&quot;5000&quot;</td><td>5000.0</td><td>&quot;5000&quot;</td><td>&quot;5000&quot;</td><td>5000.0</td><td>&quot;5000&quot;</td><td>&quot;5000&quot;</td><td>5000.0</td><td>&quot;5000&quot;</td><td>&quot;5000&quot;</td><td>5000.0</td><td>&quot;5000&quot;</td><td>5000.0</td><td>&quot;5000&quot;</td><td>&quot;5000&quot;</td><td>5000.0</td><td>&quot;5000&quot;</td><td>5000.0</td><td>&quot;5000&quot;</td><td>&quot;5000&quot;</td><td>&quot;5000&quot;</td></tr><tr><td>&quot;null_count&quot;</td><td>&quot;0&quot;</td><td>0.0</td><td>&quot;0&quot;</td><td>&quot;0&quot;</td><td>0.0</td><td>&quot;0&quot;</td><td>&quot;0&quot;</td><td>0.0</td><td>&quot;0&quot;</td><td>&quot;0&quot;</td><td>0.0</td><td>&quot;0&quot;</td><td>0.0</td><td>&quot;0&quot;</td><td>&quot;0&quot;</td><td>0.0</td><td>&quot;0&quot;</td><td>0.0</td><td>&quot;0&quot;</td><td>&quot;0&quot;</td><td>&quot;0&quot;</td></tr><tr><td>&quot;mean&quot;</td><td>null</td><td>21.393</td><td>null</td><td>null</td><td>3480.145</td><td>null</td><td>null</td><td>2.9824</td><td>null</td><td>null</td><td>2.8542</td><td>null</td><td>35.9324</td><td>null</td><td>null</td><td>1.4658</td><td>null</td><td>1.1646</td><td>null</td><td>null</td><td>null</td></tr><tr><td>&quot;std&quot;</td><td>null</td><td>11.162843</td><td>null</td><td>null</td><td>2488.232783</td><td>null</td><td>null</td><td>1.127096</td><td>null</td><td>null</td><td>1.115702</td><td>null</td><td>10.648536</td><td>null</td><td>null</td><td>0.565415</td><td>null</td><td>0.370856</td><td>null</td><td>null</td><td>null</td></tr><tr><td>&quot;min&quot;</td><td>&quot;0_to_200&quot;</td><td>4.0</td><td>&quot;all_credits_paid_back&quot;</td><td>&quot;appliances&quot;</td><td>250.0</td><td>&quot;100_to_500&quot;</td><td>&quot;1_to_4&quot;</td><td>1.0</td><td>&quot;female&quot;</td><td>&quot;co-applicant&quot;</td><td>1.0</td><td>&quot;car_other&quot;</td><td>19.0</td><td>&quot;bank&quot;</td><td>&quot;free&quot;</td><td>1.0</td><td>&quot;management_self-employed&quot;</td><td>1.0</td><td>&quot;none&quot;</td><td>&quot;no&quot;</td><td>&quot;No Risk&quot;</td></tr><tr><td>&quot;25%&quot;</td><td>null</td><td>13.0</td><td>null</td><td>null</td><td>1327.0</td><td>null</td><td>null</td><td>2.0</td><td>null</td><td>null</td><td>2.0</td><td>null</td><td>28.0</td><td>null</td><td>null</td><td>1.0</td><td>null</td><td>1.0</td><td>null</td><td>null</td><td>null</td></tr><tr><td>&quot;50%&quot;</td><td>null</td><td>21.0</td><td>null</td><td>null</td><td>3240.0</td><td>null</td><td>null</td><td>3.0</td><td>null</td><td>null</td><td>3.0</td><td>null</td><td>36.0</td><td>null</td><td>null</td><td>1.0</td><td>null</td><td>1.0</td><td>null</td><td>null</td><td>null</td></tr><tr><td>&quot;75%&quot;</td><td>null</td><td>29.0</td><td>null</td><td>null</td><td>5355.0</td><td>null</td><td>null</td><td>4.0</td><td>null</td><td>null</td><td>4.0</td><td>null</td><td>44.0</td><td>null</td><td>null</td><td>2.0</td><td>null</td><td>1.0</td><td>null</td><td>null</td><td>null</td></tr><tr><td>&quot;max&quot;</td><td>&quot;no_checking&quot;</td><td>64.0</td><td>&quot;prior_payments_delayed&quot;</td><td>&quot;vacation&quot;</td><td>11676.0</td><td>&quot;unknown&quot;</td><td>&quot;unemployed&quot;</td><td>6.0</td><td>&quot;male&quot;</td><td>&quot;none&quot;</td><td>6.0</td><td>&quot;unknown&quot;</td><td>74.0</td><td>&quot;stores&quot;</td><td>&quot;rent&quot;</td><td>4.0</td><td>&quot;unskilled&quot;</td><td>2.0</td><td>&quot;yes&quot;</td><td>&quot;yes&quot;</td><td>&quot;Risk&quot;</td></tr></tbody></table></div>"
            ]
          },
          "metadata": {},
          "execution_count": 6
        }
      ]
    },
    {
      "cell_type": "markdown",
      "source": [
        "Note that the meaning and the content of each variable is not documented in the csv itself. This will not be an issue to apply \"blindly\" machine learning methods, but could be a real issue in a realworld situation."
      ],
      "metadata": {
        "id": "g1tJXsY1BZ4H"
      }
    },
    {
      "cell_type": "markdown",
      "source": [
        "**Question** Can you find a description of this dataset? Of its origin?"
      ],
      "metadata": {
        "id": "BiFJ5GIsByK0"
      }
    },
    {
      "cell_type": "markdown",
      "source": [
        "## A second glimpse\n",
        "\n",
        "The most natural task associated to this dataset is to try to predict the default risk of the clients given the information we have on them. We, indeed, have a column named `Risk` precices whether their have been a default (`Risk`) or not (`No Risk`).\n",
        "\n",
        "We can use `seaborn` to visualize the numbers of those events:"
      ],
      "metadata": {
        "id": "eAyPPicQEVZK"
      }
    },
    {
      "cell_type": "code",
      "source": [
        "import seaborn as sns\n",
        "sns.countplot(x=\"Risk\", data=german_credit)"
      ],
      "metadata": {
        "colab": {
          "base_uri": "https://localhost:8080/",
          "height": 467
        },
        "id": "7ArliQa8fU1d",
        "outputId": "2ac15bdc-7504-493a-eaa5-db4287972cb0"
      },
      "execution_count": null,
      "outputs": [
        {
          "output_type": "execute_result",
          "data": {
            "text/plain": [
              "<Axes: xlabel='Risk', ylabel='count'>"
            ]
          },
          "metadata": {},
          "execution_count": 7
        },
        {
          "output_type": "display_data",
          "data": {
            "text/plain": [
              "<Figure size 640x480 with 1 Axes>"
            ],
            "image/png": "[encoded data removed]"
          },
          "metadata": {}
        }
      ]
    },
    {
      "cell_type": "markdown",
      "source": [
        "I prefer the objects API which gice a unified API for all visualization:"
      ],
      "metadata": {
        "id": "2_3NJzETFUZv"
      }
    },
    {
      "cell_type": "code",
      "source": [
        "import seaborn.objects as so"
      ],
      "metadata": {
        "id": "-DXjIxIvgZ-E"
      },
      "execution_count": null,
      "outputs": []
    },
    {
      "cell_type": "code",
      "source": [
        "(so.Plot(german_credit, x=\"Risk\")\n",
        "    .add(so.Bars(), so.Count())\n",
        ")"
      ],
      "metadata": {
        "colab": {
          "base_uri": "https://localhost:8080/",
          "height": 395
        },
        "id": "8vApFtLqgf_5",
        "outputId": "e314b0e6-2417-467d-9d5b-16b93f0d4c6f"
      },
      "execution_count": null,
      "outputs": [
        {
          "output_type": "execute_result",
          "data": {
            "text/plain": [
              "<seaborn._core.plot.Plot at 0x7da25a8f5960>"
            ],
            "image/png": "[encoded data removed]"
          },
          "metadata": {
            "image/png": {
              "width": 509.15,
              "height": 378.25
            }
          },
          "execution_count": 9
        }
      ]
    },
    {
      "cell_type": "markdown",
      "source": [
        "We can observe that we have around twice more `No Risk` than `Risk` outcome. It is alway a good idea to look at the real numbers, for instance with"
      ],
      "metadata": {
        "id": "rArU0fhNFqA9"
      }
    },
    {
      "cell_type": "code",
      "source": [
        "german_credit.group_by(\"Risk\").len()"
      ],
      "metadata": {
        "id": "LtplQ8CABbVa",
        "outputId": "4ef2533d-be11-4b12-e458-77a2dbddf804",
        "colab": {
          "base_uri": "https://localhost:8080/",
          "height": 161
        }
      },
      "execution_count": 11,
      "outputs": [
        {
          "output_type": "execute_result",
          "data": {
            "text/plain": [
              "shape: (2, 2)\n",
              "┌─────────┬──────┐\n",
              "│ Risk    ┆ len  │\n",
              "│ ---     ┆ ---  │\n",
              "│ str     ┆ u32  │\n",
              "╞═════════╪══════╡\n",
              "│ No Risk ┆ 3330 │\n",
              "│ Risk    ┆ 1670 │\n",
              "└─────────┴──────┘"
            ],
            "text/html": [
              "<div><style>\n",
              ".dataframe > thead > tr,\n",
              ".dataframe > tbody > tr {\n",
              "  text-align: right;\n",
              "  white-space: pre-wrap;\n",
              "}\n",
              "</style>\n",
              "<small>shape: (2, 2)</small><table border=\"1\" class=\"dataframe\"><thead><tr><th>Risk</th><th>len</th></tr><tr><td>str</td><td>u32</td></tr></thead><tbody><tr><td>&quot;No Risk&quot;</td><td>3330</td></tr><tr><td>&quot;Risk&quot;</td><td>1670</td></tr></tbody></table></div>"
            ]
          },
          "metadata": {},
          "execution_count": 11
        }
      ]
    },
    {
      "cell_type": "code",
      "source": [
        "german_credit.group_by(\"Risk\").len().with_columns((pl.col(\"len\") / pl.col(\"len\").sum()).alias(\"perc\"))"
      ],
      "metadata": {
        "colab": {
          "base_uri": "https://localhost:8080/",
          "height": 161
        },
        "id": "scVHVC2_FjWy",
        "outputId": "ce0c8b1a-7f34-4bae-d46b-af7227c3e753"
      },
      "execution_count": null,
      "outputs": [
        {
          "output_type": "execute_result",
          "data": {
            "text/plain": [
              "shape: (2, 3)\n",
              "┌─────────┬──────┬───────┐\n",
              "│ Risk    ┆ len  ┆ perc  │\n",
              "│ ---     ┆ ---  ┆ ---   │\n",
              "│ str     ┆ u32  ┆ f64   │\n",
              "╞═════════╪══════╪═══════╡\n",
              "│ Risk    ┆ 1670 ┆ 0.334 │\n",
              "│ No Risk ┆ 3330 ┆ 0.666 │\n",
              "└─────────┴──────┴───────┘"
            ],
            "text/html": [
              "<div><style>\n",
              ".dataframe > thead > tr,\n",
              ".dataframe > tbody > tr {\n",
              "  text-align: right;\n",
              "  white-space: pre-wrap;\n",
              "}\n",
              "</style>\n",
              "<small>shape: (2, 3)</small><table border=\"1\" class=\"dataframe\"><thead><tr><th>Risk</th><th>len</th><th>perc</th></tr><tr><td>str</td><td>u32</td><td>f64</td></tr></thead><tbody><tr><td>&quot;Risk&quot;</td><td>1670</td><td>0.334</td></tr><tr><td>&quot;No Risk&quot;</td><td>3330</td><td>0.666</td></tr></tbody></table></div>"
            ]
          },
          "metadata": {},
          "execution_count": 10
        }
      ]
    },
    {
      "cell_type": "markdown",
      "source": [
        "We have thus exactly 1/3 of `Risk` and 2/3 of `No Risk`..."
      ],
      "metadata": {
        "id": "pFNP3J_1GTSi"
      }
    },
    {
      "cell_type": "markdown",
      "source": [
        "**Question** Do you believe that those are the proportions in a realword use case?"
      ],
      "metadata": {
        "id": "eIukaeufGdIy"
      }
    },
    {
      "cell_type": "markdown",
      "source": [
        "## Predicting the risk?"
      ],
      "metadata": {
        "id": "_e2xr7tLHaQm"
      }
    },
    {
      "cell_type": "markdown",
      "source": [
        "We are going to predict the risk using the accuracy as a metrics. This corresponds exactly to the $\\ell^{0/1}$ loss, but the accuracy is defined as $1$ minus the expectation of the loss, so that a larger accuracy is better."
      ],
      "metadata": {
        "id": "GxeIymJ7HlXx"
      }
    },
    {
      "cell_type": "markdown",
      "source": [
        "**Question** What would be the performance of a dummy classifier always predicting `No Risk`?"
      ],
      "metadata": {
        "id": "A8GluFE7HXGJ"
      }
    },
    {
      "cell_type": "markdown",
      "source": [
        "A natural question is now to guess whether one can do better or not. A hint that this is possible is that the `Risk` variable behaves differently depending on the covariates."
      ],
      "metadata": {
        "id": "-8FBxZmmIcVy"
      }
    },
    {
      "cell_type": "markdown",
      "source": [
        "**Question** Show that this is the case with the `Sex` variable."
      ],
      "metadata": {
        "id": "C43isHlvIxPg"
      }
    },
    {
      "cell_type": "markdown",
      "source": [
        "## Basic ML pipeline\n",
        "\n",
        "To make a prediction, we need to perform two steps: first, we need to transform the input into numerical vectors, and second apply a trained prediction on those numerical vectors. Note that the transformation should also be trained if it depends on variable values, for instance for a normalization.\n",
        "\n",
        "`Scikit Learn` has a very simple way to define the prediction pipeline and train it afterward."
      ],
      "metadata": {
        "id": "s5vbxKrHsiKY"
      }
    },
    {
      "cell_type": "markdown",
      "source": [
        "We need to handle in a different way the numerical variables, that are already numbers, and the categorical one, for which an encoding is required."
      ],
      "metadata": {
        "id": "nfUbSFFzOWqw"
      }
    },
    {
      "cell_type": "code",
      "source": [
        "import polars.selectors as cs\n",
        "string_columns = german_credit.select(cs.string()).columns\n",
        "numerical_columns = german_credit.select(cs.numeric()).columns"
      ],
      "metadata": {
        "id": "HWKWb5wHlsy6"
      },
      "execution_count": 12,
      "outputs": []
    },
    {
      "cell_type": "markdown",
      "source": [
        "We are now ready to import `scikit learn`, use a one hot encoding for the categorical variables, a standardization for the numerical ones, and a nearest neighbors classifier:"
      ],
      "metadata": {
        "id": "pBup7_FLOkl0"
      }
    },
    {
      "cell_type": "code",
      "source": [
        "import sklearn\n",
        "from sklearn.pipeline import Pipeline\n",
        "from sklearn.preprocessing import LabelEncoder\n",
        "from sklearn.preprocessing import OneHotEncoder\n",
        "from sklearn.preprocessing import StandardScaler\n",
        "from sklearn.compose import ColumnTransformer\n",
        "from sklearn.linear_model import LogisticRegression\n",
        "from sklearn.neighbors import KNeighborsClassifier"
      ],
      "metadata": {
        "id": "Xzbt1BmWwROu"
      },
      "execution_count": 13,
      "outputs": []
    },
    {
      "cell_type": "code",
      "source": [
        "categorical_features = string_columns.copy()\n",
        "categorical_features.remove('Risk')\n",
        "categorical_transformer = Pipeline(steps=[\n",
        "        ('onehot', OneHotEncoder(handle_unknown='ignore', sparse_output=False))\n",
        "    ])\n",
        "numerical_transformer = Pipeline(steps=[\n",
        "        ('scaler', StandardScaler())\n",
        "    ])\n",
        "\n",
        "preprocessor = ColumnTransformer(\n",
        "        transformers=[\n",
        "            ('cat', categorical_transformer, categorical_features),\n",
        "            ('num', numerical_transformer, numerical_columns)\n",
        "        ],\n",
        "        remainder='passthrough',\n",
        "        force_int_remainder_cols=False\n",
        "    )\n",
        "\n",
        "pipeline = Pipeline(steps=[('preprocessor', preprocessor),\n",
        "                              ('classifier', KNeighborsClassifier())]).set_output(transform=\"polars\")"
      ],
      "metadata": {
        "id": "PIxfR6d3wWBG"
      },
      "execution_count": 14,
      "outputs": []
    },
    {
      "cell_type": "markdown",
      "source": [
        "Training the pipeline is as simple as"
      ],
      "metadata": {
        "id": "qhBLd_VSO8dV"
      }
    },
    {
      "cell_type": "code",
      "source": [
        "X = german_credit.drop('Risk')\n",
        "y = german_credit['Risk']\n",
        "pipeline.fit(X, y)"
      ],
      "metadata": {
        "id": "Mv8oiz725_3Q",
        "colab": {
          "base_uri": "https://localhost:8080/",
          "height": 219
        },
        "outputId": "8e553337-a6bd-4153-d234-962a3cfa6811"
      },
      "execution_count": 15,
      "outputs": [
        {
          "output_type": "execute_result",
          "data": {
            "text/plain": [
              "Pipeline(steps=[('preprocessor',\n",
              "                 ColumnTransformer(force_int_remainder_cols=False,\n",
              "                                   remainder='passthrough',\n",
              "                                   transformers=[('cat',\n",
              "                                                  Pipeline(steps=[('onehot',\n",
              "                                                                   OneHotEncoder(handle_unknown='ignore',\n",
              "                                                                                 sparse_output=False))]),\n",
              "                                                  ['CheckingStatus',\n",
              "                                                   'CreditHistory',\n",
              "                                                   'LoanPurpose',\n",
              "                                                   'ExistingSavings',\n",
              "                                                   'EmploymentDuration', 'Sex',\n",
              "                                                   'OthersOnLoan',\n",
              "                                                   'OwnsProperty',\n",
              "                                                   'InstallmentPlans',\n",
              "                                                   'Housing', 'Job',\n",
              "                                                   'Telephone',\n",
              "                                                   'ForeignWorker']),\n",
              "                                                 ('num',\n",
              "                                                  Pipeline(steps=[('scaler',\n",
              "                                                                   StandardScaler())]),\n",
              "                                                  ['LoanDuration', 'LoanAmount',\n",
              "                                                   'InstallmentPercent',\n",
              "                                                   'CurrentResidenceDuration',\n",
              "                                                   'Age',\n",
              "                                                   'ExistingCreditsCount',\n",
              "                                                   'Dependents'])])),\n",
              "                ('classifier', KNeighborsClassifier())])"
            ],
            "text/html": [
              "<style>#sk-container-id-1 {\n",
              "  /* Definition of color scheme common for light and dark mode */\n",
              "  --sklearn-color-text: black;\n",
              "  --sklearn-color-line: gray;\n",
              "  /* Definition of color scheme for unfitted estimators */\n",
              "  --sklearn-color-unfitted-level-0: #fff5e6;\n",
              "  --sklearn-color-unfitted-level-1: #f6e4d2;\n",
              "  --sklearn-color-unfitted-level-2: #ffe0b3;\n",
              "  --sklearn-color-unfitted-level-3: chocolate;\n",
              "  /* Definition of color scheme for fitted estimators */\n",
              "  --sklearn-color-fitted-level-0: #f0f8ff;\n",
              "  --sklearn-color-fitted-level-1: #d4ebff;\n",
              "  --sklearn-color-fitted-level-2: #b3dbfd;\n",
              "  --sklearn-color-fitted-level-3: cornflowerblue;\n",
              "\n",
              "  /* Specific color for light theme */\n",
              "  --sklearn-color-text-on-default-background: var(--sg-text-color, var(--theme-code-foreground, var(--jp-content-font-color1, black)));\n",
              "  --sklearn-color-background: var(--sg-background-color, var(--theme-background, var(--jp-layout-color0, white)));\n",
              "  --sklearn-color-border-box: var(--sg-text-color, var(--theme-code-foreground, var(--jp-content-font-color1, black)));\n",
              "  --sklearn-color-icon: #696969;\n",
              "\n",
              "  @media (prefers-color-scheme: dark) {\n",
              "    /* Redefinition of color scheme for dark theme */\n",
              "    --sklearn-color-text-on-default-background: var(--sg-text-color, var(--theme-code-foreground, var(--jp-content-font-color1, white)));\n",
              "    --sklearn-color-background: var(--sg-background-color, var(--theme-background, var(--jp-layout-color0, #111)));\n",
              "    --sklearn-color-border-box: var(--sg-text-color, var(--theme-code-foreground, var(--jp-content-font-color1, white)));\n",
              "    --sklearn-color-icon: #878787;\n",
              "  }\n",
              "}\n",
              "\n",
              "#sk-container-id-1 {\n",
              "  color: var(--sklearn-color-text);\n",
              "}\n",
              "\n",
              "#sk-container-id-1 pre {\n",
              "  padding: 0;\n",
              "}\n",
              "\n",
              "#sk-container-id-1 input.sk-hidden--visually {\n",
              "  border: 0;\n",
              "  clip: rect(1px 1px 1px 1px);\n",
              "  clip: rect(1px, 1px, 1px, 1px);\n",
              "  height: 1px;\n",
              "  margin: -1px;\n",
              "  overflow: hidden;\n",
              "  padding: 0;\n",
              "  position: absolute;\n",
              "  width: 1px;\n",
              "}\n",
              "\n",
              "#sk-container-id-1 div.sk-dashed-wrapped {\n",
              "  border: 1px dashed var(--sklearn-color-line);\n",
              "  margin: 0 0.4em 0.5em 0.4em;\n",
              "  box-sizing: border-box;\n",
              "  padding-bottom: 0.4em;\n",
              "  background-color: var(--sklearn-color-background);\n",
              "}\n",
              "\n",
              "#sk-container-id-1 div.sk-container {\n",
              "  /* jupyter's `normalize.less` sets `[hidden] { display: none; }`\n",
              "     but bootstrap.min.css set `[hidden] { display: none !important; }`\n",
              "     so we also need the `!important` here to be able to override the\n",
              "     default hidden behavior on the sphinx rendered scikit-learn.org.\n",
              "     See: https://github.com/scikit-learn/scikit-learn/issues/21755 */\n",
              "  display: inline-block !important;\n",
              "  position: relative;\n",
              "}\n",
              "\n",
              "#sk-container-id-1 div.sk-text-repr-fallback {\n",
              "  display: none;\n",
              "}\n",
              "\n",
              "div.sk-parallel-item,\n",
              "div.sk-serial,\n",
              "div.sk-item {\n",
              "  /* draw centered vertical line to link estimators */\n",
              "  background-image: linear-gradient(var(--sklearn-color-text-on-default-background), var(--sklearn-color-text-on-default-background));\n",
              "  background-size: 2px 100%;\n",
              "  background-repeat: no-repeat;\n",
              "  background-position: center center;\n",
              "}\n",
              "\n",
              "/* Parallel-specific style estimator block */\n",
              "\n",
              "#sk-container-id-1 div.sk-parallel-item::after {\n",
              "  content: \"\";\n",
              "  width: 100%;\n",
              "  border-bottom: 2px solid var(--sklearn-color-text-on-default-background);\n",
              "  flex-grow: 1;\n",
              "}\n",
              "\n",
              "#sk-container-id-1 div.sk-parallel {\n",
              "  display: flex;\n",
              "  align-items: stretch;\n",
              "  justify-content: center;\n",
              "  background-color: var(--sklearn-color-background);\n",
              "  position: relative;\n",
              "}\n",
              "\n",
              "#sk-container-id-1 div.sk-parallel-item {\n",
              "  display: flex;\n",
              "  flex-direction: column;\n",
              "}\n",
              "\n",
              "#sk-container-id-1 div.sk-parallel-item:first-child::after {\n",
              "  align-self: flex-end;\n",
              "  width: 50%;\n",
              "}\n",
              "\n",
              "#sk-container-id-1 div.sk-parallel-item:last-child::after {\n",
              "  align-self: flex-start;\n",
              "  width: 50%;\n",
              "}\n",
              "\n",
              "#sk-container-id-1 div.sk-parallel-item:only-child::after {\n",
              "  width: 0;\n",
              "}\n",
              "\n",
              "/* Serial-specific style estimator block */\n",
              "\n",
              "#sk-container-id-1 div.sk-serial {\n",
              "  display: flex;\n",
              "  flex-direction: column;\n",
              "  align-items: center;\n",
              "  background-color: var(--sklearn-color-background);\n",
              "  padding-right: 1em;\n",
              "  padding-left: 1em;\n",
              "}\n",
              "\n",
              "\n",
              "/* Toggleable style: style used for estimator/Pipeline/ColumnTransformer box that is\n",
              "clickable and can be expanded/collapsed.\n",
              "- Pipeline and ColumnTransformer use this feature and define the default style\n",
              "- Estimators will overwrite some part of the style using the `sk-estimator` class\n",
              "*/\n",
              "\n",
              "/* Pipeline and ColumnTransformer style (default) */\n",
              "\n",
              "#sk-container-id-1 div.sk-toggleable {\n",
              "  /* Default theme specific background. It is overwritten whether we have a\n",
              "  specific estimator or a Pipeline/ColumnTransformer */\n",
              "  background-color: var(--sklearn-color-background);\n",
              "}\n",
              "\n",
              "/* Toggleable label */\n",
              "#sk-container-id-1 label.sk-toggleable__label {\n",
              "  cursor: pointer;\n",
              "  display: block;\n",
              "  width: 100%;\n",
              "  margin-bottom: 0;\n",
              "  padding: 0.5em;\n",
              "  box-sizing: border-box;\n",
              "  text-align: center;\n",
              "}\n",
              "\n",
              "#sk-container-id-1 label.sk-toggleable__label-arrow:before {\n",
              "  /* Arrow on the left of the label */\n",
              "  content: \"▸\";\n",
              "  float: left;\n",
              "  margin-right: 0.25em;\n",
              "  color: var(--sklearn-color-icon);\n",
              "}\n",
              "\n",
              "#sk-container-id-1 label.sk-toggleable__label-arrow:hover:before {\n",
              "  color: var(--sklearn-color-text);\n",
              "}\n",
              "\n",
              "/* Toggleable content - dropdown */\n",
              "\n",
              "#sk-container-id-1 div.sk-toggleable__content {\n",
              "  max-height: 0;\n",
              "  max-width: 0;\n",
              "  overflow: hidden;\n",
              "  text-align: left;\n",
              "  /* unfitted */\n",
              "  background-color: var(--sklearn-color-unfitted-level-0);\n",
              "}\n",
              "\n",
              "#sk-container-id-1 div.sk-toggleable__content.fitted {\n",
              "  /* fitted */\n",
              "  background-color: var(--sklearn-color-fitted-level-0);\n",
              "}\n",
              "\n",
              "#sk-container-id-1 div.sk-toggleable__content pre {\n",
              "  margin: 0.2em;\n",
              "  border-radius: 0.25em;\n",
              "  color: var(--sklearn-color-text);\n",
              "  /* unfitted */\n",
              "  background-color: var(--sklearn-color-unfitted-level-0);\n",
              "}\n",
              "\n",
              "#sk-container-id-1 div.sk-toggleable__content.fitted pre {\n",
              "  /* unfitted */\n",
              "  background-color: var(--sklearn-color-fitted-level-0);\n",
              "}\n",
              "\n",
              "#sk-container-id-1 input.sk-toggleable__control:checked~div.sk-toggleable__content {\n",
              "  /* Expand drop-down */\n",
              "  max-height: 200px;\n",
              "  max-width: 100%;\n",
              "  overflow: auto;\n",
              "}\n",
              "\n",
              "#sk-container-id-1 input.sk-toggleable__control:checked~label.sk-toggleable__label-arrow:before {\n",
              "  content: \"▾\";\n",
              "}\n",
              "\n",
              "/* Pipeline/ColumnTransformer-specific style */\n",
              "\n",
              "#sk-container-id-1 div.sk-label input.sk-toggleable__control:checked~label.sk-toggleable__label {\n",
              "  color: var(--sklearn-color-text);\n",
              "  background-color: var(--sklearn-color-unfitted-level-2);\n",
              "}\n",
              "\n",
              "#sk-container-id-1 div.sk-label.fitted input.sk-toggleable__control:checked~label.sk-toggleable__label {\n",
              "  background-color: var(--sklearn-color-fitted-level-2);\n",
              "}\n",
              "\n",
              "/* Estimator-specific style */\n",
              "\n",
              "/* Colorize estimator box */\n",
              "#sk-container-id-1 div.sk-estimator input.sk-toggleable__control:checked~label.sk-toggleable__label {\n",
              "  /* unfitted */\n",
              "  background-color: var(--sklearn-color-unfitted-level-2);\n",
              "}\n",
              "\n",
              "#sk-container-id-1 div.sk-estimator.fitted input.sk-toggleable__control:checked~label.sk-toggleable__label {\n",
              "  /* fitted */\n",
              "  background-color: var(--sklearn-color-fitted-level-2);\n",
              "}\n",
              "\n",
              "#sk-container-id-1 div.sk-label label.sk-toggleable__label,\n",
              "#sk-container-id-1 div.sk-label label {\n",
              "  /* The background is the default theme color */\n",
              "  color: var(--sklearn-color-text-on-default-background);\n",
              "}\n",
              "\n",
              "/* On hover, darken the color of the background */\n",
              "#sk-container-id-1 div.sk-label:hover label.sk-toggleable__label {\n",
              "  color: var(--sklearn-color-text);\n",
              "  background-color: var(--sklearn-color-unfitted-level-2);\n",
              "}\n",
              "\n",
              "/* Label box, darken color on hover, fitted */\n",
              "#sk-container-id-1 div.sk-label.fitted:hover label.sk-toggleable__label.fitted {\n",
              "  color: var(--sklearn-color-text);\n",
              "  background-color: var(--sklearn-color-fitted-level-2);\n",
              "}\n",
              "\n",
              "/* Estimator label */\n",
              "\n",
              "#sk-container-id-1 div.sk-label label {\n",
              "  font-family: monospace;\n",
              "  font-weight: bold;\n",
              "  display: inline-block;\n",
              "  line-height: 1.2em;\n",
              "}\n",
              "\n",
              "#sk-container-id-1 div.sk-label-container {\n",
              "  text-align: center;\n",
              "}\n",
              "\n",
              "/* Estimator-specific */\n",
              "#sk-container-id-1 div.sk-estimator {\n",
              "  font-family: monospace;\n",
              "  border: 1px dotted var(--sklearn-color-border-box);\n",
              "  border-radius: 0.25em;\n",
              "  box-sizing: border-box;\n",
              "  margin-bottom: 0.5em;\n",
              "  /* unfitted */\n",
              "  background-color: var(--sklearn-color-unfitted-level-0);\n",
              "}\n",
              "\n",
              "#sk-container-id-1 div.sk-estimator.fitted {\n",
              "  /* fitted */\n",
              "  background-color: var(--sklearn-color-fitted-level-0);\n",
              "}\n",
              "\n",
              "/* on hover */\n",
              "#sk-container-id-1 div.sk-estimator:hover {\n",
              "  /* unfitted */\n",
              "  background-color: var(--sklearn-color-unfitted-level-2);\n",
              "}\n",
              "\n",
              "#sk-container-id-1 div.sk-estimator.fitted:hover {\n",
              "  /* fitted */\n",
              "  background-color: var(--sklearn-color-fitted-level-2);\n",
              "}\n",
              "\n",
              "/* Specification for estimator info (e.g. \"i\" and \"?\") */\n",
              "\n",
              "/* Common style for \"i\" and \"?\" */\n",
              "\n",
              ".sk-estimator-doc-link,\n",
              "a:link.sk-estimator-doc-link,\n",
              "a:visited.sk-estimator-doc-link {\n",
              "  float: right;\n",
              "  font-size: smaller;\n",
              "  line-height: 1em;\n",
              "  font-family: monospace;\n",
              "  background-color: var(--sklearn-color-background);\n",
              "  border-radius: 1em;\n",
              "  height: 1em;\n",
              "  width: 1em;\n",
              "  text-decoration: none !important;\n",
              "  margin-left: 1ex;\n",
              "  /* unfitted */\n",
              "  border: var(--sklearn-color-unfitted-level-1) 1pt solid;\n",
              "  color: var(--sklearn-color-unfitted-level-1);\n",
              "}\n",
              "\n",
              ".sk-estimator-doc-link.fitted,\n",
              "a:link.sk-estimator-doc-link.fitted,\n",
              "a:visited.sk-estimator-doc-link.fitted {\n",
              "  /* fitted */\n",
              "  border: var(--sklearn-color-fitted-level-1) 1pt solid;\n",
              "  color: var(--sklearn-color-fitted-level-1);\n",
              "}\n",
              "\n",
              "/* On hover */\n",
              "div.sk-estimator:hover .sk-estimator-doc-link:hover,\n",
              ".sk-estimator-doc-link:hover,\n",
              "div.sk-label-container:hover .sk-estimator-doc-link:hover,\n",
              ".sk-estimator-doc-link:hover {\n",
              "  /* unfitted */\n",
              "  background-color: var(--sklearn-color-unfitted-level-3);\n",
              "  color: var(--sklearn-color-background);\n",
              "  text-decoration: none;\n",
              "}\n",
              "\n",
              "div.sk-estimator.fitted:hover .sk-estimator-doc-link.fitted:hover,\n",
              ".sk-estimator-doc-link.fitted:hover,\n",
              "div.sk-label-container:hover .sk-estimator-doc-link.fitted:hover,\n",
              ".sk-estimator-doc-link.fitted:hover {\n",
              "  /* fitted */\n",
              "  background-color: var(--sklearn-color-fitted-level-3);\n",
              "  color: var(--sklearn-color-background);\n",
              "  text-decoration: none;\n",
              "}\n",
              "\n",
              "/* Span, style for the box shown on hovering the info icon */\n",
              ".sk-estimator-doc-link span {\n",
              "  display: none;\n",
              "  z-index: 9999;\n",
              "  position: relative;\n",
              "  font-weight: normal;\n",
              "  right: .2ex;\n",
              "  padding: .5ex;\n",
              "  margin: .5ex;\n",
              "  width: min-content;\n",
              "  min-width: 20ex;\n",
              "  max-width: 50ex;\n",
              "  color: var(--sklearn-color-text);\n",
              "  box-shadow: 2pt 2pt 4pt #999;\n",
              "  /* unfitted */\n",
              "  background: var(--sklearn-color-unfitted-level-0);\n",
              "  border: .5pt solid var(--sklearn-color-unfitted-level-3);\n",
              "}\n",
              "\n",
              ".sk-estimator-doc-link.fitted span {\n",
              "  /* fitted */\n",
              "  background: var(--sklearn-color-fitted-level-0);\n",
              "  border: var(--sklearn-color-fitted-level-3);\n",
              "}\n",
              "\n",
              ".sk-estimator-doc-link:hover span {\n",
              "  display: block;\n",
              "}\n",
              "\n",
              "/* \"?\"-specific style due to the `<a>` HTML tag */\n",
              "\n",
              "#sk-container-id-1 a.estimator_doc_link {\n",
              "  float: right;\n",
              "  font-size: 1rem;\n",
              "  line-height: 1em;\n",
              "  font-family: monospace;\n",
              "  background-color: var(--sklearn-color-background);\n",
              "  border-radius: 1rem;\n",
              "  height: 1rem;\n",
              "  width: 1rem;\n",
              "  text-decoration: none;\n",
              "  /* unfitted */\n",
              "  color: var(--sklearn-color-unfitted-level-1);\n",
              "  border: var(--sklearn-color-unfitted-level-1) 1pt solid;\n",
              "}\n",
              "\n",
              "#sk-container-id-1 a.estimator_doc_link.fitted {\n",
              "  /* fitted */\n",
              "  border: var(--sklearn-color-fitted-level-1) 1pt solid;\n",
              "  color: var(--sklearn-color-fitted-level-1);\n",
              "}\n",
              "\n",
              "/* On hover */\n",
              "#sk-container-id-1 a.estimator_doc_link:hover {\n",
              "  /* unfitted */\n",
              "  background-color: var(--sklearn-color-unfitted-level-3);\n",
              "  color: var(--sklearn-color-background);\n",
              "  text-decoration: none;\n",
              "}\n",
              "\n",
              "#sk-container-id-1 a.estimator_doc_link.fitted:hover {\n",
              "  /* fitted */\n",
              "  background-color: var(--sklearn-color-fitted-level-3);\n",
              "}\n",
              "</style><div id=\"sk-container-id-1\" class=\"sk-top-container\"><div class=\"sk-text-repr-fallback\"><pre>Pipeline(steps=[(&#x27;preprocessor&#x27;,\n",
              "                 ColumnTransformer(force_int_remainder_cols=False,\n",
              "                                   remainder=&#x27;passthrough&#x27;,\n",
              "                                   transformers=[(&#x27;cat&#x27;,\n",
              "                                                  Pipeline(steps=[(&#x27;onehot&#x27;,\n",
              "                                                                   OneHotEncoder(handle_unknown=&#x27;ignore&#x27;,\n",
              "                                                                                 sparse_output=False))]),\n",
              "                                                  [&#x27;CheckingStatus&#x27;,\n",
              "                                                   &#x27;CreditHistory&#x27;,\n",
              "                                                   &#x27;LoanPurpose&#x27;,\n",
              "                                                   &#x27;ExistingSavings&#x27;,\n",
              "                                                   &#x27;EmploymentDuration&#x27;, &#x27;Sex&#x27;,\n",
              "                                                   &#x27;OthersOnLoan&#x27;,\n",
              "                                                   &#x27;OwnsProperty&#x27;,\n",
              "                                                   &#x27;InstallmentPlans&#x27;,\n",
              "                                                   &#x27;Housing&#x27;, &#x27;Job&#x27;,\n",
              "                                                   &#x27;Telephone&#x27;,\n",
              "                                                   &#x27;ForeignWorker&#x27;]),\n",
              "                                                 (&#x27;num&#x27;,\n",
              "                                                  Pipeline(steps=[(&#x27;scaler&#x27;,\n",
              "                                                                   StandardScaler())]),\n",
              "                                                  [&#x27;LoanDuration&#x27;, &#x27;LoanAmount&#x27;,\n",
              "                                                   &#x27;InstallmentPercent&#x27;,\n",
              "                                                   &#x27;CurrentResidenceDuration&#x27;,\n",
              "                                                   &#x27;Age&#x27;,\n",
              "                                                   &#x27;ExistingCreditsCount&#x27;,\n",
              "                                                   &#x27;Dependents&#x27;])])),\n",
              "                (&#x27;classifier&#x27;, KNeighborsClassifier())])</pre><b>In a Jupyter environment, please rerun this cell to show the HTML representation or trust the notebook. <br />On GitHub, the HTML representation is unable to render, please try loading this page with nbviewer.org.</b></div><div class=\"sk-container\" hidden><div class=\"sk-item sk-dashed-wrapped\"><div class=\"sk-label-container\"><div class=\"sk-label fitted sk-toggleable\"><input class=\"sk-toggleable__control sk-hidden--visually\" id=\"sk-estimator-id-1\" type=\"checkbox\" ><label for=\"sk-estimator-id-1\" class=\"sk-toggleable__label fitted sk-toggleable__label-arrow fitted\">&nbsp;&nbsp;Pipeline<a class=\"sk-estimator-doc-link fitted\" rel=\"noreferrer\" target=\"_blank\" href=\"https://scikit-learn.org/1.5/modules/generated/sklearn.pipeline.Pipeline.html\">?<span>Documentation for Pipeline</span></a><span class=\"sk-estimator-doc-link fitted\">i<span>Fitted</span></span></label><div class=\"sk-toggleable__content fitted\"><pre>Pipeline(steps=[(&#x27;preprocessor&#x27;,\n",
              "                 ColumnTransformer(force_int_remainder_cols=False,\n",
              "                                   remainder=&#x27;passthrough&#x27;,\n",
              "                                   transformers=[(&#x27;cat&#x27;,\n",
              "                                                  Pipeline(steps=[(&#x27;onehot&#x27;,\n",
              "                                                                   OneHotEncoder(handle_unknown=&#x27;ignore&#x27;,\n",
              "                                                                                 sparse_output=False))]),\n",
              "                                                  [&#x27;CheckingStatus&#x27;,\n",
              "                                                   &#x27;CreditHistory&#x27;,\n",
              "                                                   &#x27;LoanPurpose&#x27;,\n",
              "                                                   &#x27;ExistingSavings&#x27;,\n",
              "                                                   &#x27;EmploymentDuration&#x27;, &#x27;Sex&#x27;,\n",
              "                                                   &#x27;OthersOnLoan&#x27;,\n",
              "                                                   &#x27;OwnsProperty&#x27;,\n",
              "                                                   &#x27;InstallmentPlans&#x27;,\n",
              "                                                   &#x27;Housing&#x27;, &#x27;Job&#x27;,\n",
              "                                                   &#x27;Telephone&#x27;,\n",
              "                                                   &#x27;ForeignWorker&#x27;]),\n",
              "                                                 (&#x27;num&#x27;,\n",
              "                                                  Pipeline(steps=[(&#x27;scaler&#x27;,\n",
              "                                                                   StandardScaler())]),\n",
              "                                                  [&#x27;LoanDuration&#x27;, &#x27;LoanAmount&#x27;,\n",
              "                                                   &#x27;InstallmentPercent&#x27;,\n",
              "                                                   &#x27;CurrentResidenceDuration&#x27;,\n",
              "                                                   &#x27;Age&#x27;,\n",
              "                                                   &#x27;ExistingCreditsCount&#x27;,\n",
              "                                                   &#x27;Dependents&#x27;])])),\n",
              "                (&#x27;classifier&#x27;, KNeighborsClassifier())])</pre></div> </div></div><div class=\"sk-serial\"><div class=\"sk-item sk-dashed-wrapped\"><div class=\"sk-label-container\"><div class=\"sk-label fitted sk-toggleable\"><input class=\"sk-toggleable__control sk-hidden--visually\" id=\"sk-estimator-id-2\" type=\"checkbox\" ><label for=\"sk-estimator-id-2\" class=\"sk-toggleable__label fitted sk-toggleable__label-arrow fitted\">&nbsp;preprocessor: ColumnTransformer<a class=\"sk-estimator-doc-link fitted\" rel=\"noreferrer\" target=\"_blank\" href=\"https://scikit-learn.org/1.5/modules/generated/sklearn.compose.ColumnTransformer.html\">?<span>Documentation for preprocessor: ColumnTransformer</span></a></label><div class=\"sk-toggleable__content fitted\"><pre>ColumnTransformer(force_int_remainder_cols=False, remainder=&#x27;passthrough&#x27;,\n",
              "                  transformers=[(&#x27;cat&#x27;,\n",
              "                                 Pipeline(steps=[(&#x27;onehot&#x27;,\n",
              "                                                  OneHotEncoder(handle_unknown=&#x27;ignore&#x27;,\n",
              "                                                                sparse_output=False))]),\n",
              "                                 [&#x27;CheckingStatus&#x27;, &#x27;CreditHistory&#x27;,\n",
              "                                  &#x27;LoanPurpose&#x27;, &#x27;ExistingSavings&#x27;,\n",
              "                                  &#x27;EmploymentDuration&#x27;, &#x27;Sex&#x27;, &#x27;OthersOnLoan&#x27;,\n",
              "                                  &#x27;OwnsProperty&#x27;, &#x27;InstallmentPlans&#x27;, &#x27;Housing&#x27;,\n",
              "                                  &#x27;Job&#x27;, &#x27;Telephone&#x27;, &#x27;ForeignWorker&#x27;]),\n",
              "                                (&#x27;num&#x27;,\n",
              "                                 Pipeline(steps=[(&#x27;scaler&#x27;, StandardScaler())]),\n",
              "                                 [&#x27;LoanDuration&#x27;, &#x27;LoanAmount&#x27;,\n",
              "                                  &#x27;InstallmentPercent&#x27;,\n",
              "                                  &#x27;CurrentResidenceDuration&#x27;, &#x27;Age&#x27;,\n",
              "                                  &#x27;ExistingCreditsCount&#x27;, &#x27;Dependents&#x27;])])</pre></div> </div></div><div class=\"sk-parallel\"><div class=\"sk-parallel-item\"><div class=\"sk-item\"><div class=\"sk-label-container\"><div class=\"sk-label fitted sk-toggleable\"><input class=\"sk-toggleable__control sk-hidden--visually\" id=\"sk-estimator-id-3\" type=\"checkbox\" ><label for=\"sk-estimator-id-3\" class=\"sk-toggleable__label fitted sk-toggleable__label-arrow fitted\">cat</label><div class=\"sk-toggleable__content fitted\"><pre>[&#x27;CheckingStatus&#x27;, &#x27;CreditHistory&#x27;, &#x27;LoanPurpose&#x27;, &#x27;ExistingSavings&#x27;, &#x27;EmploymentDuration&#x27;, &#x27;Sex&#x27;, &#x27;OthersOnLoan&#x27;, &#x27;OwnsProperty&#x27;, &#x27;InstallmentPlans&#x27;, &#x27;Housing&#x27;, &#x27;Job&#x27;, &#x27;Telephone&#x27;, &#x27;ForeignWorker&#x27;]</pre></div> </div></div><div class=\"sk-serial\"><div class=\"sk-item\"><div class=\"sk-serial\"><div class=\"sk-item\"><div class=\"sk-estimator fitted sk-toggleable\"><input class=\"sk-toggleable__control sk-hidden--visually\" id=\"sk-estimator-id-4\" type=\"checkbox\" ><label for=\"sk-estimator-id-4\" class=\"sk-toggleable__label fitted sk-toggleable__label-arrow fitted\">&nbsp;OneHotEncoder<a class=\"sk-estimator-doc-link fitted\" rel=\"noreferrer\" target=\"_blank\" href=\"https://scikit-learn.org/1.5/modules/generated/sklearn.preprocessing.OneHotEncoder.html\">?<span>Documentation for OneHotEncoder</span></a></label><div class=\"sk-toggleable__content fitted\"><pre>OneHotEncoder(handle_unknown=&#x27;ignore&#x27;, sparse_output=False)</pre></div> </div></div></div></div></div></div></div><div class=\"sk-parallel-item\"><div class=\"sk-item\"><div class=\"sk-label-container\"><div class=\"sk-label fitted sk-toggleable\"><input class=\"sk-toggleable__control sk-hidden--visually\" id=\"sk-estimator-id-5\" type=\"checkbox\" ><label for=\"sk-estimator-id-5\" class=\"sk-toggleable__label fitted sk-toggleable__label-arrow fitted\">num</label><div class=\"sk-toggleable__content fitted\"><pre>[&#x27;LoanDuration&#x27;, &#x27;LoanAmount&#x27;, &#x27;InstallmentPercent&#x27;, &#x27;CurrentResidenceDuration&#x27;, &#x27;Age&#x27;, &#x27;ExistingCreditsCount&#x27;, &#x27;Dependents&#x27;]</pre></div> </div></div><div class=\"sk-serial\"><div class=\"sk-item\"><div class=\"sk-serial\"><div class=\"sk-item\"><div class=\"sk-estimator fitted sk-toggleable\"><input class=\"sk-toggleable__control sk-hidden--visually\" id=\"sk-estimator-id-6\" type=\"checkbox\" ><label for=\"sk-estimator-id-6\" class=\"sk-toggleable__label fitted sk-toggleable__label-arrow fitted\">&nbsp;StandardScaler<a class=\"sk-estimator-doc-link fitted\" rel=\"noreferrer\" target=\"_blank\" href=\"https://scikit-learn.org/1.5/modules/generated/sklearn.preprocessing.StandardScaler.html\">?<span>Documentation for StandardScaler</span></a></label><div class=\"sk-toggleable__content fitted\"><pre>StandardScaler()</pre></div> </div></div></div></div></div></div></div><div class=\"sk-parallel-item\"><div class=\"sk-item\"><div class=\"sk-label-container\"><div class=\"sk-label fitted sk-toggleable\"><input class=\"sk-toggleable__control sk-hidden--visually\" id=\"sk-estimator-id-7\" type=\"checkbox\" ><label for=\"sk-estimator-id-7\" class=\"sk-toggleable__label fitted sk-toggleable__label-arrow fitted\">remainder</label><div class=\"sk-toggleable__content fitted\"><pre>[]</pre></div> </div></div><div class=\"sk-serial\"><div class=\"sk-item\"><div class=\"sk-estimator fitted sk-toggleable\"><input class=\"sk-toggleable__control sk-hidden--visually\" id=\"sk-estimator-id-8\" type=\"checkbox\" ><label for=\"sk-estimator-id-8\" class=\"sk-toggleable__label fitted sk-toggleable__label-arrow fitted\">passthrough</label><div class=\"sk-toggleable__content fitted\"><pre>passthrough</pre></div> </div></div></div></div></div></div></div><div class=\"sk-item\"><div class=\"sk-estimator fitted sk-toggleable\"><input class=\"sk-toggleable__control sk-hidden--visually\" id=\"sk-estimator-id-9\" type=\"checkbox\" ><label for=\"sk-estimator-id-9\" class=\"sk-toggleable__label fitted sk-toggleable__label-arrow fitted\">&nbsp;KNeighborsClassifier<a class=\"sk-estimator-doc-link fitted\" rel=\"noreferrer\" target=\"_blank\" href=\"https://scikit-learn.org/1.5/modules/generated/sklearn.neighbors.KNeighborsClassifier.html\">?<span>Documentation for KNeighborsClassifier</span></a></label><div class=\"sk-toggleable__content fitted\"><pre>KNeighborsClassifier()</pre></div> </div></div></div></div></div></div>"
            ]
          },
          "metadata": {},
          "execution_count": 15
        }
      ]
    },
    {
      "cell_type": "markdown",
      "source": [
        "and indeed, one can use the pipeline to obtain prediction"
      ],
      "metadata": {
        "id": "Hqp47J1LPGxV"
      }
    },
    {
      "cell_type": "code",
      "source": [
        "pipeline.predict(X)"
      ],
      "metadata": {
        "colab": {
          "base_uri": "https://localhost:8080/"
        },
        "id": "Yy1AXHNFPGSw",
        "outputId": "46d212e4-df5f-44df-af51-a59ee16e5460"
      },
      "execution_count": 16,
      "outputs": [
        {
          "output_type": "execute_result",
          "data": {
            "text/plain": [
              "array(['No Risk', 'No Risk', 'No Risk', ..., 'Risk', 'Risk', 'No Risk'],\n",
              "      dtype='<U7')"
            ]
          },
          "metadata": {},
          "execution_count": 16
        }
      ]
    },
    {
      "cell_type": "markdown",
      "source": [
        "and compute a score"
      ],
      "metadata": {
        "id": "BYbRENzPPTrU"
      }
    },
    {
      "cell_type": "code",
      "source": [
        "pipeline.score(X, y)"
      ],
      "metadata": {
        "colab": {
          "base_uri": "https://localhost:8080/"
        },
        "id": "zSX5ekOIPW16",
        "outputId": "723f4d87-791a-41df-8c64-2600892e3dfb"
      },
      "execution_count": 17,
      "outputs": [
        {
          "output_type": "execute_result",
          "data": {
            "text/plain": [
              "0.8426"
            ]
          },
          "metadata": {},
          "execution_count": 17
        }
      ]
    },
    {
      "cell_type": "markdown",
      "source": [
        "**Question** Replace the nearest neighbors by a logistic regression."
      ],
      "metadata": {
        "id": "AQYPDaU2PbnJ"
      }
    },
    {
      "cell_type": "markdown",
      "source": [
        "## Error estimation and model comparison"
      ],
      "metadata": {
        "id": "P5QhBysVP7Kt"
      }
    },
    {
      "cell_type": "markdown",
      "source": [
        "**Question** Why are the previous scores optimistic?"
      ],
      "metadata": {
        "id": "QU6RPlFKRnM0"
      }
    },
    {
      "cell_type": "markdown",
      "source": [
        "We need thus to be careful and always test predictors with data that have never been used before. `Scikit learn` has a nice way to do that."
      ],
      "metadata": {
        "id": "qxfEgElCR_2F"
      }
    },
    {
      "cell_type": "code",
      "source": [
        "from sklearn.model_selection import train_test_split\n",
        "X_train, X_test, y_train, y_test = train_test_split(X, y, test_size=0.2, random_state=42)"
      ],
      "metadata": {
        "id": "K81G6ROswZei"
      },
      "execution_count": 18,
      "outputs": []
    },
    {
      "cell_type": "markdown",
      "source": [
        "\n",
        "We can then train and test on different data(sub)set\n",
        "\n"
      ],
      "metadata": {
        "id": "KOHo0aodSPo5"
      }
    },
    {
      "cell_type": "code",
      "source": [
        "pipeline.fit(X_train, y_train)"
      ],
      "metadata": {
        "colab": {
          "base_uri": "https://localhost:8080/",
          "height": 219
        },
        "id": "sLYSEIA3wlz7",
        "outputId": "acf906bc-6835-4a8e-cd34-3525e1126805"
      },
      "execution_count": 19,
      "outputs": [
        {
          "output_type": "execute_result",
          "data": {
            "text/plain": [
              "Pipeline(steps=[('preprocessor',\n",
              "                 ColumnTransformer(force_int_remainder_cols=False,\n",
              "                                   remainder='passthrough',\n",
              "                                   transformers=[('cat',\n",
              "                                                  Pipeline(steps=[('onehot',\n",
              "                                                                   OneHotEncoder(handle_unknown='ignore',\n",
              "                                                                                 sparse_output=False))]),\n",
              "                                                  ['CheckingStatus',\n",
              "                                                   'CreditHistory',\n",
              "                                                   'LoanPurpose',\n",
              "                                                   'ExistingSavings',\n",
              "                                                   'EmploymentDuration', 'Sex',\n",
              "                                                   'OthersOnLoan',\n",
              "                                                   'OwnsProperty',\n",
              "                                                   'InstallmentPlans',\n",
              "                                                   'Housing', 'Job',\n",
              "                                                   'Telephone',\n",
              "                                                   'ForeignWorker']),\n",
              "                                                 ('num',\n",
              "                                                  Pipeline(steps=[('scaler',\n",
              "                                                                   StandardScaler())]),\n",
              "                                                  ['LoanDuration', 'LoanAmount',\n",
              "                                                   'InstallmentPercent',\n",
              "                                                   'CurrentResidenceDuration',\n",
              "                                                   'Age',\n",
              "                                                   'ExistingCreditsCount',\n",
              "                                                   'Dependents'])])),\n",
              "                ('classifier', KNeighborsClassifier())])"
            ],
            "text/html": [
              "<style>#sk-container-id-2 {\n",
              "  /* Definition of color scheme common for light and dark mode */\n",
              "  --sklearn-color-text: black;\n",
              "  --sklearn-color-line: gray;\n",
              "  /* Definition of color scheme for unfitted estimators */\n",
              "  --sklearn-color-unfitted-level-0: #fff5e6;\n",
              "  --sklearn-color-unfitted-level-1: #f6e4d2;\n",
              "  --sklearn-color-unfitted-level-2: #ffe0b3;\n",
              "  --sklearn-color-unfitted-level-3: chocolate;\n",
              "  /* Definition of color scheme for fitted estimators */\n",
              "  --sklearn-color-fitted-level-0: #f0f8ff;\n",
              "  --sklearn-color-fitted-level-1: #d4ebff;\n",
              "  --sklearn-color-fitted-level-2: #b3dbfd;\n",
              "  --sklearn-color-fitted-level-3: cornflowerblue;\n",
              "\n",
              "  /* Specific color for light theme */\n",
              "  --sklearn-color-text-on-default-background: var(--sg-text-color, var(--theme-code-foreground, var(--jp-content-font-color1, black)));\n",
              "  --sklearn-color-background: var(--sg-background-color, var(--theme-background, var(--jp-layout-color0, white)));\n",
              "  --sklearn-color-border-box: var(--sg-text-color, var(--theme-code-foreground, var(--jp-content-font-color1, black)));\n",
              "  --sklearn-color-icon: #696969;\n",
              "\n",
              "  @media (prefers-color-scheme: dark) {\n",
              "    /* Redefinition of color scheme for dark theme */\n",
              "    --sklearn-color-text-on-default-background: var(--sg-text-color, var(--theme-code-foreground, var(--jp-content-font-color1, white)));\n",
              "    --sklearn-color-background: var(--sg-background-color, var(--theme-background, var(--jp-layout-color0, #111)));\n",
              "    --sklearn-color-border-box: var(--sg-text-color, var(--theme-code-foreground, var(--jp-content-font-color1, white)));\n",
              "    --sklearn-color-icon: #878787;\n",
              "  }\n",
              "}\n",
              "\n",
              "#sk-container-id-2 {\n",
              "  color: var(--sklearn-color-text);\n",
              "}\n",
              "\n",
              "#sk-container-id-2 pre {\n",
              "  padding: 0;\n",
              "}\n",
              "\n",
              "#sk-container-id-2 input.sk-hidden--visually {\n",
              "  border: 0;\n",
              "  clip: rect(1px 1px 1px 1px);\n",
              "  clip: rect(1px, 1px, 1px, 1px);\n",
              "  height: 1px;\n",
              "  margin: -1px;\n",
              "  overflow: hidden;\n",
              "  padding: 0;\n",
              "  position: absolute;\n",
              "  width: 1px;\n",
              "}\n",
              "\n",
              "#sk-container-id-2 div.sk-dashed-wrapped {\n",
              "  border: 1px dashed var(--sklearn-color-line);\n",
              "  margin: 0 0.4em 0.5em 0.4em;\n",
              "  box-sizing: border-box;\n",
              "  padding-bottom: 0.4em;\n",
              "  background-color: var(--sklearn-color-background);\n",
              "}\n",
              "\n",
              "#sk-container-id-2 div.sk-container {\n",
              "  /* jupyter's `normalize.less` sets `[hidden] { display: none; }`\n",
              "     but bootstrap.min.css set `[hidden] { display: none !important; }`\n",
              "     so we also need the `!important` here to be able to override the\n",
              "     default hidden behavior on the sphinx rendered scikit-learn.org.\n",
              "     See: https://github.com/scikit-learn/scikit-learn/issues/21755 */\n",
              "  display: inline-block !important;\n",
              "  position: relative;\n",
              "}\n",
              "\n",
              "#sk-container-id-2 div.sk-text-repr-fallback {\n",
              "  display: none;\n",
              "}\n",
              "\n",
              "div.sk-parallel-item,\n",
              "div.sk-serial,\n",
              "div.sk-item {\n",
              "  /* draw centered vertical line to link estimators */\n",
              "  background-image: linear-gradient(var(--sklearn-color-text-on-default-background), var(--sklearn-color-text-on-default-background));\n",
              "  background-size: 2px 100%;\n",
              "  background-repeat: no-repeat;\n",
              "  background-position: center center;\n",
              "}\n",
              "\n",
              "/* Parallel-specific style estimator block */\n",
              "\n",
              "#sk-container-id-2 div.sk-parallel-item::after {\n",
              "  content: \"\";\n",
              "  width: 100%;\n",
              "  border-bottom: 2px solid var(--sklearn-color-text-on-default-background);\n",
              "  flex-grow: 1;\n",
              "}\n",
              "\n",
              "#sk-container-id-2 div.sk-parallel {\n",
              "  display: flex;\n",
              "  align-items: stretch;\n",
              "  justify-content: center;\n",
              "  background-color: var(--sklearn-color-background);\n",
              "  position: relative;\n",
              "}\n",
              "\n",
              "#sk-container-id-2 div.sk-parallel-item {\n",
              "  display: flex;\n",
              "  flex-direction: column;\n",
              "}\n",
              "\n",
              "#sk-container-id-2 div.sk-parallel-item:first-child::after {\n",
              "  align-self: flex-end;\n",
              "  width: 50%;\n",
              "}\n",
              "\n",
              "#sk-container-id-2 div.sk-parallel-item:last-child::after {\n",
              "  align-self: flex-start;\n",
              "  width: 50%;\n",
              "}\n",
              "\n",
              "#sk-container-id-2 div.sk-parallel-item:only-child::after {\n",
              "  width: 0;\n",
              "}\n",
              "\n",
              "/* Serial-specific style estimator block */\n",
              "\n",
              "#sk-container-id-2 div.sk-serial {\n",
              "  display: flex;\n",
              "  flex-direction: column;\n",
              "  align-items: center;\n",
              "  background-color: var(--sklearn-color-background);\n",
              "  padding-right: 1em;\n",
              "  padding-left: 1em;\n",
              "}\n",
              "\n",
              "\n",
              "/* Toggleable style: style used for estimator/Pipeline/ColumnTransformer box that is\n",
              "clickable and can be expanded/collapsed.\n",
              "- Pipeline and ColumnTransformer use this feature and define the default style\n",
              "- Estimators will overwrite some part of the style using the `sk-estimator` class\n",
              "*/\n",
              "\n",
              "/* Pipeline and ColumnTransformer style (default) */\n",
              "\n",
              "#sk-container-id-2 div.sk-toggleable {\n",
              "  /* Default theme specific background. It is overwritten whether we have a\n",
              "  specific estimator or a Pipeline/ColumnTransformer */\n",
              "  background-color: var(--sklearn-color-background);\n",
              "}\n",
              "\n",
              "/* Toggleable label */\n",
              "#sk-container-id-2 label.sk-toggleable__label {\n",
              "  cursor: pointer;\n",
              "  display: block;\n",
              "  width: 100%;\n",
              "  margin-bottom: 0;\n",
              "  padding: 0.5em;\n",
              "  box-sizing: border-box;\n",
              "  text-align: center;\n",
              "}\n",
              "\n",
              "#sk-container-id-2 label.sk-toggleable__label-arrow:before {\n",
              "  /* Arrow on the left of the label */\n",
              "  content: \"▸\";\n",
              "  float: left;\n",
              "  margin-right: 0.25em;\n",
              "  color: var(--sklearn-color-icon);\n",
              "}\n",
              "\n",
              "#sk-container-id-2 label.sk-toggleable__label-arrow:hover:before {\n",
              "  color: var(--sklearn-color-text);\n",
              "}\n",
              "\n",
              "/* Toggleable content - dropdown */\n",
              "\n",
              "#sk-container-id-2 div.sk-toggleable__content {\n",
              "  max-height: 0;\n",
              "  max-width: 0;\n",
              "  overflow: hidden;\n",
              "  text-align: left;\n",
              "  /* unfitted */\n",
              "  background-color: var(--sklearn-color-unfitted-level-0);\n",
              "}\n",
              "\n",
              "#sk-container-id-2 div.sk-toggleable__content.fitted {\n",
              "  /* fitted */\n",
              "  background-color: var(--sklearn-color-fitted-level-0);\n",
              "}\n",
              "\n",
              "#sk-container-id-2 div.sk-toggleable__content pre {\n",
              "  margin: 0.2em;\n",
              "  border-radius: 0.25em;\n",
              "  color: var(--sklearn-color-text);\n",
              "  /* unfitted */\n",
              "  background-color: var(--sklearn-color-unfitted-level-0);\n",
              "}\n",
              "\n",
              "#sk-container-id-2 div.sk-toggleable__content.fitted pre {\n",
              "  /* unfitted */\n",
              "  background-color: var(--sklearn-color-fitted-level-0);\n",
              "}\n",
              "\n",
              "#sk-container-id-2 input.sk-toggleable__control:checked~div.sk-toggleable__content {\n",
              "  /* Expand drop-down */\n",
              "  max-height: 200px;\n",
              "  max-width: 100%;\n",
              "  overflow: auto;\n",
              "}\n",
              "\n",
              "#sk-container-id-2 input.sk-toggleable__control:checked~label.sk-toggleable__label-arrow:before {\n",
              "  content: \"▾\";\n",
              "}\n",
              "\n",
              "/* Pipeline/ColumnTransformer-specific style */\n",
              "\n",
              "#sk-container-id-2 div.sk-label input.sk-toggleable__control:checked~label.sk-toggleable__label {\n",
              "  color: var(--sklearn-color-text);\n",
              "  background-color: var(--sklearn-color-unfitted-level-2);\n",
              "}\n",
              "\n",
              "#sk-container-id-2 div.sk-label.fitted input.sk-toggleable__control:checked~label.sk-toggleable__label {\n",
              "  background-color: var(--sklearn-color-fitted-level-2);\n",
              "}\n",
              "\n",
              "/* Estimator-specific style */\n",
              "\n",
              "/* Colorize estimator box */\n",
              "#sk-container-id-2 div.sk-estimator input.sk-toggleable__control:checked~label.sk-toggleable__label {\n",
              "  /* unfitted */\n",
              "  background-color: var(--sklearn-color-unfitted-level-2);\n",
              "}\n",
              "\n",
              "#sk-container-id-2 div.sk-estimator.fitted input.sk-toggleable__control:checked~label.sk-toggleable__label {\n",
              "  /* fitted */\n",
              "  background-color: var(--sklearn-color-fitted-level-2);\n",
              "}\n",
              "\n",
              "#sk-container-id-2 div.sk-label label.sk-toggleable__label,\n",
              "#sk-container-id-2 div.sk-label label {\n",
              "  /* The background is the default theme color */\n",
              "  color: var(--sklearn-color-text-on-default-background);\n",
              "}\n",
              "\n",
              "/* On hover, darken the color of the background */\n",
              "#sk-container-id-2 div.sk-label:hover label.sk-toggleable__label {\n",
              "  color: var(--sklearn-color-text);\n",
              "  background-color: var(--sklearn-color-unfitted-level-2);\n",
              "}\n",
              "\n",
              "/* Label box, darken color on hover, fitted */\n",
              "#sk-container-id-2 div.sk-label.fitted:hover label.sk-toggleable__label.fitted {\n",
              "  color: var(--sklearn-color-text);\n",
              "  background-color: var(--sklearn-color-fitted-level-2);\n",
              "}\n",
              "\n",
              "/* Estimator label */\n",
              "\n",
              "#sk-container-id-2 div.sk-label label {\n",
              "  font-family: monospace;\n",
              "  font-weight: bold;\n",
              "  display: inline-block;\n",
              "  line-height: 1.2em;\n",
              "}\n",
              "\n",
              "#sk-container-id-2 div.sk-label-container {\n",
              "  text-align: center;\n",
              "}\n",
              "\n",
              "/* Estimator-specific */\n",
              "#sk-container-id-2 div.sk-estimator {\n",
              "  font-family: monospace;\n",
              "  border: 1px dotted var(--sklearn-color-border-box);\n",
              "  border-radius: 0.25em;\n",
              "  box-sizing: border-box;\n",
              "  margin-bottom: 0.5em;\n",
              "  /* unfitted */\n",
              "  background-color: var(--sklearn-color-unfitted-level-0);\n",
              "}\n",
              "\n",
              "#sk-container-id-2 div.sk-estimator.fitted {\n",
              "  /* fitted */\n",
              "  background-color: var(--sklearn-color-fitted-level-0);\n",
              "}\n",
              "\n",
              "/* on hover */\n",
              "#sk-container-id-2 div.sk-estimator:hover {\n",
              "  /* unfitted */\n",
              "  background-color: var(--sklearn-color-unfitted-level-2);\n",
              "}\n",
              "\n",
              "#sk-container-id-2 div.sk-estimator.fitted:hover {\n",
              "  /* fitted */\n",
              "  background-color: var(--sklearn-color-fitted-level-2);\n",
              "}\n",
              "\n",
              "/* Specification for estimator info (e.g. \"i\" and \"?\") */\n",
              "\n",
              "/* Common style for \"i\" and \"?\" */\n",
              "\n",
              ".sk-estimator-doc-link,\n",
              "a:link.sk-estimator-doc-link,\n",
              "a:visited.sk-estimator-doc-link {\n",
              "  float: right;\n",
              "  font-size: smaller;\n",
              "  line-height: 1em;\n",
              "  font-family: monospace;\n",
              "  background-color: var(--sklearn-color-background);\n",
              "  border-radius: 1em;\n",
              "  height: 1em;\n",
              "  width: 1em;\n",
              "  text-decoration: none !important;\n",
              "  margin-left: 1ex;\n",
              "  /* unfitted */\n",
              "  border: var(--sklearn-color-unfitted-level-1) 1pt solid;\n",
              "  color: var(--sklearn-color-unfitted-level-1);\n",
              "}\n",
              "\n",
              ".sk-estimator-doc-link.fitted,\n",
              "a:link.sk-estimator-doc-link.fitted,\n",
              "a:visited.sk-estimator-doc-link.fitted {\n",
              "  /* fitted */\n",
              "  border: var(--sklearn-color-fitted-level-1) 1pt solid;\n",
              "  color: var(--sklearn-color-fitted-level-1);\n",
              "}\n",
              "\n",
              "/* On hover */\n",
              "div.sk-estimator:hover .sk-estimator-doc-link:hover,\n",
              ".sk-estimator-doc-link:hover,\n",
              "div.sk-label-container:hover .sk-estimator-doc-link:hover,\n",
              ".sk-estimator-doc-link:hover {\n",
              "  /* unfitted */\n",
              "  background-color: var(--sklearn-color-unfitted-level-3);\n",
              "  color: var(--sklearn-color-background);\n",
              "  text-decoration: none;\n",
              "}\n",
              "\n",
              "div.sk-estimator.fitted:hover .sk-estimator-doc-link.fitted:hover,\n",
              ".sk-estimator-doc-link.fitted:hover,\n",
              "div.sk-label-container:hover .sk-estimator-doc-link.fitted:hover,\n",
              ".sk-estimator-doc-link.fitted:hover {\n",
              "  /* fitted */\n",
              "  background-color: var(--sklearn-color-fitted-level-3);\n",
              "  color: var(--sklearn-color-background);\n",
              "  text-decoration: none;\n",
              "}\n",
              "\n",
              "/* Span, style for the box shown on hovering the info icon */\n",
              ".sk-estimator-doc-link span {\n",
              "  display: none;\n",
              "  z-index: 9999;\n",
              "  position: relative;\n",
              "  font-weight: normal;\n",
              "  right: .2ex;\n",
              "  padding: .5ex;\n",
              "  margin: .5ex;\n",
              "  width: min-content;\n",
              "  min-width: 20ex;\n",
              "  max-width: 50ex;\n",
              "  color: var(--sklearn-color-text);\n",
              "  box-shadow: 2pt 2pt 4pt #999;\n",
              "  /* unfitted */\n",
              "  background: var(--sklearn-color-unfitted-level-0);\n",
              "  border: .5pt solid var(--sklearn-color-unfitted-level-3);\n",
              "}\n",
              "\n",
              ".sk-estimator-doc-link.fitted span {\n",
              "  /* fitted */\n",
              "  background: var(--sklearn-color-fitted-level-0);\n",
              "  border: var(--sklearn-color-fitted-level-3);\n",
              "}\n",
              "\n",
              ".sk-estimator-doc-link:hover span {\n",
              "  display: block;\n",
              "}\n",
              "\n",
              "/* \"?\"-specific style due to the `<a>` HTML tag */\n",
              "\n",
              "#sk-container-id-2 a.estimator_doc_link {\n",
              "  float: right;\n",
              "  font-size: 1rem;\n",
              "  line-height: 1em;\n",
              "  font-family: monospace;\n",
              "  background-color: var(--sklearn-color-background);\n",
              "  border-radius: 1rem;\n",
              "  height: 1rem;\n",
              "  width: 1rem;\n",
              "  text-decoration: none;\n",
              "  /* unfitted */\n",
              "  color: var(--sklearn-color-unfitted-level-1);\n",
              "  border: var(--sklearn-color-unfitted-level-1) 1pt solid;\n",
              "}\n",
              "\n",
              "#sk-container-id-2 a.estimator_doc_link.fitted {\n",
              "  /* fitted */\n",
              "  border: var(--sklearn-color-fitted-level-1) 1pt solid;\n",
              "  color: var(--sklearn-color-fitted-level-1);\n",
              "}\n",
              "\n",
              "/* On hover */\n",
              "#sk-container-id-2 a.estimator_doc_link:hover {\n",
              "  /* unfitted */\n",
              "  background-color: var(--sklearn-color-unfitted-level-3);\n",
              "  color: var(--sklearn-color-background);\n",
              "  text-decoration: none;\n",
              "}\n",
              "\n",
              "#sk-container-id-2 a.estimator_doc_link.fitted:hover {\n",
              "  /* fitted */\n",
              "  background-color: var(--sklearn-color-fitted-level-3);\n",
              "}\n",
              "</style><div id=\"sk-container-id-2\" class=\"sk-top-container\"><div class=\"sk-text-repr-fallback\"><pre>Pipeline(steps=[(&#x27;preprocessor&#x27;,\n",
              "                 ColumnTransformer(force_int_remainder_cols=False,\n",
              "                                   remainder=&#x27;passthrough&#x27;,\n",
              "                                   transformers=[(&#x27;cat&#x27;,\n",
              "                                                  Pipeline(steps=[(&#x27;onehot&#x27;,\n",
              "                                                                   OneHotEncoder(handle_unknown=&#x27;ignore&#x27;,\n",
              "                                                                                 sparse_output=False))]),\n",
              "                                                  [&#x27;CheckingStatus&#x27;,\n",
              "                                                   &#x27;CreditHistory&#x27;,\n",
              "                                                   &#x27;LoanPurpose&#x27;,\n",
              "                                                   &#x27;ExistingSavings&#x27;,\n",
              "                                                   &#x27;EmploymentDuration&#x27;, &#x27;Sex&#x27;,\n",
              "                                                   &#x27;OthersOnLoan&#x27;,\n",
              "                                                   &#x27;OwnsProperty&#x27;,\n",
              "                                                   &#x27;InstallmentPlans&#x27;,\n",
              "                                                   &#x27;Housing&#x27;, &#x27;Job&#x27;,\n",
              "                                                   &#x27;Telephone&#x27;,\n",
              "                                                   &#x27;ForeignWorker&#x27;]),\n",
              "                                                 (&#x27;num&#x27;,\n",
              "                                                  Pipeline(steps=[(&#x27;scaler&#x27;,\n",
              "                                                                   StandardScaler())]),\n",
              "                                                  [&#x27;LoanDuration&#x27;, &#x27;LoanAmount&#x27;,\n",
              "                                                   &#x27;InstallmentPercent&#x27;,\n",
              "                                                   &#x27;CurrentResidenceDuration&#x27;,\n",
              "                                                   &#x27;Age&#x27;,\n",
              "                                                   &#x27;ExistingCreditsCount&#x27;,\n",
              "                                                   &#x27;Dependents&#x27;])])),\n",
              "                (&#x27;classifier&#x27;, KNeighborsClassifier())])</pre><b>In a Jupyter environment, please rerun this cell to show the HTML representation or trust the notebook. <br />On GitHub, the HTML representation is unable to render, please try loading this page with nbviewer.org.</b></div><div class=\"sk-container\" hidden><div class=\"sk-item sk-dashed-wrapped\"><div class=\"sk-label-container\"><div class=\"sk-label fitted sk-toggleable\"><input class=\"sk-toggleable__control sk-hidden--visually\" id=\"sk-estimator-id-10\" type=\"checkbox\" ><label for=\"sk-estimator-id-10\" class=\"sk-toggleable__label fitted sk-toggleable__label-arrow fitted\">&nbsp;&nbsp;Pipeline<a class=\"sk-estimator-doc-link fitted\" rel=\"noreferrer\" target=\"_blank\" href=\"https://scikit-learn.org/1.5/modules/generated/sklearn.pipeline.Pipeline.html\">?<span>Documentation for Pipeline</span></a><span class=\"sk-estimator-doc-link fitted\">i<span>Fitted</span></span></label><div class=\"sk-toggleable__content fitted\"><pre>Pipeline(steps=[(&#x27;preprocessor&#x27;,\n",
              "                 ColumnTransformer(force_int_remainder_cols=False,\n",
              "                                   remainder=&#x27;passthrough&#x27;,\n",
              "                                   transformers=[(&#x27;cat&#x27;,\n",
              "                                                  Pipeline(steps=[(&#x27;onehot&#x27;,\n",
              "                                                                   OneHotEncoder(handle_unknown=&#x27;ignore&#x27;,\n",
              "                                                                                 sparse_output=False))]),\n",
              "                                                  [&#x27;CheckingStatus&#x27;,\n",
              "                                                   &#x27;CreditHistory&#x27;,\n",
              "                                                   &#x27;LoanPurpose&#x27;,\n",
              "                                                   &#x27;ExistingSavings&#x27;,\n",
              "                                                   &#x27;EmploymentDuration&#x27;, &#x27;Sex&#x27;,\n",
              "                                                   &#x27;OthersOnLoan&#x27;,\n",
              "                                                   &#x27;OwnsProperty&#x27;,\n",
              "                                                   &#x27;InstallmentPlans&#x27;,\n",
              "                                                   &#x27;Housing&#x27;, &#x27;Job&#x27;,\n",
              "                                                   &#x27;Telephone&#x27;,\n",
              "                                                   &#x27;ForeignWorker&#x27;]),\n",
              "                                                 (&#x27;num&#x27;,\n",
              "                                                  Pipeline(steps=[(&#x27;scaler&#x27;,\n",
              "                                                                   StandardScaler())]),\n",
              "                                                  [&#x27;LoanDuration&#x27;, &#x27;LoanAmount&#x27;,\n",
              "                                                   &#x27;InstallmentPercent&#x27;,\n",
              "                                                   &#x27;CurrentResidenceDuration&#x27;,\n",
              "                                                   &#x27;Age&#x27;,\n",
              "                                                   &#x27;ExistingCreditsCount&#x27;,\n",
              "                                                   &#x27;Dependents&#x27;])])),\n",
              "                (&#x27;classifier&#x27;, KNeighborsClassifier())])</pre></div> </div></div><div class=\"sk-serial\"><div class=\"sk-item sk-dashed-wrapped\"><div class=\"sk-label-container\"><div class=\"sk-label fitted sk-toggleable\"><input class=\"sk-toggleable__control sk-hidden--visually\" id=\"sk-estimator-id-11\" type=\"checkbox\" ><label for=\"sk-estimator-id-11\" class=\"sk-toggleable__label fitted sk-toggleable__label-arrow fitted\">&nbsp;preprocessor: ColumnTransformer<a class=\"sk-estimator-doc-link fitted\" rel=\"noreferrer\" target=\"_blank\" href=\"https://scikit-learn.org/1.5/modules/generated/sklearn.compose.ColumnTransformer.html\">?<span>Documentation for preprocessor: ColumnTransformer</span></a></label><div class=\"sk-toggleable__content fitted\"><pre>ColumnTransformer(force_int_remainder_cols=False, remainder=&#x27;passthrough&#x27;,\n",
              "                  transformers=[(&#x27;cat&#x27;,\n",
              "                                 Pipeline(steps=[(&#x27;onehot&#x27;,\n",
              "                                                  OneHotEncoder(handle_unknown=&#x27;ignore&#x27;,\n",
              "                                                                sparse_output=False))]),\n",
              "                                 [&#x27;CheckingStatus&#x27;, &#x27;CreditHistory&#x27;,\n",
              "                                  &#x27;LoanPurpose&#x27;, &#x27;ExistingSavings&#x27;,\n",
              "                                  &#x27;EmploymentDuration&#x27;, &#x27;Sex&#x27;, &#x27;OthersOnLoan&#x27;,\n",
              "                                  &#x27;OwnsProperty&#x27;, &#x27;InstallmentPlans&#x27;, &#x27;Housing&#x27;,\n",
              "                                  &#x27;Job&#x27;, &#x27;Telephone&#x27;, &#x27;ForeignWorker&#x27;]),\n",
              "                                (&#x27;num&#x27;,\n",
              "                                 Pipeline(steps=[(&#x27;scaler&#x27;, StandardScaler())]),\n",
              "                                 [&#x27;LoanDuration&#x27;, &#x27;LoanAmount&#x27;,\n",
              "                                  &#x27;InstallmentPercent&#x27;,\n",
              "                                  &#x27;CurrentResidenceDuration&#x27;, &#x27;Age&#x27;,\n",
              "                                  &#x27;ExistingCreditsCount&#x27;, &#x27;Dependents&#x27;])])</pre></div> </div></div><div class=\"sk-parallel\"><div class=\"sk-parallel-item\"><div class=\"sk-item\"><div class=\"sk-label-container\"><div class=\"sk-label fitted sk-toggleable\"><input class=\"sk-toggleable__control sk-hidden--visually\" id=\"sk-estimator-id-12\" type=\"checkbox\" ><label for=\"sk-estimator-id-12\" class=\"sk-toggleable__label fitted sk-toggleable__label-arrow fitted\">cat</label><div class=\"sk-toggleable__content fitted\"><pre>[&#x27;CheckingStatus&#x27;, &#x27;CreditHistory&#x27;, &#x27;LoanPurpose&#x27;, &#x27;ExistingSavings&#x27;, &#x27;EmploymentDuration&#x27;, &#x27;Sex&#x27;, &#x27;OthersOnLoan&#x27;, &#x27;OwnsProperty&#x27;, &#x27;InstallmentPlans&#x27;, &#x27;Housing&#x27;, &#x27;Job&#x27;, &#x27;Telephone&#x27;, &#x27;ForeignWorker&#x27;]</pre></div> </div></div><div class=\"sk-serial\"><div class=\"sk-item\"><div class=\"sk-serial\"><div class=\"sk-item\"><div class=\"sk-estimator fitted sk-toggleable\"><input class=\"sk-toggleable__control sk-hidden--visually\" id=\"sk-estimator-id-13\" type=\"checkbox\" ><label for=\"sk-estimator-id-13\" class=\"sk-toggleable__label fitted sk-toggleable__label-arrow fitted\">&nbsp;OneHotEncoder<a class=\"sk-estimator-doc-link fitted\" rel=\"noreferrer\" target=\"_blank\" href=\"https://scikit-learn.org/1.5/modules/generated/sklearn.preprocessing.OneHotEncoder.html\">?<span>Documentation for OneHotEncoder</span></a></label><div class=\"sk-toggleable__content fitted\"><pre>OneHotEncoder(handle_unknown=&#x27;ignore&#x27;, sparse_output=False)</pre></div> </div></div></div></div></div></div></div><div class=\"sk-parallel-item\"><div class=\"sk-item\"><div class=\"sk-label-container\"><div class=\"sk-label fitted sk-toggleable\"><input class=\"sk-toggleable__control sk-hidden--visually\" id=\"sk-estimator-id-14\" type=\"checkbox\" ><label for=\"sk-estimator-id-14\" class=\"sk-toggleable__label fitted sk-toggleable__label-arrow fitted\">num</label><div class=\"sk-toggleable__content fitted\"><pre>[&#x27;LoanDuration&#x27;, &#x27;LoanAmount&#x27;, &#x27;InstallmentPercent&#x27;, &#x27;CurrentResidenceDuration&#x27;, &#x27;Age&#x27;, &#x27;ExistingCreditsCount&#x27;, &#x27;Dependents&#x27;]</pre></div> </div></div><div class=\"sk-serial\"><div class=\"sk-item\"><div class=\"sk-serial\"><div class=\"sk-item\"><div class=\"sk-estimator fitted sk-toggleable\"><input class=\"sk-toggleable__control sk-hidden--visually\" id=\"sk-estimator-id-15\" type=\"checkbox\" ><label for=\"sk-estimator-id-15\" class=\"sk-toggleable__label fitted sk-toggleable__label-arrow fitted\">&nbsp;StandardScaler<a class=\"sk-estimator-doc-link fitted\" rel=\"noreferrer\" target=\"_blank\" href=\"https://scikit-learn.org/1.5/modules/generated/sklearn.preprocessing.StandardScaler.html\">?<span>Documentation for StandardScaler</span></a></label><div class=\"sk-toggleable__content fitted\"><pre>StandardScaler()</pre></div> </div></div></div></div></div></div></div><div class=\"sk-parallel-item\"><div class=\"sk-item\"><div class=\"sk-label-container\"><div class=\"sk-label fitted sk-toggleable\"><input class=\"sk-toggleable__control sk-hidden--visually\" id=\"sk-estimator-id-16\" type=\"checkbox\" ><label for=\"sk-estimator-id-16\" class=\"sk-toggleable__label fitted sk-toggleable__label-arrow fitted\">remainder</label><div class=\"sk-toggleable__content fitted\"><pre>[]</pre></div> </div></div><div class=\"sk-serial\"><div class=\"sk-item\"><div class=\"sk-estimator fitted sk-toggleable\"><input class=\"sk-toggleable__control sk-hidden--visually\" id=\"sk-estimator-id-17\" type=\"checkbox\" ><label for=\"sk-estimator-id-17\" class=\"sk-toggleable__label fitted sk-toggleable__label-arrow fitted\">passthrough</label><div class=\"sk-toggleable__content fitted\"><pre>passthrough</pre></div> </div></div></div></div></div></div></div><div class=\"sk-item\"><div class=\"sk-estimator fitted sk-toggleable\"><input class=\"sk-toggleable__control sk-hidden--visually\" id=\"sk-estimator-id-18\" type=\"checkbox\" ><label for=\"sk-estimator-id-18\" class=\"sk-toggleable__label fitted sk-toggleable__label-arrow fitted\">&nbsp;KNeighborsClassifier<a class=\"sk-estimator-doc-link fitted\" rel=\"noreferrer\" target=\"_blank\" href=\"https://scikit-learn.org/1.5/modules/generated/sklearn.neighbors.KNeighborsClassifier.html\">?<span>Documentation for KNeighborsClassifier</span></a></label><div class=\"sk-toggleable__content fitted\"><pre>KNeighborsClassifier()</pre></div> </div></div></div></div></div></div>"
            ]
          },
          "metadata": {},
          "execution_count": 19
        }
      ]
    },
    {
      "cell_type": "code",
      "source": [
        "pipeline.score(X_test, y_test)"
      ],
      "metadata": {
        "colab": {
          "base_uri": "https://localhost:8080/"
        },
        "id": "_jId88A79xjY",
        "outputId": "78417e05-ae0a-480c-daa5-e2c42a66f403"
      },
      "execution_count": 20,
      "outputs": [
        {
          "output_type": "execute_result",
          "data": {
            "text/plain": [
              "0.766"
            ]
          },
          "metadata": {},
          "execution_count": 20
        }
      ]
    },
    {
      "cell_type": "code",
      "source": [
        "pipeline.score(X_train, y_train)"
      ],
      "metadata": {
        "colab": {
          "base_uri": "https://localhost:8080/"
        },
        "id": "afMtGz1h-BW3",
        "outputId": "3dfd8549-4dde-41de-de7f-84b1e91b2e3a"
      },
      "execution_count": 21,
      "outputs": [
        {
          "output_type": "execute_result",
          "data": {
            "text/plain": [
              "0.84275"
            ]
          },
          "metadata": {},
          "execution_count": 21
        }
      ]
    },
    {
      "cell_type": "markdown",
      "source": [
        "The optimism of testing on the training set is obvious here! The estimation error term dominates the approximation error ones."
      ],
      "metadata": {
        "id": "KCJ5POh7Skyq"
      }
    },
    {
      "cell_type": "markdown",
      "source": [
        "**Question** What about the logistic regression pipeline ?"
      ],
      "metadata": {
        "id": "tLZnDWTLSb6k"
      }
    },
    {
      "cell_type": "markdown",
      "source": [
        "## V-fold cross validation\n",
        "\n",
        "V-fold cross validation is a way to obtain a good error estimate using only the training set. We can use the builtin `cross_val_error` to obtain such an estimate:"
      ],
      "metadata": {
        "id": "h-KfyccXQaqx"
      }
    },
    {
      "cell_type": "code",
      "source": [
        "from sklearn.model_selection import cross_val_score\n",
        "scores = cross_val_score(pipeline, X_train, y_train, cv=5)\n",
        "scores"
      ],
      "metadata": {
        "colab": {
          "base_uri": "https://localhost:8080/"
        },
        "id": "QCQhDJir-TJk",
        "outputId": "4c8d64b4-bbdb-455a-b6de-08c2c12e946f"
      },
      "execution_count": 22,
      "outputs": [
        {
          "output_type": "execute_result",
          "data": {
            "text/plain": [
              "array([0.78   , 0.76375, 0.7625 , 0.76875, 0.76875])"
            ]
          },
          "metadata": {},
          "execution_count": 22
        }
      ]
    },
    {
      "cell_type": "code",
      "source": [
        "scores.mean()"
      ],
      "metadata": {
        "colab": {
          "base_uri": "https://localhost:8080/"
        },
        "id": "dCeqi0dN-cBS",
        "outputId": "bda8de70-8ec7-47a5-b0b8-c3d59c6c6599"
      },
      "execution_count": 23,
      "outputs": [
        {
          "output_type": "execute_result",
          "data": {
            "text/plain": [
              "0.76875"
            ]
          },
          "metadata": {},
          "execution_count": 23
        }
      ]
    },
    {
      "cell_type": "markdown",
      "source": [
        "**Question** What about the logistic regression?"
      ],
      "metadata": {
        "id": "4YRbEA7MTXJN"
      }
    },
    {
      "cell_type": "markdown",
      "source": [
        "**Question** Can you reproduce those results using `KFold` ? (You may have to look at the documentation of `cross_val_score`)"
      ],
      "metadata": {
        "id": "DYdeh710TjVm"
      }
    },
    {
      "cell_type": "code",
      "source": [
        "from sklearn.model_selection import KFold\n",
        "kf = KFold(n_splits=5)\n",
        "scores = cross_val_score(pipeline, X_train, y_train, cv=kf)\n"
      ],
      "metadata": {
        "id": "WzrurIqv_Tbj"
      },
      "execution_count": 25,
      "outputs": []
    },
    {
      "cell_type": "code",
      "source": [
        "scores"
      ],
      "metadata": {
        "id": "1L75f15-G6-b",
        "outputId": "dad7640e-2d08-4081-82f3-a49d0dcb0ca7",
        "colab": {
          "base_uri": "https://localhost:8080/"
        }
      },
      "execution_count": 26,
      "outputs": [
        {
          "output_type": "execute_result",
          "data": {
            "text/plain": [
              "array([0.78   , 0.76375, 0.76625, 0.76625, 0.77   ])"
            ]
          },
          "metadata": {},
          "execution_count": 26
        }
      ]
    },
    {
      "cell_type": "code",
      "source": [
        "scores.mean()"
      ],
      "metadata": {
        "id": "mjp14KazHCOJ",
        "outputId": "a1f018a3-8bfc-448b-ed37-27a54988780d",
        "colab": {
          "base_uri": "https://localhost:8080/"
        }
      },
      "execution_count": 27,
      "outputs": [
        {
          "output_type": "execute_result",
          "data": {
            "text/plain": [
              "0.76925"
            ]
          },
          "metadata": {},
          "execution_count": 27
        }
      ]
    },
    {
      "cell_type": "markdown",
      "source": [
        "## Learning curve"
      ],
      "metadata": {
        "id": "zNt69u1iUgwS"
      }
    },
    {
      "cell_type": "markdown",
      "source": [
        "A interesting diagnostic tool is the learning curve which shows the evolution of error with respect to the number of samples.\n",
        "\n",
        "**Question** Can you compute such a curve for the two pipelines we have used so far? What can you say about the results?"
      ],
      "metadata": {
        "id": "mxlQDZreUiwR"
      }
    },
    {
      "cell_type": "code",
      "source": [
        "import numpy as np\n",
        "import matplotlib.pyplot as plt\n",
        "from sklearn.model_selection import learning_curve\n",
        "\n",
        "train_sizes, train_scores, test_scores = learning_curve(pipeline, X_train, y_train, cv=5, scoring='accuracy')\n",
        "\n",
        "train_scores_mean = np.mean(train_scores, axis=1)\n",
        "train_scores_std = np.std(train_scores, axis=1)\n",
        "test_scores_mean = np.mean(test_scores, axis=1)\n",
        "test_scores_std = np.std(test_scores, axis=1)\n",
        "\n",
        "plt.figure()\n",
        "plt.title(\"KNeighborsClassifier\")\n",
        "plt.xlabel(\"Training examples\")\n",
        "plt.ylabel(\"Score\")\n",
        "plt.grid()\n",
        "\n",
        "plt.fill_between(train_sizes, train_scores_mean - train_scores_std,\n",
        "                 train_scores_mean + train_scores_std, alpha=0.1,\n",
        "                 color=\"r\")\n",
        "plt.fill_between(train_sizes, test_scores_mean - test_scores_std,\n",
        "                 test_scores_mean + test_scores_std, alpha=0.1, color=\"g\")\n",
        "plt.plot(train_sizes, train_scores_mean, 'o-', color=\"r\",\n",
        "         label=\"Training score\")\n",
        "plt.plot(train_sizes, test_scores_mean, 'o-', color=\"g\",\n",
        "         label=\"Cross-validation score\")\n",
        "\n",
        "plt.legend(loc=\"best\")\n",
        "\n",
        "# Then for LogisticRegression\n",
        "pipeline_lr = Pipeline(steps=[('preprocessor', preprocessor),\n",
        "                              ('classifier', LogisticRegression())]).set_output(transform=\"polars\")\n",
        "\n",
        "train_sizes_lr, train_scores_lr, test_scores_lr = learning_curve(pipeline_lr, X_train, y_train, cv=5, scoring='accuracy')\n",
        "\n",
        "train_scores_mean_lr = np.mean(train_scores_lr, axis=1)\n",
        "train_scores_std_lr = np.std(train_scores_lr, axis=1)\n",
        "test_scores_mean_lr = np.mean(test_scores_lr, axis=1)\n",
        "test_scores_std_lr = np.std(test_scores_lr, axis=1)\n",
        "\n",
        "plt.figure()\n",
        "plt.title(\"LogisticRegression\")\n",
        "plt.xlabel(\"Training examples\")\n",
        "plt.ylabel(\"Score\")\n",
        "plt.grid()\n",
        "\n",
        "plt.fill_between(train_sizes_lr, train_scores_mean_lr - train_scores_std_lr,\n",
        "                 train_scores_mean_lr + train_scores_std_lr, alpha=0.1,\n",
        "                 color=\"r\")\n",
        "plt.fill_between(train_sizes_lr, test_scores_mean_lr - test_scores_std_lr,\n",
        "                 test_scores_mean_lr + test_scores_std_lr, alpha=0.1, color=\"g\")\n",
        "plt.plot(train_sizes_lr, train_scores_mean_lr, 'o-', color=\"r\",\n",
        "         label=\"Training score\")\n",
        "plt.plot(train_sizes_lr, test_scores_mean_lr, 'o-', color=\"g\",\n",
        "         label=\"Cross-validation score\")\n",
        "\n",
        "plt.legend(loc=\"best\")\n",
        "plt.show()"
      ],
      "metadata": {
        "id": "4s65h0wxI6J7",
        "outputId": "4e8da985-66d3-42d0-d3ca-42b4be5f2464",
        "colab": {
          "base_uri": "https://localhost:8080/",
          "height": 927
        }
      },
      "execution_count": 28,
      "outputs": [
        {
          "output_type": "display_data",
          "data": {
            "text/plain": [
              "<Figure size 640x480 with 1 Axes>"
            ],
            "image/png": "[encoded data removed]"
          },
          "metadata": {}
        },
        {
          "output_type": "display_data",
          "data": {
            "text/plain": [
              "<Figure size 640x480 with 1 Axes>"
            ],
            "image/png": "[encoded data removed]"
          },
          "metadata": {}
        }
      ]
    },
    {
      "cell_type": "code",
      "source": [],
      "metadata": {
        "id": "OZMi03F4JJN-"
      },
      "execution_count": null,
      "outputs": []
    }
  ]
}
